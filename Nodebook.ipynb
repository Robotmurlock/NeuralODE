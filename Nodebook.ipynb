{
 "cells": [
  {
   "cell_type": "markdown",
   "id": "52d54628",
   "metadata": {},
   "source": [
    "# Neural Ordinary Differential Equations\n",
    "\n",
    "Prerequisites:\n",
    "- Differential Equations basics\n",
    "- Python and PyTorch basics"
   ]
  },
  {
   "cell_type": "markdown",
   "id": "aadc0fcc",
   "metadata": {},
   "source": [
    "## Revision of differential equations\n",
    "\n",
    "Implicit form of ordinary differential equation is:\n",
    "\n",
    "<center>$\n",
    "\\begin{align}\n",
    "F(\\frac{dz}{dt}, z(t), t) = 0 \\tag{1}\n",
    "\\end{align}\n",
    "$\n",
    "\n",
    "Implicit form is more general than explicit one (every implicit equation can be transformed to explicit but not vice versa). For simplicity only about the explicit form will be used.\n",
    "\n",
    "---\n",
    "\n",
    "Explicit form of ordinary differential equation is:\n",
    "\n",
    "<center>$\n",
    "\\begin{align}\n",
    "\\frac{dz}{dt} = f(z(t), t) \\tag{2}\n",
    "\\end{align}\n",
    "$\n",
    "\n",
    "From the view of dynamical systems, $z(t)$ is state at time t and function $f$ defines change of state (slope). Solving this equation results a family of curves or a single curve if initial state $z_0 = z(t_0)$ is given (each curve in family has its initial state). Let $t_0$ be start time and $t_1$ be end time ($z(t_1)$ is last state). \n",
    "\n",
    "How to solve this equation? Assumption is that start time, state at that start time and function of change is defined then equation might be solver analytically:\n",
    "\n",
    "<center>$\n",
    "\\begin{align}\n",
    "z(t_1) = z(t_0) + \\int_{t_0}^{t_1}{f(z(t), t)dt} \\tag{3}\n",
    "\\end{align}\n",
    "$\n",
    "\n",
    "Problem is that it might be very hard or event impossible to calculate integral value. Instead it is possible to use numerical method which can approximate the value of $z(t_1)$ (or whole curve sequence) by taking small steps and following slope ($\\frac{dz}{dt}$) defined by function $f$. One of simplest numerical methods is [Euler Method](https://en.wikipedia.org/wiki/Euler_method):\n",
    "\n",
    "<center>$\n",
    "\\begin{align}\n",
    "z_{i+1} = z_{i} + h \\cdot f(z_{i}, t_{i}) \\tag{4}\n",
    "\\end{align}\n",
    "$\n",
    "where $z_0 = z(t_0)$ and $z_N = z(t_{last})$\n",
    "\n",
    "![](images/euler_method.jpeg)\n",
    "\n",
    "Detailed explanation of Euler method can be found [here](https://x-engineer.org/euler-integration/).\n",
    "\n",
    "---\n",
    "\n",
    "Example is given for better understanding of Euler method:\n",
    "\n",
    "<center>$\n",
    "\\begin{align}\n",
    "z(t) := sin(t) \\Rightarrow \\frac{dz}{dt} = cos(t)\n",
    "\\end{align}\n",
    "$ \n",
    "\n",
    "In this case $sin(t)$ is solution to differential equation $\\frac{dz}{dt} = cos(t)$. If $\\frac{dz}{dt} = f(z(t), t) = cos(t)$ is solved analytically then it is expected to get approximation of the $sin(t)$ function."
   ]
  },
  {
   "cell_type": "code",
   "execution_count": 47,
   "id": "b45a9de3",
   "metadata": {},
   "outputs": [],
   "source": [
    "# All imports (for full notebook)\n",
    "from abc import ABC, abstractmethod\n",
    "from typing import Callable, Union, Tuple, Any, Optional\n",
    "\n",
    "import torch\n",
    "import torch.nn as nn\n",
    "import torch.nn.functional as F\n",
    "import torchvision\n",
    "\n",
    "from tqdm.notebook import tqdm\n",
    "import matplotlib.pyplot as plt\n",
    "import numpy as np\n",
    "\n",
    "\n",
    "torch.manual_seed(0)\n",
    "np.random.seed(42)"
   ]
  },
  {
   "cell_type": "code",
   "execution_count": 2,
   "id": "d962fb15",
   "metadata": {},
   "outputs": [],
   "source": [
    "# Definition of abstract ODESolver which defines defaul\n",
    "class ODESolver(ABC):\n",
    "    @abstractmethod\n",
    "    def solve(\n",
    "        self, \n",
    "        z0: torch.Tensor, \n",
    "        t0: torch.Tensor, \n",
    "        t1: torch.Tensor, \n",
    "        f: Union[nn.Module, Callable], \n",
    "        return_all_states: bool = False\n",
    "    ) -> Tuple[torch.Tensor, torch.Tensor]:\n",
    "        \"\"\"\n",
    "        Solves ODE\n",
    "\n",
    "        Args:\n",
    "            z0: Start state ~ z(t0)\n",
    "            t0: Start time\n",
    "            t1: End time\n",
    "            f: State change function (slope)\n",
    "            return_all_states: Return all intermediate states\n",
    "\n",
    "        Returns:\n",
    "            End state ~ z(t1) and end time point ~ t1 if return_all_states == False\n",
    "            else return all states and time points\n",
    "        \"\"\"\n",
    "        pass\n",
    "    \n",
    "    def __call__(\n",
    "        self, \n",
    "        z0: torch.Tensor, \n",
    "        t0: torch.Tensor, \n",
    "        t1: torch.Tensor, \n",
    "        f: Union[nn.Module, Callable], \n",
    "        return_all_states: bool = False\n",
    "    ) -> Tuple[torch.Tensor, torch.Tensor]:\n",
    "        \"\"\"\n",
    "        solve() method wrapper\n",
    "        \"\"\"\n",
    "        return self.solve(z0, t0, t1, f, return_all_states=return_all_states)\n",
    "    \n",
    "\n",
    "class EulerMethod(ODESolver):\n",
    "    def __init__(self, max_step_size: float):\n",
    "        \"\"\"\n",
    "        Simplest ODESolver\n",
    "\n",
    "        Args:\n",
    "            max_step_size: Max step size (higher step size ~ lower precision)\n",
    "        \"\"\"\n",
    "        super().__init__()\n",
    "\n",
    "        self._max_step_size = max_step_size\n",
    "\n",
    "    def solve(\n",
    "        self, \n",
    "        z0: torch.Tensor, \n",
    "        t0: torch.Tensor, \n",
    "        t1: torch.Tensor, \n",
    "        f: Union[nn.Module, Callable],\n",
    "        return_all_states: bool = False\n",
    "    ) -> Tuple[torch.Tensor, torch.Tensor]:\n",
    "        # noinspection PyTypeChecker\n",
    "        n_steps = int(torch.ceil(torch.abs(t1 - t0) / self._max_step_size).max().item())\n",
    "        h = (t1 - t0) / n_steps  # step size\n",
    "        \n",
    "\n",
    "        # Initial state\n",
    "        t = t0\n",
    "        z = z0\n",
    "\n",
    "        zs = [z0]\n",
    "        ts = [t0]\n",
    "        for _ in range(n_steps):\n",
    "            z = z + f(z, t) * h\n",
    "            t = t + h\n",
    "            \n",
    "            if return_all_states:\n",
    "                zs.append(z)\n",
    "                ts.append(t)\n",
    "                \n",
    "        if return_all_states:\n",
    "            zs, ts = torch.stack(zs), torch.stack(ts)\n",
    "            return zs, ts\n",
    "\n",
    "        return z, t  # only last state"
   ]
  },
  {
   "cell_type": "code",
   "execution_count": 3,
   "id": "5f83988a",
   "metadata": {},
   "outputs": [
    {
     "data": {
      "image/png": "[encoded data removed]",
      "text/plain": [
       "<Figure size 640x480 with 1 Axes>"
      ]
     },
     "metadata": {},
     "output_type": "display_data"
    }
   ],
   "source": [
    "def cosine_dynamics(x: torch.Tensor, t: torch.Tensor) -> torch.Tensor:\n",
    "    \"\"\"\n",
    "    Cosine function\n",
    "    \n",
    "    Args:\n",
    "        x: Previous state (not relevant but still keeping it as argument for consistency)\n",
    "        t: Time\n",
    "        \n",
    "    Returns:\n",
    "        Cosine value of t\n",
    "    \"\"\"\n",
    "    return torch.cos(t)\n",
    "\n",
    "ts = torch.linspace(1, 10, 100)\n",
    "t0, t1 = torch.tensor(1.0), torch.tensor(10.0)\n",
    "z0 = torch.sin(t0)\n",
    "ode_true = torch.sin(ts)\n",
    "\n",
    "ode_solver = EulerMethod(0.2)\n",
    "zs_hat, ts_hat = ode_solver(z0, t0, t1, cosine_dynamics, return_all_states=True)\n",
    "\n",
    "plt.plot(ts, ode_true, color='red', label='True dynamics')\n",
    "plt.scatter(ts_hat, zs_hat, color='blue', s=10, label='Estimated dynamics states')\n",
    "plt.title('Sinusoid dynamics')\n",
    "plt.xlabel('Time')\n",
    "plt.ylabel('State')\n",
    "plt.legend()\n",
    "plt.show()"
   ]
  },
  {
   "cell_type": "markdown",
   "id": "2a29c8fe",
   "metadata": {},
   "source": [
    "It can be seen that the solver approximates sinusoid function given the change of state at each time point. In this example Euler method uses step `0.2` which is very high. If lower step is used like `0.01` then the method is more accurate and the estimation can visually perfectly match.\n",
    "\n",
    "The question is: Is it possible to learn state change function f? The answer comes with a method (paper) - **Neural Ordinary Differential Equations**"
   ]
  },
  {
   "cell_type": "markdown",
   "id": "8a0d4313",
   "metadata": {},
   "source": [
    "## Combining differential equations with neural networks\n",
    "\n",
    "If function $f$ is learnable function (like a neural network) then dynamics for observed system coult be learnt. In that case there are learnable parameters $\\theta$ as an input to (or as a part of) function f:\n",
    "\n",
    "<center>$\n",
    "\\begin{align}\n",
    "\\frac{dz}{dt} = f(z(t), t, \\theta)\n",
    "\\end{align}\n",
    "$\n",
    "\n",
    "During inference time this is not that much different than classical ordinary differential equation. Euler method (or some more efficient method) can be used to numerically solve $z(t)$. Abstract ODE solver is defined as: $ODESolve(z_0, f, t_0, t_1, \\theta)$\n",
    "\n",
    "![](images/node-basics.drawio.png)\n",
    "\n",
    "Given the input state value $z(t_0)$ solver (with parameters $\\theta$) can be used to get estimated value $\\hat{z}(t_1)$. Goal is to minimize the loss function $L = L(z, \\hat{z})$\n",
    "\n",
    "![](images/node-forward-pass.png)\n",
    "\n",
    "Problem: It might be hard and inefficient to backpropagate through the ODESolver algorithm. Alternative is to use ODESolver as a blackbox but we still need a way to backpropagate throught that blackbox. In next section it will be seen how backpropagation can be performed."
   ]
  },
  {
   "cell_type": "markdown",
   "id": "8043261b",
   "metadata": {},
   "source": [
    "### Pontryagin Adjoint Method\n",
    "\n",
    "Gradients can be computed using Pontryagin adjoint method. Formal proof of this method can be found in [Appendix B.1 of the paper](https://arxiv.org/pdf/1806.07366.pdf). Proof is easy to follow but is excluded from here since it would take a lot of space. With this method it is possible to determine gradient $a(t) = \\frac{dL}{dz(t)}$ of the loss on the hidden state $z(t)$ at each time point. Gradients are calculated backward in time: \n",
    "\n",
    "<center>$\n",
    "\\begin{align}\n",
    "\\frac{a(t)}{dt} = -a(t) \\cdot \\frac{df(z(t), t, \\theta)}{dz(t)} \\tag{5}\n",
    "\\end{align}\n",
    "$\n",
    "\n",
    "ODESolver can be used to calculate $a(t)$ in for all time points $[t_N, t_{N-1}, ..., t_1, t_0]$ backward in time:\n",
    "\n",
    "<center>$\n",
    "\\begin{align}\n",
    "a(t_0) = a(t_N) + \\int_{t_N}^{t_0} \\frac{da(t)}{dt}dt = a(t_N) - \\int_{t_N}^{t_0} a(t) \\cdot \\frac{df(z(t), t, \\theta)}{dz(t)}dt \\approx ODESolve(a(t_N), t_N, t_0, \\frac{df(z(t), t, \\theta)}{dz(t)}) \\tag{6}\n",
    "\\end{align}\n",
    "$\n",
    "\n",
    "Arguments for ODESolve are $a(t_N)$, $t_N$, $t_0$ and $\\frac{df(z(t), t, \\theta)}{dz(t)}$:\n",
    "- <left> $a(t_N)$ is initial state equal to $\\frac{dL}{dz(t_N)}$ and this gradient can be calculated directly from loss function.\n",
    "- $t_N$, $t_0$ are known time points that correspond to the forward pass time points.\n",
    "- $\\frac{df(z(t), t, \\theta)}{dz(t)}$ is calculated using automatic differentiation library (pytorch autograd). Note: It is also required to calculate $z(t)$ at each step (ODESolve backward in time).\n",
    "\n",
    "![](images/node-adjoint-method.png)\n",
    "\n",
    "In previous case it is assumed that loss only depends on last time point $t_N$. If function L depends also on intermediate time points $t_1$, $t_2$, ..., $t_{N-1}$, etc., then adjoint method can be repeated for each of intervals $[t_{N-1}, t_{N-2}]$, $[t_{N-2}, t_{N_3}]$ in backward order and sum up the obtained gradients. That is why there are \"those jumps\" for adjoint curve at each time point (look at the image). At point $t_N$ only $\\frac{dL}{dz(t_N)}$ is considered but at $t_{N-1}$ it is also required add $\\frac{dL}{dz(t_{N-1})}$ (like on the image)."
   ]
  },
  {
   "cell_type": "markdown",
   "id": "2771c175",
   "metadata": {},
   "source": [
    "### Augmented Adjoint Method\n",
    "\n",
    "Next goal is to generalize adjoint method to also gather gradients with respect to time $t$ and constant (they do not depent on time) model parameters $\\theta$. Their differential equations (which defines their function of state change) can be written as:\n",
    "\n",
    "<center>$\n",
    "\\begin{align}\n",
    "\\frac{dt(t)}{dt} = 1, \\frac{d\\theta(t)}{dt} = 0 \\tag{7}\n",
    "\\end{align}\n",
    "$\n",
    "\n",
    "Elements $z$ state, $\\theta$ parameters and $t$ time can be combined into a single augmented state $z_{aug}$:\n",
    "\n",
    "<center>$\n",
    "\\begin{align}\n",
    "\\frac{d}{dt}\n",
    "\\begin{bmatrix}\n",
    "    z \\\\\n",
    "    \\theta \\\\\n",
    "    t\n",
    "\\end{bmatrix}\n",
    "(t) = f_{aug}([z, \\theta, t]) :=\n",
    "\\begin{bmatrix}\n",
    "    \\frac{dz(t)}{dt} \\\\\n",
    "    \\frac{d\\theta(t)}{dt} \\\\\n",
    "    \\frac{dt(t)}{dt}\n",
    "\\end{bmatrix}\n",
    "= \n",
    "\\begin{bmatrix}\n",
    "    f(z(t), t, \\theta) \\\\\n",
    "    0 \\\\\n",
    "    1\n",
    "\\end{bmatrix} \\tag{8}\n",
    "\\end{align} \n",
    "$\n",
    "\n",
    "Then corresponding $a_{aug}$ is:\n",
    "\n",
    "<center>$\n",
    "\\begin{align}\n",
    "a_{aug}(t) := \n",
    "\\begin{bmatrix}\n",
    "    a \\\\\n",
    "    a_{\\theta} \\\\\n",
    "    a_t\n",
    "\\end{bmatrix}\n",
    "(t)\n",
    "= \n",
    "\\begin{bmatrix}\n",
    "    \\frac{dL}{dz(t)} \\\\\n",
    "    \\frac{dL}{d\\theta(t)} \\\\\n",
    "    \\frac{dL}{dt(t)}\n",
    "\\end{bmatrix} \\tag{9}\n",
    "\\end{align}\n",
    "$\n",
    "\n",
    "Based on adjoint method formula we have:\n",
    "\n",
    "<center>$\n",
    "\\begin{align}\n",
    "\\frac{da_{aug}(t)}{dt} = -a_{aug}(t) \\cdot \\frac{df_{aug}(z_{aug}(t), t, \\theta)}{dz_{aug}} \\tag{10}\n",
    "\\end{align}\n",
    "$\n",
    "    \n",
    "Element $\\frac{df_{aug}(z_{aug}(t), t, \\theta)}{dz_{aug}}$ is equal to Jacobian of $f$ which has form:\n",
    "   \n",
    "<center>$\n",
    "\\begin{align}\n",
    "\\begin{bmatrix}\n",
    "    \\frac{df}{dz} & \\frac{df}{d\\theta} & \\frac{df}{dt} \\\\\n",
    "    0 & 0 & 0 \\\\\n",
    "    0 & 0 & 0\n",
    "\\end{bmatrix} \\tag{11}\n",
    "\\end{align}\n",
    "$\n",
    "    \n",
    "Element $a_{aug}(t)$ is equal to $[a(t), a_{\\theta}(t), a_t(t)]$ and by multiplying it with previous element (matrix multiplication: 1x3 times 3x3 gives 1x3) we get: \n",
    "    \n",
    "<center>$\n",
    "\\begin{align}\n",
    "\\frac{da_{aug}(t)}{dt} = -[a \\cdot \\frac{df}{dz}, a \\cdot \\frac{df}{d\\theta}, a \\cdot \\frac{df}{dt}] \\tag{12}\n",
    "\\end{align}\n",
    "$\n",
    "    \n",
    "Last missing element for augmented state method is to calculate initial states $a_t(t_{N})$ and $a_{\\theta}(t_N)$ (we know $a(t_{N})$ from original adjoint method). Let $a_{\\theta}(t_N) = 0$:\n",
    "    \n",
    "<center>$\n",
    "\\begin{align}\n",
    "a_{\\theta}(t_0) = a_{\\theta}(t_N) - \\int_{t_N}^{t_0}{a(t) \\cdot \\frac{df(z(t), t)dt}{d\\theta}}\n",
    "= - \\int_{t_N}^{t_0}{a(t) \\cdot \\frac{df(z(t), t)dt}{d\\theta}} \\tag{13}\n",
    "\\end{align}\n",
    "$\n",
    "    \n",
    "Similar with time parameter: \n",
    "\n",
    "<center>$\n",
    "\\begin{align}\n",
    "a_t(t_0) = a_t(t_N) - \\int_{t_N}^{t_0}{a(t) \\cdot \\frac{df(z(t), t)dt}{dt}} \\tag{14}\n",
    "\\end{align}\n",
    "$\n",
    "    \n",
    "For initial (starting) state it is required to have $a_t(t_N)$:\n",
    "    \n",
    "<center>$\n",
    "\\begin{align}\n",
    "a_t(t_N) = \\frac{dL}{dt(t_N)} = \\frac{dL}{dz(t_N)}^T \\cdot \\frac{dz(t_N)}{dt(t_N)} \n",
    "= a(t_N)^T \\cdot f(z(t_N), t_N, \\theta) \\tag{15}\n",
    "\\end{align}\n",
    "$"
   ]
  },
  {
   "cell_type": "markdown",
   "id": "78389234",
   "metadata": {},
   "source": [
    "### Full Algorithm\n",
    "\n",
    "**References:**\n",
    "- $t_1$ - initial state time point\n",
    "- $t_0$ - end state time point (adjoin method goes backward in time)\n",
    "- $\\theta$ - model parameters\n",
    "- $z(t_1)$ - initial state\n",
    "- $\\frac{dL}{dz(t_1)}$ - loss gradient (implementation: calculated using pytorch autograd - automatic differentiation module)\n",
    "\n",
    "![](images/node-algorithm.png)\n",
    "\n",
    "**Implementation notes:**\n",
    "- step 1: $\\frac{dL}{dt(t_1)}$ - This gradient can be calcualted directly from (15) (implementation: simple matrix multiplication)\n",
    "- step 2: $s_0$ - Initial augmented state (implementation: simple vector or tensor concatenation)\n",
    "- step 3: aug_dynamics - Augmented adjoint method (implementation: based on ODEF module - use PyTorch automatic differentiation module to calculate Jacobian-vector product)\n",
    "- step 4: Apply ODESolve and unpack vector (or tensor)"
   ]
  },
  {
   "cell_type": "markdown",
   "id": "ebde1204",
   "metadata": {},
   "source": [
    "## Benefits of NODE (Neural Ordinary Differential Equations) models\n",
    "\n",
    "This sections contains set of explained NODE benefits.\n",
    "\n",
    "### Memory efficiency\n",
    "\n",
    "If ODESolver are used as a blackbox and direct backpropagation through them (algorithm) is avoided then there is no need to store intermediate quantities of the forward pass and models can be trained with cost as a function of depth (one of the main drawbacks of deep neural networks)\n",
    "\n",
    "### Adaptive computation\n",
    "\n",
    "If step size is decreased for Euler method (or any other solver) then the method is more accurate but requires more computational power. When step size is increased for Euler method (or any other solver) then the method is less accurate but requires less computation power. It is possible to use change and adapt accuracy and computation power requirements. Example: Use lower step size during training but higher step size during inference in order for the model to work in real time.\n",
    "\n",
    "This can be one of the use cases for NODE models.\n",
    "\n",
    "Further reading: \n",
    "- [Vid-ODE: Continuous-Time Video Generation with Neural Ordinary Differential Equation](https://arxiv.org/pdf/2010.08188.pdf)\n",
    "\n",
    "### Scalable and invertible normalizing flows\n",
    "\n",
    "Work in progress...\n",
    "\n",
    "### Continuous time-series models\n",
    "\n",
    "One of the main assumptions of time series models like RNN (LSTM, GRU) is that data steam comes with constant period between two time points (distance between two time points is constant in case of no missing data). NODE model can naturally work with data stream with non constant period between two time points.\n",
    "\n",
    "This would be one of the main usecases for NODE models: \n",
    "- Incorporating data which arrives at arbitrary times.\n",
    "- Working with time series data which has many (consecutive) missing values.\n",
    "- Otherwise (in case of regularly sampled time series) it might be better to use standard RNN models.\n",
    "\n",
    "Further reading: \n",
    "- [Latent ODEs for Irregularly-Sampled Time Series](https://proceedings.neurips.cc/paper/2019/file/42a6845a557bef704ad8ac9cb4461d43-Paper.pdf)\n",
    "- [Neural Controlled Differential Equations for Irregular Time Series](https://proceedings.neurips.cc/paper/2020/file/4a5876b450b45371f6cfe5047ac8cd45-Paper.pdf)"
   ]
  },
  {
   "cell_type": "markdown",
   "id": "84236ccc",
   "metadata": {},
   "source": [
    "## Implementing NODE from scratch\n",
    "\n",
    "It is advised to read [A Gentle Introduction to PyTorch autograd](https://pytorch.org/tutorials/beginner/blitz/autograd_tutorial.html) before going through implementation. Based on **Full algorithm section** (recheck implementation notes and algorithm pseudocode).\n",
    "\n",
    "Reminder:\n",
    "<center>$\n",
    "\\begin{align}\n",
    "\\frac{a(t)}{dt} = -a(t) \\cdot \\frac{df(z(t), t, \\theta)}{dz(t)}\n",
    "\\end{align}\n",
    "$\n",
    "    \n",
    "In case $a(t)$ is a vector then it is more accurate to write:\n",
    "    \n",
    "<center>$\n",
    "\\begin{align}\n",
    "\\frac{a(t)}{dt} = -a(t)^T \\cdot \\frac{df(z(t), t, \\theta)}{dz(t)}\n",
    "\\end{align}\n",
    "$\n",
    "   \n",
    "Pytorch autograd function [torchgrad.autograd.grad](https://pytorch.org/docs/stable/generated/torch.autograd.grad.html#torch.autograd.grad) is used to calculate vector-Jacobian product where \"vector\" is equal to $a$."
   ]
  },
  {
   "cell_type": "code",
   "execution_count": 4,
   "id": "1338ab70",
   "metadata": {},
   "outputs": [],
   "source": [
    "DefaultODESolver = EulerMethod(0.05)  # Default ODESolver"
   ]
  },
  {
   "cell_type": "code",
   "execution_count": 5,
   "id": "94d893a1",
   "metadata": {},
   "outputs": [],
   "source": [
    "# This module represents state change function in ODE\n",
    "class ODEF(nn.Module):\n",
    "    \"\"\"\n",
    "    Parametrized dynamics function (dz/dt) superclass\n",
    "    (does not have forward pass defined)\n",
    "    \"\"\"\n",
    "    # noinspection PyMethodMayBeStatic\n",
    "    def forward_with_grad(self, z: torch.Tensor, t: torch.Tensor, grad_outputs: torch.Tensor) \\\n",
    "            -> Tuple[torch.Tensor, torch.Tensor, torch.Tensor, torch.Tensor]:\n",
    "        \"\"\"\n",
    "        Performs forward pass and calculates:\n",
    "            - da/dt = df/dz * a\n",
    "            - da_t/dt = df/dt * a\n",
    "            - a_theta/dt = df/dtheta * a\n",
    "\n",
    "        Args:\n",
    "            z: State\n",
    "            t: Time\n",
    "            grad_outputs: Grad outputs (a)\n",
    "\n",
    "        Returns:\n",
    "            z, a_dfdz, a_dfdt, a_dfdtheta\n",
    "        \"\"\"\n",
    "        batch_size = z.shape[0]  # required for postprocessing\n",
    "\n",
    "        z_end = self.forward(z, t)\n",
    "        a = grad_outputs  # dL/dz(t)\n",
    "\n",
    "        # Reference: `https://pytorch.org/tutorials/beginner/blitz/autograd_tutorial.html`\n",
    "        # - Autograd performs operation J.T @ v (numpy notation)\n",
    "        #   where J is Jacobian and v is output gradient (example: loss)\n",
    "        # - In this case: v == a, and J.T == df/dp where p is parameter (z, t or theta)\n",
    "        #   so we get df/dz * a, df/dt * a and df/dtheta * a\n",
    "        #   which is exactly what we need for a, a_t and a_theta\n",
    "        parameters = tuple(self.parameters())\n",
    "        a_dfdz, a_dfdt, *a_dfdtheta = torch.autograd.grad(\n",
    "            outputs=(z_end,), # forward pass outputs\n",
    "            inputs=(z, t) + parameters,  # z, t and theta\n",
    "            grad_outputs=(a,),  # gradient vector of the loss\n",
    "            allow_unused=True,\n",
    "            retain_graph=True\n",
    "        )\n",
    "\n",
    "        # grad function automatically sums gradients -> expanding them\n",
    "        # autograd returns None if variables are not used in forward pass\n",
    "        # -> replacing None values with zero gradients\n",
    "        if a_dfdz is None:\n",
    "            a_dfdz = torch.zeros_like(z).to(z)\n",
    "\n",
    "        if a_dfdtheta is not None:\n",
    "            a_dfdtheta = torch.cat([p_grad.flatten() for p_grad in a_dfdtheta]).unsqueeze(0)\n",
    "            a_dfdtheta = a_dfdtheta.expand(batch_size, -1) / batch_size\n",
    "        else:\n",
    "            a_dfdtheta = torch.zeros(batch_size, len(parameters)).to(z)\n",
    "\n",
    "        if a_dfdt is not None:\n",
    "            a_dfdt = a_dfdt.expand(batch_size, 1) / batch_size\n",
    "        else:\n",
    "            a_dfdt = torch.zeros(batch_size, 1).to(z)\n",
    "\n",
    "        return z_end, a_dfdz, a_dfdt, a_dfdtheta\n",
    "\n",
    "    @property\n",
    "    def flat_parameters(self):\n",
    "        \"\"\"\n",
    "        Returns: Returns flat parameters tensor\n",
    "        \"\"\"\n",
    "        return torch.cat([p.flatten() for p in self.parameters()])"
   ]
  },
  {
   "cell_type": "markdown",
   "id": "c5318e9d",
   "metadata": {},
   "source": [
    "### Minibatches in NODE\n",
    "\n",
    "It is possible to apply ODESolver in parallel for multiple states $z_{i}(t)$ if they share same intermediate time points in solver (this can be forced). In that case all states in single time point can be stacked and processed as a single \"batch\". Minibatch format: (time_length, batch_size, state_tensor_shape)."
   ]
  },
  {
   "cell_type": "code",
   "execution_count": 27,
   "id": "c2c8ddf1",
   "metadata": {},
   "outputs": [],
   "source": [
    "# Implementation of Adjoint method\n",
    "class ODEAdjoint(torch.autograd.Function):\n",
    "    @staticmethod\n",
    "    def create_aug_dynamics(batch_size, shape, func) -> Callable:\n",
    "        \"\"\"\n",
    "        Creates augmented dynamics function\n",
    "\n",
    "        Args:\n",
    "            batch_size: Batch size\n",
    "            shape: Shape of z tensor\n",
    "            func: State change function\n",
    "\n",
    "        Returns:\n",
    "            augmented dynamics functions\n",
    "        \"\"\"\n",
    "        n_dim = round(np.prod(shape))\n",
    "\n",
    "        def aug_dynamics(aug_z: torch.Tensor, t: torch.Tensor) -> torch.Tensor:\n",
    "            \"\"\"\n",
    "            Augmented state change function\n",
    "\n",
    "            Args:\n",
    "                aug_z: flat tensor (z, a, a_t, a_theta) with shape (batch_size, n_dim+ndim+1+n_params)\n",
    "                    where n_dim is z flat tensor dimension and n_params is theta (params) flat tensor dimensions\n",
    "                t: Time\n",
    "\n",
    "            Returns:\n",
    "                Augmented (z_end, -a_dfdz, -a_dfdt, -a_dfdtheta) as flat tensor\n",
    "            \"\"\"\n",
    "            # Input is flat (z, a, a_t, a_theta) - ignore a_t and a_theta\n",
    "            z, a = aug_z[:, :n_dim], aug_z[:, n_dim:2*n_dim]\n",
    "\n",
    "            z = z.view(batch_size, *shape)\n",
    "            a = a.view(batch_size, *shape)\n",
    "            with torch.set_grad_enabled(True):\n",
    "                z = z.requires_grad_()\n",
    "                t = t.requires_grad_()\n",
    "                z_end, a_dfdz, a_dfdt, a_dfdtheta = func.forward_with_grad(z, t, grad_outputs=a)\n",
    "\n",
    "            # Output has to be single tensor\n",
    "            # In adjoint a(t) formula we use negative value of integral\n",
    "            z_end = z_end.view(batch_size, n_dim) # flatten for concat\n",
    "            a_dfdz = a_dfdz.view(batch_size, n_dim)  # flatten for concat\n",
    "            return torch.cat([z_end, -a_dfdz, -a_dfdtheta, -a_dfdt], dim=-1)  # TODO: Reorder dfdt and dfdtheta\n",
    "\n",
    "        return aug_dynamics\n",
    "\n",
    "    @staticmethod\n",
    "    def forward(ctx: Any, z0: torch.Tensor, t: torch.Tensor, flat_theta: torch.Tensor, func: ODEF) -> torch.Tensor:\n",
    "        # z.shape == (time_len, batch_size, *vector_shape)\n",
    "        # z0.shape == (batch_size, *vector_shape)\n",
    "        # t.shape == (time_len, 1, 1)\n",
    "        assert len(t.shape) == 3, f'Expected shape is (time_len, 1, 1) but found {t.shape}'\n",
    "        n_steps = t.shape[0]\n",
    "\n",
    "        zs = [z0]\n",
    "        with torch.no_grad():\n",
    "            # ODESolver is used a blackbox (disable autograd)\n",
    "            for i in range(n_steps - 1):\n",
    "                z0, _ = DefaultODESolver.solve(z0, t[i], t[i+1], func)\n",
    "                zs.append(z0)\n",
    "\n",
    "        zs = torch.stack(zs)  # Stack all states into a single vector\n",
    "        ctx.func = func\n",
    "        ctx.save_for_backward(zs, t, flat_theta)\n",
    "        return zs\n",
    "\n",
    "    @staticmethod\n",
    "    def jvp(ctx: Any, dLdz: torch.Tensor) -> Tuple[torch.Tensor, torch.Tensor, torch.Tensor, None]:\n",
    "        \"\"\"\n",
    "        dLdz shape: time_len, batch_size, *z_shape\n",
    "        \"\"\"\n",
    "        func = ctx.func\n",
    "        z, t, flat_parameters = ctx.saved_tensors\n",
    "        time_len, batch_size, *z_shape = z.size()\n",
    "        n_dim = round(np.prod(z_shape))\n",
    "        n_params = flat_parameters.shape[0]\n",
    "\n",
    "        augmented_dynamics = ODEAdjoint.create_aug_dynamics(batch_size, z_shape, func)\n",
    "\n",
    "        dLdz = dLdz.view(time_len, batch_size, n_dim)  # flatten dLdz for convenience\n",
    "        with torch.no_grad():\n",
    "            # Variables to store adjoint states\n",
    "            a = torch.zeros(batch_size, n_dim).to(dLdz)\n",
    "            a_theta = torch.zeros(batch_size, n_params).to(dLdz)\n",
    "            a_t = torch.zeros(time_len, batch_size, 1).to(dLdz)  # adjoint t needs to be stored for all timestamps\n",
    "\n",
    "            for i_t in range(time_len-1, 0, -1):\n",
    "                # Iteration steps:\n",
    "                # 1. Form augmented state\n",
    "                # 2. Use ODESolve with augmented dynamics\n",
    "                # Calculate z backward in time (required for a(t) evaluation and augmented state)\n",
    "                z_i = z[i_t]\n",
    "                t_i = t[i_t]\n",
    "                dzdt_i = func(z_i, t_i).view(batch_size, n_dim)\n",
    "\n",
    "                # Math details: For augmented state we need (z, a, a_t, a_theta)\n",
    "                # a_t = dL/dt\n",
    "                # dL/dt = dL/dz(t) @ dz(t)/dt\n",
    "                #       = a(t) * func(z, i, theta)\n",
    "                # Note: we don't need theta in implementation since it is part of func (Module object)\n",
    "                # Implementation details: L is scalar, t is scalar, z is vector of dimension n\n",
    "                # hence dLdz shape is (1, n) and dzdt shape is (1, n) and dLdt shape is (1, 1) - vector scalar product\n",
    "                dLdz_i = dLdz[i_t]\n",
    "                # bmm is batch matrix multiplication (in parallel)\n",
    "                dLdt_i = torch.bmm(torch.transpose(dLdz_i.unsqueeze(-1), 1, 2), dzdt_i.unsqueeze(-1))[:, 0]\n",
    "\n",
    "                # Form augmented state z0_aug = (z, a, a_t, a_theta) = (z, dL/dz, dL/dt, dL/dtheta)\n",
    "                # We need to sum up gradients of loss function for all timestamps backward in time\n",
    "                # a_theta is set to 0\n",
    "                a = a + dLdz_i\n",
    "                a_t[i_t] = a_t[i_t] - dLdt_i\n",
    "                a_theta_i = torch.zeros(batch_size, n_params).to(z_i)  # We defined dL/dtheta as 0\n",
    "                z_i = z_i.view(batch_size, n_dim) # flatten for concat\n",
    "                z0_aug = torch.cat([z_i, a, a_t[i_t], a_theta_i], dim=-1)\n",
    "\n",
    "                # Solve augmented system backwards\n",
    "                dzdt_aug, _ = DefaultODESolver.solve(z0_aug, t_i, t[i_t-1], augmented_dynamics)\n",
    "\n",
    "                # Unpack solved backwards augmented system\n",
    "                a[:] = dzdt_aug[:, n_dim:2*n_dim]\n",
    "                a_theta[:] += dzdt_aug[:, 2*n_dim:2*n_dim + n_params]\n",
    "                a_t[i_t-1] = dzdt_aug[:, 2*n_dim + n_params:]\n",
    "\n",
    "            ## Adjust 0 time adjoint with direct gradients\n",
    "            # Compute direct gradients\n",
    "            dzdt_0 = func(z[0], t[0])\n",
    "            dLdz_0 = dLdz[0]\n",
    "            dLdt_0 = torch.bmm(torch.transpose(dLdz_0.unsqueeze(-1), 1, 2), dzdt_0.view(batch_size, -1).unsqueeze(-1))[:, 0]\n",
    "\n",
    "            # Adjust adjoint states\n",
    "            a += dLdz_0\n",
    "            a_t[0] = a_t[0] - dLdt_0\n",
    "        return a.view(batch_size, *z_shape), a_t, a_theta, None\n",
    "\n",
    "    @staticmethod\n",
    "    def backward(ctx: Any, dLdz: torch.Tensor) -> Tuple[torch.Tensor, torch.Tensor, torch.Tensor, None]:\n",
    "        # Alias for jvp\n",
    "        return ODEAdjoint.jvp(ctx, dLdz)"
   ]
  },
  {
   "cell_type": "code",
   "execution_count": 28,
   "id": "3a643c7b",
   "metadata": {},
   "outputs": [],
   "source": [
    "class NeuralODE(nn.Module):\n",
    "    \"\"\"\n",
    "    Wrapper for ADJoint function\n",
    "    \"\"\"\n",
    "    def __init__(self, func: ODEF):\n",
    "        super(NeuralODE, self).__init__()\n",
    "        self.func = func\n",
    "\n",
    "    def forward(self, z0: torch.Tensor, t: torch.Tensor, full_sequence: bool = False) -> torch.Tensor:\n",
    "        z = ODEAdjoint.apply(z0, t, self.func.flat_parameters, self.func)\n",
    "\n",
    "        if full_sequence:\n",
    "            return z\n",
    "        return z[-1]"
   ]
  },
  {
   "cell_type": "markdown",
   "id": "220586d9",
   "metadata": {},
   "source": [
    "## Toy Example: Spiral Dynamics\n",
    "\n",
    "Process for training NODE does not differ from training normal neural networks."
   ]
  },
  {
   "cell_type": "code",
   "execution_count": 29,
   "id": "2b15a230",
   "metadata": {},
   "outputs": [
    {
     "data": {
      "image/png": "[encoded data removed]",
      "text/plain": [
       "<Figure size 640x480 with 1 Axes>"
      ]
     },
     "metadata": {},
     "output_type": "display_data"
    }
   ],
   "source": [
    "# Testing NODE with \"pretrained\" (predefined weights) model\n",
    "class Linear2dTimeInvariantODEF(ODEF):\n",
    "    def __init__(self, W: Optional[torch.Tensor] = None):\n",
    "        \"\"\"\n",
    "        Special case of 2d ODEF\n",
    "        \n",
    "        Linear - applies linear transformation\n",
    "        TimeInvariant - does not use `t` input value\n",
    "        \n",
    "        Args: \n",
    "            W: 2d matrix (parameters)\n",
    "        \"\"\"\n",
    "        super(Linear2dTimeInvariantODEF, self).__init__()\n",
    "        assert W is None or W.shape == (2, 2), f'Wrong shape for weights! Got {W.shape} but expected (2, 2)!'\n",
    "        \n",
    "        self._linear = nn.Linear(2, 2, bias=False)\n",
    "        if W is not None:\n",
    "            self._linear.weight.data = W\n",
    "        \n",
    "    def forward(self, z: torch.Tensor, t: torch.Tensor) -> torch.Tensor:\n",
    "        return self._linear(z)\n",
    "\n",
    "    \n",
    "def plot_2d_state_sequence(zs: np.ndarray, color: str = 'blue', title: str = 'Dynamics', label: str = '') -> None:\n",
    "    assert len(zs.shape) >= 3 and zs.shape[1] == 1\n",
    "    plt.plot(zs[:, 0, 0], zs[:, 0, 1], color=color, label=label)\n",
    "    plt.xlabel('z-x')\n",
    "    plt.ylabel('z-y')\n",
    "    plt.title(title)\n",
    "    \n",
    "    \n",
    "\n",
    "# Spiral dynamics example\n",
    "spiral_dynamics = Linear2dTimeInvariantODEF(torch.tensor([[-0.1, -1.0], [1.0, -0.1]]))  # dynamics definition\n",
    "node_spiral_dynamics = NeuralODE(spiral_dynamics)  # node wrapper\n",
    "ts = torch.linspace(0, 30, 200).view(-1, 1, 1)  # time points\n",
    "z0 = torch.tensor([[0.6, 0.3]])  # initial state\n",
    "\n",
    "zs = node_spiral_dynamics(z0, ts, full_sequence=True)\n",
    "zs = zs.detach().cpu().numpy()\n",
    "    \n",
    "plot_2d_state_sequence(zs, title='Spiral dynamics')\n",
    "plt.show()"
   ]
  },
  {
   "cell_type": "markdown",
   "id": "329972fc",
   "metadata": {},
   "source": [
    "### Training \n",
    "\n",
    "Goal is to initialize random weights and train model to learn spiral dynamics."
   ]
  },
  {
   "cell_type": "code",
   "execution_count": 9,
   "id": "5450b660",
   "metadata": {},
   "outputs": [],
   "source": [
    "def train(\n",
    "    model: NeuralODE, \n",
    "    zs_true: torch.Tensor, \n",
    "    ts: torch.Tensor,\n",
    "    n_steps: int = 1000\n",
    ") -> None:\n",
    "    optimizer = torch.optim.Adam(model.parameters(), lr=1e-2)\n",
    "    loss_func = nn.MSELoss()\n",
    "    n_time_points = zs.shape[0]\n",
    "    \n",
    "    history = []\n",
    "    loss_ema = 0.0\n",
    "    \n",
    "    with tqdm(range(1, n_steps+1)) as pbar:\n",
    "        for step_index in pbar:\n",
    "            # Sample batch\n",
    "            start_time_point_index = np.random.randint(0, n_time_points-2)\n",
    "            delta = np.random.randint(2, 32)\n",
    "            end_time_point_index = np.random.randint(start_time_point_index+1, \n",
    "                min(start_time_point_index + delta, n_time_points-1))\n",
    "\n",
    "            zs_true_sample = zs_true[start_time_point_index:end_time_point_index]\n",
    "            ts_sample = ts[start_time_point_index:end_time_point_index]\n",
    "            z0 = zs_true_sample[0]\n",
    "\n",
    "            # forward\n",
    "            zs_hat = model(z0, ts_sample, full_sequence=True)\n",
    "\n",
    "            # loss\n",
    "            loss = loss_func(zs_hat, zs_true_sample)\n",
    "            loss_scalar = loss.detach().cpu().item()\n",
    "            history.append(loss_scalar)\n",
    "            loss_ema = loss_ema * 0.9 + loss * 0.1\n",
    "\n",
    "            # backward\n",
    "            optimizer.zero_grad()\n",
    "            loss.backward(retain_graph=True)\n",
    "            optimizer.step()\n",
    "            \n",
    "            pbar.set_description(f'Mean Squared Error Loss: {loss_ema.detach().cpu().item():.4f}')\n",
    "        \n",
    "    return history"
   ]
  },
  {
   "cell_type": "code",
   "execution_count": 10,
   "id": "bf02bb04",
   "metadata": {},
   "outputs": [
    {
     "data": {
      "application/vnd.jupyter.widget-view+json": {
       "model_id": "f98ebda17b3f4df08241e77690230d3c",
       "version_major": 2,
       "version_minor": 0
      },
      "text/plain": [
       "  0%|          | 0/2500 [00:00<?, ?it/s]"
      ]
     },
     "metadata": {},
     "output_type": "display_data"
    },
    {
     "data": {
      "image/png": "[encoded data removed]",
      "text/plain": [
       "<Figure size 640x480 with 1 Axes>"
      ]
     },
     "metadata": {},
     "output_type": "display_data"
    }
   ],
   "source": [
    "# Real dynamics (ground truth)\n",
    "spiral_dynamics = Linear2dTimeInvariantODEF(torch.tensor([[-0.1, -1.0], [1.0, -0.1]]))  # dynamics definition\n",
    "node_spiral_dynamics = NeuralODE(spiral_dynamics)  # node wrapper\n",
    "\n",
    "# Model with random weights to learn the dynamics\n",
    "node_model = NeuralODE(Linear2dTimeInvariantODEF())\n",
    "\n",
    "# Create dataset - train\n",
    "ts_train = torch.linspace(0, 30, 200).view(-1, 1, 1)  # time points\n",
    "z0_train = torch.tensor([[0.6, 0.3]])  # initial state\n",
    "zs_train = node_spiral_dynamics(z0_train, ts_train, full_sequence=True)\n",
    "zs_train = zs_train + torch.randn_like(zs_train) * 0.01  # add noise\n",
    "\n",
    "# Create dataset - val\n",
    "ts_val = torch.linspace(30, 35, 33).view(-1, 1, 1)  # time points\n",
    "z0_val = zs_train[-1]\n",
    "zs_val = node_spiral_dynamics(z0_val, ts_val, full_sequence=True) # no noise\n",
    "\n",
    "# Train model\n",
    "history = train(node_model, zs_train, ts_train, n_steps=2500)\n",
    "\n",
    "# Plot training history\n",
    "plt.plot(history, color='blue')\n",
    "plt.xlabel('Step')\n",
    "plt.ylabel('MSE')\n",
    "plt.title('Training history')\n",
    "plt.show()"
   ]
  },
  {
   "cell_type": "code",
   "execution_count": 11,
   "id": "a61d5d3e",
   "metadata": {},
   "outputs": [
    {
     "data": {
      "text/plain": [
       "Parameter containing:\n",
       "tensor([[-0.0846, -1.0096],\n",
       "        [ 0.9807, -0.1004]], requires_grad=True)"
      ]
     },
     "execution_count": 11,
     "metadata": {},
     "output_type": "execute_result"
    }
   ],
   "source": [
    "# Weights should be close to real dynamics\n",
    "node_model.func._linear.weight"
   ]
  },
  {
   "cell_type": "code",
   "execution_count": 24,
   "id": "eedc96a0",
   "metadata": {
    "scrolled": true
   },
   "outputs": [
    {
     "ename": "TypeError",
     "evalue": "forward() got an unexpected keyword argument 'full_sequence'",
     "output_type": "error",
     "traceback": [
      "\u001b[0;31m---------------------------------------------------------------------------\u001b[0m",
      "\u001b[0;31mTypeError\u001b[0m                                 Traceback (most recent call last)",
      "Cell \u001b[0;32mIn[24], line 2\u001b[0m\n\u001b[1;32m      1\u001b[0m \u001b[38;5;66;03m# Visualize model results (on training and validation datasets)\u001b[39;00m\n\u001b[0;32m----> 2\u001b[0m zs_train_hat \u001b[38;5;241m=\u001b[39m \u001b[43mnode_model\u001b[49m\u001b[43m(\u001b[49m\u001b[43mz0_train\u001b[49m\u001b[43m,\u001b[49m\u001b[43m \u001b[49m\u001b[43mts_train\u001b[49m\u001b[43m,\u001b[49m\u001b[43m \u001b[49m\u001b[43mfull_sequence\u001b[49m\u001b[38;5;241;43m=\u001b[39;49m\u001b[38;5;28;43;01mTrue\u001b[39;49;00m\u001b[43m)\u001b[49m\n\u001b[1;32m      3\u001b[0m zs_train_hat \u001b[38;5;241m=\u001b[39m zs_train_hat\u001b[38;5;241m.\u001b[39mdetach()\u001b[38;5;241m.\u001b[39mcpu()\u001b[38;5;241m.\u001b[39mnumpy()\n\u001b[1;32m      5\u001b[0m zs_val_hat \u001b[38;5;241m=\u001b[39m node_model(z0_val, ts_val, full_sequence\u001b[38;5;241m=\u001b[39m\u001b[38;5;28;01mTrue\u001b[39;00m)\n",
      "File \u001b[0;32m~/Desktop/personal-projects/NeuralODE-Tutorial/venv/lib/python3.8/site-packages/torch/nn/modules/module.py:1190\u001b[0m, in \u001b[0;36mModule._call_impl\u001b[0;34m(self, *input, **kwargs)\u001b[0m\n\u001b[1;32m   1186\u001b[0m \u001b[38;5;66;03m# If we don't have any hooks, we want to skip the rest of the logic in\u001b[39;00m\n\u001b[1;32m   1187\u001b[0m \u001b[38;5;66;03m# this function, and just call forward.\u001b[39;00m\n\u001b[1;32m   1188\u001b[0m \u001b[38;5;28;01mif\u001b[39;00m \u001b[38;5;129;01mnot\u001b[39;00m (\u001b[38;5;28mself\u001b[39m\u001b[38;5;241m.\u001b[39m_backward_hooks \u001b[38;5;129;01mor\u001b[39;00m \u001b[38;5;28mself\u001b[39m\u001b[38;5;241m.\u001b[39m_forward_hooks \u001b[38;5;129;01mor\u001b[39;00m \u001b[38;5;28mself\u001b[39m\u001b[38;5;241m.\u001b[39m_forward_pre_hooks \u001b[38;5;129;01mor\u001b[39;00m _global_backward_hooks\n\u001b[1;32m   1189\u001b[0m         \u001b[38;5;129;01mor\u001b[39;00m _global_forward_hooks \u001b[38;5;129;01mor\u001b[39;00m _global_forward_pre_hooks):\n\u001b[0;32m-> 1190\u001b[0m     \u001b[38;5;28;01mreturn\u001b[39;00m \u001b[43mforward_call\u001b[49m\u001b[43m(\u001b[49m\u001b[38;5;241;43m*\u001b[39;49m\u001b[38;5;28;43minput\u001b[39;49m\u001b[43m,\u001b[49m\u001b[43m \u001b[49m\u001b[38;5;241;43m*\u001b[39;49m\u001b[38;5;241;43m*\u001b[39;49m\u001b[43mkwargs\u001b[49m\u001b[43m)\u001b[49m\n\u001b[1;32m   1191\u001b[0m \u001b[38;5;66;03m# Do not call functions when jit is used\u001b[39;00m\n\u001b[1;32m   1192\u001b[0m full_backward_hooks, non_full_backward_hooks \u001b[38;5;241m=\u001b[39m [], []\n",
      "\u001b[0;31mTypeError\u001b[0m: forward() got an unexpected keyword argument 'full_sequence'"
     ]
    }
   ],
   "source": [
    "# Visualize model results (on training and validation datasets)\n",
    "zs_train_hat = node_model(z0_train, ts_train, full_sequence=True)\n",
    "zs_train_hat = zs_train_hat.detach().cpu().numpy()\n",
    "\n",
    "zs_val_hat = node_model(z0_val, ts_val, full_sequence=True)\n",
    "zs_val_hat = zs_val_hat.detach().cpu().numpy()\n",
    "\n",
    "zs_train = zs_train.detach().cpu().numpy()\n",
    "zs_val = zs_val.detach().cpu().numpy()\n",
    "\n",
    "plt.figure(figsize=(10, 7))\n",
    "plot_2d_state_sequence(zs_train, color='cyan', label='train - true')\n",
    "plot_2d_state_sequence(zs_train_hat, color='blue', label='train - prediction')\n",
    "plot_2d_state_sequence(zs_val, color='orange', label='val - true')\n",
    "plot_2d_state_sequence(zs_val_hat, title='Inference', color='red', label='val - prediction')\n",
    "plt.legend()\n",
    "plt.show()"
   ]
  },
  {
   "cell_type": "markdown",
   "id": "9f96f7fe",
   "metadata": {},
   "source": [
    "Even with signifficant noise in the training dataset the Neural NODE model managed to learn spiral dynamics."
   ]
  },
  {
   "cell_type": "markdown",
   "id": "2b7dde99",
   "metadata": {},
   "source": [
    "## Toy Example: \"Infinite\" ResNet on MNIST\n",
    "\n",
    "Implementation of continuous ResNet on MNIST dataset.\n",
    "\n",
    "Residual networks (ResNet) main building block are residual block with transformations:\n",
    "\n",
    "<center>$\n",
    "\\begin{align}\n",
    "h_{t+1} = h_{t} + f(h_{t}, \\theta_{t}) \\tag{B1}\\label{B1}\n",
    "\\end{align}\n",
    "$\n",
    "\n",
    "Here $h_{t}$ is the t-th layer and $f$ is a function that has parameters $\\theta_{t}$ (layer parameters) and input form previous layer $h_{t}$. \n",
    "    \n",
    "Function $f$ for images is convolutional layer. Equation \\ref{B1} looks like a *Euler Method* when step size is 1:\n",
    "    \n",
    "<center>$\n",
    "\\begin{align}\n",
    "h(t+\\epsilon) = h(t) + f(h(t), \\theta_{t}) \\cdot \\epsilon \\tag{B2}\\label{B2}\n",
    "\\end{align}\n",
    "$\n",
    "    \n",
    "Which is equal to:\n",
    "    \n",
    "<center>$\n",
    "\\begin{align}\n",
    "\\frac{h(t+\\epsilon) - h(t)}{\\epsilon} = f(h(t), \\theta_{t}) \\tag{B3}\\label{B3}\n",
    "\\end{align}\n",
    "$\n",
    "   \n",
    "When limit $e -> 0$ is applied to \\ref{B3} then next equation is acquired:\n",
    "    \n",
    "<center>$\n",
    "\\begin{align}\n",
    "\\frac{dh(t)}{dt} = f(h(t), t, \\theta) \\tag{B4}\\label{B4}\n",
    "\\end{align}\n",
    "$\n",
    "    \n",
    "Conclusion: Continuous ResNet can be implemented using Neural ODE."
   ]
  },
  {
   "cell_type": "markdown",
   "id": "9b3e541e",
   "metadata": {},
   "source": [
    "### Implementation details\n",
    "\n",
    "ResNet consists of:\n",
    "- Initial downsample layer (convolutions without skip connections);\n",
    "- Sequence of convolutional layers with skip connections (will be replaced with ODE with conv2d operation);\n",
    "- Average pool;\n",
    "- MLP (fully connected layer for classification).\n",
    "\n",
    "Implementation notes:\n",
    "- Two time points are used: start time point 0.0 and end time point 1.0. ODESolver still uses intermediate time points."
   ]
  },
  {
   "cell_type": "code",
   "execution_count": 37,
   "id": "93825ba2",
   "metadata": {},
   "outputs": [],
   "source": [
    "IntTuple = Union[Tuple[int], int]\n",
    "\n",
    "\n",
    "# Basic building block - CNN with BatchNorma\n",
    "# BatchNorm paper - https://arxiv.org/pdf/1502.03167.pdf\n",
    "class CNNBlock(nn.Module):\n",
    "    def __init__(\n",
    "        self,\n",
    "        in_channels: int,\n",
    "        out_channels: int,\n",
    "        kernel_size: IntTuple,\n",
    "        stride: IntTuple = 1,\n",
    "        padding: Union[int, str] = 'same',\n",
    "        activate_relu: bool = True,\n",
    "        **kwargs\n",
    "    ):\n",
    "        \"\"\"\n",
    "        Convolutional 2D layer combined with 2d batch norm\n",
    "\n",
    "        Args:\n",
    "            in_channels: Number of input channels\n",
    "            out_channels: Number of output channels\n",
    "            kernel_size: Kernel size\n",
    "            stride: Stride\n",
    "            padding: Padding\n",
    "            activate_relu: Use ReLU as activation function\n",
    "            **kwargs:\n",
    "        \"\"\"\n",
    "        super(CNNBlock, self).__init__()\n",
    "        self._conv = nn.Conv2d(in_channels, out_channels, kernel_size, stride, padding, bias=False, **kwargs)\n",
    "        self._batchnorm = nn.BatchNorm2d(out_channels)\n",
    "        self._lrelu = nn.LeakyReLU(0.1)\n",
    "        self._activate_relu = activate_relu\n",
    "\n",
    "    def forward(self, x: torch.Tensor) -> torch.Tensor:\n",
    "        x = self._batchnorm(self._conv(x))\n",
    "        if self._activate_relu:\n",
    "            x = self._lrelu(x)\n",
    "        return x\n",
    "    \n",
    "\n",
    "# ODE CNN is similar to original CNN but it is required to integrate time value with inputs\n",
    "# Easiest way to do this is to add time with repeated values as an additional input filter\n",
    "class ConvODEF(ODEF):\n",
    "    def __init__(self, state_filters: int, hidden_filters: int, kernel_size: int = 3):\n",
    "        super(ConvODEF, self).__init__()\n",
    "        self._conv1 = CNNBlock(state_filters + 1, hidden_filters, kernel_size)\n",
    "        self._conv2 = CNNBlock(hidden_filters + 1, state_filters, kernel_size)\n",
    "        \n",
    "    def forward(self, x: torch.Tensor, t: torch.Tensor) -> torch.Tensor:\n",
    "        batch_size, _, w, h = x.shape\n",
    "        t_expanded = t.expand(batch_size, 1, w, h).to(x)  # channel dimension ~ 1\n",
    "        xt = torch.cat([x, t_expanded], dim=1)\n",
    "        \n",
    "        h = self._conv1(xt)\n",
    "        ht = torch.cat([h, t_expanded], dim=1)\n",
    "        \n",
    "        return self._conv2(ht)\n",
    "    \n",
    "    \n",
    "class ContinuousResNet(nn.Module):\n",
    "    def __init__(self):\n",
    "        super(ContinuousResNet, self).__init__()\n",
    "        self._downsample = nn.Sequential(\n",
    "            CNNBlock(1, 64, kernel_size=3),\n",
    "            CNNBlock(64, 64, kernel_size=3, stride=2, padding=1),\n",
    "            CNNBlock(64, 64, kernel_size=3, stride=2, padding=1)\n",
    "        )\n",
    "        self._cnn_with_residuals = NeuralODE(ConvODEF(64, 64, kernel_size=3))\n",
    "        self._time = torch.tensor([0.0, 1.0]).view(2, 1, 1)\n",
    "        \n",
    "        self._avgpool = nn.AvgPool2d(7, stride=1)\n",
    "        self._flatten = nn.Flatten()\n",
    "        self._classifier = nn.Linear(64, 10)\n",
    "        \n",
    "    def forward(self, x: torch.Tensor) -> torch.Tensor:\n",
    "        x = self._downsample(x)\n",
    "        # x = self._cnn_with_residuals(x, self._time.to(x))\n",
    "        x = self._avgpool(x)\n",
    "        x = self._flatten(x)\n",
    "        return self._classifier(x)"
   ]
  },
  {
   "cell_type": "code",
   "execution_count": 49,
   "id": "cc80afcd",
   "metadata": {},
   "outputs": [
    {
     "data": {
      "application/vnd.jupyter.widget-view+json": {
       "model_id": "ebe98e54f0354deca99cb6918431ae74",
       "version_major": 2,
       "version_minor": 0
      },
      "text/plain": [
       "  0%|          | 0/10 [00:00<?, ?it/s]"
      ]
     },
     "metadata": {},
     "output_type": "display_data"
    },
    {
     "data": {
      "application/vnd.jupyter.widget-view+json": {
       "model_id": "a3eff361cde948679db4353f61e1f399",
       "version_major": 2,
       "version_minor": 0
      },
      "text/plain": [
       "training:   0%|          | 0/938 [00:00<?, ?batch/s]"
      ]
     },
     "metadata": {},
     "output_type": "display_data"
    },
    {
     "data": {
      "application/vnd.jupyter.widget-view+json": {
       "model_id": "9bd6f4f5730d4fe4aebfb5647f18b829",
       "version_major": 2,
       "version_minor": 0
      },
      "text/plain": [
       "validation:   0%|          | 0/157 [00:00<?, ?batch/s]"
      ]
     },
     "metadata": {},
     "output_type": "display_data"
    },
    {
     "data": {
      "application/vnd.jupyter.widget-view+json": {
       "model_id": "d39981418b05455eb448620034b2f1ac",
       "version_major": 2,
       "version_minor": 0
      },
      "text/plain": [
       "training:   0%|          | 0/938 [00:00<?, ?batch/s]"
      ]
     },
     "metadata": {},
     "output_type": "display_data"
    },
    {
     "data": {
      "application/vnd.jupyter.widget-view+json": {
       "model_id": "20219cf070194ffa9bb4d8c60d0db333",
       "version_major": 2,
       "version_minor": 0
      },
      "text/plain": [
       "validation:   0%|          | 0/157 [00:00<?, ?batch/s]"
      ]
     },
     "metadata": {},
     "output_type": "display_data"
    },
    {
     "data": {
      "application/vnd.jupyter.widget-view+json": {
       "model_id": "a3a87311d6e84628aa853982a7c234f0",
       "version_major": 2,
       "version_minor": 0
      },
      "text/plain": [
       "training:   0%|          | 0/938 [00:00<?, ?batch/s]"
      ]
     },
     "metadata": {},
     "output_type": "display_data"
    },
    {
     "data": {
      "application/vnd.jupyter.widget-view+json": {
       "model_id": "454ad0b9f0174181a652190dc63071de",
       "version_major": 2,
       "version_minor": 0
      },
      "text/plain": [
       "validation:   0%|          | 0/157 [00:00<?, ?batch/s]"
      ]
     },
     "metadata": {},
     "output_type": "display_data"
    },
    {
     "data": {
      "application/vnd.jupyter.widget-view+json": {
       "model_id": "2fb7c6e118ea4f389fc5711989b6ba29",
       "version_major": 2,
       "version_minor": 0
      },
      "text/plain": [
       "training:   0%|          | 0/938 [00:00<?, ?batch/s]"
      ]
     },
     "metadata": {},
     "output_type": "display_data"
    },
    {
     "data": {
      "application/vnd.jupyter.widget-view+json": {
       "model_id": "018e25fa53684a669077e7cb7d00afd3",
       "version_major": 2,
       "version_minor": 0
      },
      "text/plain": [
       "validation:   0%|          | 0/157 [00:00<?, ?batch/s]"
      ]
     },
     "metadata": {},
     "output_type": "display_data"
    },
    {
     "data": {
      "application/vnd.jupyter.widget-view+json": {
       "model_id": "abbb17a26d76411cbe200332d08dc0eb",
       "version_major": 2,
       "version_minor": 0
      },
      "text/plain": [
       "training:   0%|          | 0/938 [00:00<?, ?batch/s]"
      ]
     },
     "metadata": {},
     "output_type": "display_data"
    },
    {
     "data": {
      "application/vnd.jupyter.widget-view+json": {
       "model_id": "19758404406149bcba9ceeb4a509a492",
       "version_major": 2,
       "version_minor": 0
      },
      "text/plain": [
       "validation:   0%|          | 0/157 [00:00<?, ?batch/s]"
      ]
     },
     "metadata": {},
     "output_type": "display_data"
    },
    {
     "data": {
      "application/vnd.jupyter.widget-view+json": {
       "model_id": "91d610ed8138476caf9d85775f40f13c",
       "version_major": 2,
       "version_minor": 0
      },
      "text/plain": [
       "training:   0%|          | 0/938 [00:00<?, ?batch/s]"
      ]
     },
     "metadata": {},
     "output_type": "display_data"
    },
    {
     "data": {
      "application/vnd.jupyter.widget-view+json": {
       "model_id": "5988cb06120949d59292c32a6705c819",
       "version_major": 2,
       "version_minor": 0
      },
      "text/plain": [
       "validation:   0%|          | 0/157 [00:00<?, ?batch/s]"
      ]
     },
     "metadata": {},
     "output_type": "display_data"
    },
    {
     "data": {
      "application/vnd.jupyter.widget-view+json": {
       "model_id": "a86d9cb770fd407283e9b6d7d5265517",
       "version_major": 2,
       "version_minor": 0
      },
      "text/plain": [
       "training:   0%|          | 0/938 [00:00<?, ?batch/s]"
      ]
     },
     "metadata": {},
     "output_type": "display_data"
    },
    {
     "data": {
      "application/vnd.jupyter.widget-view+json": {
       "model_id": "5fa769274d7e4674bf63ccfc549b792b",
       "version_major": 2,
       "version_minor": 0
      },
      "text/plain": [
       "validation:   0%|          | 0/157 [00:00<?, ?batch/s]"
      ]
     },
     "metadata": {},
     "output_type": "display_data"
    },
    {
     "data": {
      "application/vnd.jupyter.widget-view+json": {
       "model_id": "fdc9e6ccbbb6442e8eb7898920a301e8",
       "version_major": 2,
       "version_minor": 0
      },
      "text/plain": [
       "training:   0%|          | 0/938 [00:00<?, ?batch/s]"
      ]
     },
     "metadata": {},
     "output_type": "display_data"
    },
    {
     "data": {
      "application/vnd.jupyter.widget-view+json": {
       "model_id": "f184614d54964a74918d0ac1c1e27d6a",
       "version_major": 2,
       "version_minor": 0
      },
      "text/plain": [
       "validation:   0%|          | 0/157 [00:00<?, ?batch/s]"
      ]
     },
     "metadata": {},
     "output_type": "display_data"
    },
    {
     "data": {
      "application/vnd.jupyter.widget-view+json": {
       "model_id": "c0f74759080f45c18175b7048f6512c8",
       "version_major": 2,
       "version_minor": 0
      },
      "text/plain": [
       "training:   0%|          | 0/938 [00:00<?, ?batch/s]"
      ]
     },
     "metadata": {},
     "output_type": "display_data"
    },
    {
     "data": {
      "application/vnd.jupyter.widget-view+json": {
       "model_id": "30ee1070cb724abeba51a344818c7ec8",
       "version_major": 2,
       "version_minor": 0
      },
      "text/plain": [
       "validation:   0%|          | 0/157 [00:00<?, ?batch/s]"
      ]
     },
     "metadata": {},
     "output_type": "display_data"
    },
    {
     "data": {
      "application/vnd.jupyter.widget-view+json": {
       "model_id": "93331b96cede4f94a0df0f3459ed8b84",
       "version_major": 2,
       "version_minor": 0
      },
      "text/plain": [
       "training:   0%|          | 0/938 [00:00<?, ?batch/s]"
      ]
     },
     "metadata": {},
     "output_type": "display_data"
    },
    {
     "data": {
      "application/vnd.jupyter.widget-view+json": {
       "model_id": "92d8ac196590465d8e74c5ce281555e7",
       "version_major": 2,
       "version_minor": 0
      },
      "text/plain": [
       "validation:   0%|          | 0/157 [00:00<?, ?batch/s]"
      ]
     },
     "metadata": {},
     "output_type": "display_data"
    }
   ],
   "source": [
    "# Script to train model\n",
    "def train_model(\n",
    "    model: nn.Module, \n",
    "    train_loader: torch.utils.data.DataLoader, \n",
    "    val_loader: torch.utils.data.DataLoader, \n",
    "    device: Union[torch.device, str],\n",
    "    n_epochs: int = 10\n",
    "):\n",
    "    loss_func = nn.CrossEntropyLoss()\n",
    "    optimizer = torch.optim.Adam(model.parameters(), lr=1e-2)\n",
    "    \n",
    "    with tqdm(range(1, n_epochs+1)) as pbar:\n",
    "        for epoch in pbar:\n",
    "            train_loss_value_items = []\n",
    "            val_loss_value_items = []\n",
    "            train_accuracy = []\n",
    "            val_accuracy = []\n",
    "            \n",
    "            # Train\n",
    "            for images, labels in tqdm(train_loader, desc='training', unit='batch'):\n",
    "                images, labels = images.to(device), labels.to(device)\n",
    "                batch_size = images.shape[0]\n",
    "                \n",
    "                optimizer.zero_grad()\n",
    "                outputs = model(images)\n",
    "                loss = loss_func(outputs, labels)\n",
    "                loss.backward()\n",
    "                optimizer.step()\n",
    "                \n",
    "                train_loss_value_items.append(loss.detach().cpu().item())\n",
    "                predicted_labels = torch.argmax(outputs, dim=-1)\n",
    "                batch_accuracy = (predicted_labels == labels).detach().cpu().sum().item() / batch_size\n",
    "                train_accuracy.append(batch_accuracy)\n",
    "                \n",
    "            # Evaluation\n",
    "            with torch.no_grad():\n",
    "                for images, labels in tqdm(val_loader, desc='validation', unit='batch'):\n",
    "                    images, labels = images.to(device), labels.to(device)\n",
    "                    batch_size = images.shape[0]\n",
    "                    \n",
    "                    outputs = model(images)\n",
    "                    loss = loss_func(outputs, labels)\n",
    "\n",
    "                    val_loss_value_items.append(loss.detach().cpu().item())\n",
    "                    predicted_labels = torch.argmax(outputs, dim=-1)\n",
    "                    batch_accuracy = (predicted_labels == labels).detach().cpu().sum().item() / batch_size\n",
    "                    val_accuracy.append(batch_accuracy)\n",
    "               \n",
    "            pbar.set_description('Train accuracy: '\n",
    "                                 f'{100*sum(train_accuracy)/len(train_accuracy):.2f}%'\n",
    "                                 ', Val accuracy: '\n",
    "                                 f'{100*sum(val_accuracy)/len(val_accuracy):.2f}%'\n",
    "                                 ', Train loss: '\n",
    "                                 f'{sum(train_loss_value_items)/len(train_loss_value_items):.4f}'\n",
    "                                 ', Val loss: '\n",
    "                                 f'{sum(val_loss_value_items)/len(val_loss_value_items):.4f}'\n",
    "                                )\n",
    "            \n",
    "            \n",
    "BATCH_SIZE = 64\n",
    "\n",
    "preprocess_pipeline = torchvision.transforms.Compose([\n",
    "    torchvision.transforms.ToTensor(),\n",
    "    torchvision.transforms.Normalize((0.1307,), (0.3081,))\n",
    "])\n",
    "\n",
    "mnist_train_loader = torch.utils.data.DataLoader(\n",
    "    torchvision.datasets.MNIST(\n",
    "        root='assets',\n",
    "        train=True,\n",
    "        download=True,\n",
    "        transform=preprocess_pipeline\n",
    "    ),\n",
    "    batch_size=BATCH_SIZE,\n",
    "    shuffle=True\n",
    ")\n",
    "\n",
    "mnist_val_loader = torch.utils.data.DataLoader(\n",
    "    torchvision.datasets.MNIST(\n",
    "        root='assets',\n",
    "        train=False,\n",
    "        download=True,\n",
    "        transform=preprocess_pipeline\n",
    "    ),\n",
    "    batch_size=BATCH_SIZE,\n",
    "    shuffle=True\n",
    ")\n",
    "\n",
    "\n",
    "device = torch.device('cuda' if torch.cuda.is_available() else 'cpu')\n",
    "node_model = ContinuousResNet()\n",
    "node_model.train()\n",
    "node_model.to(device)\n",
    "            \n",
    "train_model(node_model, mnist_train_loader, mnist_val_loader, device=device)"
   ]
  },
  {
   "cell_type": "code",
   "execution_count": 59,
   "id": "6d587c4d-a8c8-4876-a138-196c792cbd01",
   "metadata": {},
   "outputs": [
    {
     "data": {
      "image/png": "[encoded data removed]",
      "text/plain": [
       "<Figure size 1400x1000 with 16 Axes>"
      ]
     },
     "metadata": {},
     "output_type": "display_data"
    }
   ],
   "source": [
    "# model output visualization on validation part od dataset.\n",
    "for image_samples, label_samples in mnist_val_loader:\n",
    "    break\n",
    "image_samples, label_samples = image_samples[:16].to(device), label_samples[:16].to(device)\n",
    "\n",
    "node_model.eval()\n",
    "predicted_label_samples = torch.argmax(node_model(image_samples), dim=-1).detach().cpu().numpy()\n",
    "image_samples, label_samples = image_samples.detach().cpu().numpy(), label_samples.detach().cpu().numpy()\n",
    "\n",
    "fig, axs = plt.subplots(figsize=(14, 10), nrows=4, ncols=4)\n",
    "for i in range(image_samples.shape[0]):\n",
    "    col = i % 4\n",
    "    row = i // 4\n",
    "    axs[row, col].imshow(image_samples[i][0])\n",
    "    axs[row, col].axis('off')\n",
    "    axs[row, col].set_title(f'prediction: {predicted_label_samples[i]}, label: {predicted_label_samples[i]}')\n",
    "    \n",
    "plt.show()"
   ]
  },
  {
   "cell_type": "code",
   "execution_count": null,
   "id": "481ae03c",
   "metadata": {},
   "outputs": [],
   "source": []
  }
 ],
 "metadata": {
  "kernelspec": {
   "display_name": "Python 3 (ipykernel)",
   "language": "python",
   "name": "python3"
  },
  "language_info": {
   "codemirror_mode": {
    "name": "ipython",
    "version": 3
   },
   "file_extension": ".py",
   "mimetype": "text/x-python",
   "name": "python",
   "nbconvert_exporter": "python",
   "pygments_lexer": "ipython3",
   "version": "3.8.10"
  }
 },
 "nbformat": 4,
 "nbformat_minor": 5
}
