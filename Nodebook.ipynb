{
 "cells": [
  {
   "cell_type": "markdown",
   "id": "52d54628",
   "metadata": {},
   "source": [
    "# Neural Ordinary Differential Equations\n",
    "\n",
    "Prerequisites:\n",
    "- Differential Equations basics\n",
    "- Python and PyTorch basics"
   ]
  },
  {
   "cell_type": "markdown",
   "id": "aadc0fcc",
   "metadata": {},
   "source": [
    "## Revision of differential equations\n",
    "\n",
    "Implicit form of ordinary differential equation is:\n",
    "\n",
    "<center>$\n",
    "\\begin{align}\n",
    "F(\\frac{dz}{dt}, z(t), t) = 0 \\tag{1}\n",
    "\\end{align}\n",
    "$\n",
    "\n",
    "Implicit form is more general than explicit one (every implicit equation can be transformed to explicit but not vice versa). For simplicity only about the explicit form will be used.\n",
    "\n",
    "---\n",
    "\n",
    "Explicit form of ordinary differential equation is:\n",
    "\n",
    "<center>$\n",
    "\\begin{align}\n",
    "\\frac{dz}{dt} = f(z(t), t) \\tag{2}\n",
    "\\end{align}\n",
    "$\n",
    "\n",
    "From the view of dynamical systems, $z(t)$ is state at time t and function $f$ defines change of state (slope). Solving this equation results a family of curves or a single curve if initial state $z_0 = z(t_0)$ is given (each curve in family has its initial state). Let $t_0$ be start time and $t_1$ be end time ($z(t_1)$ is last state). \n",
    "\n",
    "How to solve this equation? Assumption is that start time, state at that start time and function of change is defined then equation might be solver analytically:\n",
    "\n",
    "<center>$\n",
    "\\begin{align}\n",
    "z(t_1) = z(t_0) + \\int_{t_0}^{t_1}{f(z(t), t)dt} \\tag{3}\n",
    "\\end{align}\n",
    "$\n",
    "\n",
    "Problem is that it might be very hard or event impossible to calculate integral value. Instead it is possible to use numerical method which can approximate the value of $z(t_1)$ (or whole curve sequence) by taking small steps and following slope ($\\frac{dz}{dt}$) defined by function $f$. One of simplest numerical methods is [Euler Method](https://en.wikipedia.org/wiki/Euler_method):\n",
    "\n",
    "<center>$\n",
    "\\begin{align}\n",
    "z_{i+1} = z_{i} + h \\cdot f(z_{i}, t_{i}) \\tag{4}\n",
    "\\end{align}\n",
    "$\n",
    "where $z_0 = z(t_0)$ and $z_N = z(t_{last})$\n",
    "\n",
    "![](images/euler_method.jpeg)\n",
    "\n",
    "Detailed explanation of Euler method can be found [here](https://x-engineer.org/euler-integration/).\n",
    "\n",
    "---\n",
    "\n",
    "Example is given for better understanding of Euler method:\n",
    "\n",
    "<center>$\n",
    "\\begin{align}\n",
    "z(t) := sin(t) \\Rightarrow \\frac{dz}{dt} = cos(t)\n",
    "\\end{align}\n",
    "$ \n",
    "\n",
    "In this case $sin(t)$ is solution to differential equation $\\frac{dz}{dt} = cos(t)$. If $\\frac{dz}{dt} = f(z(t), t) = cos(t)$ is solved analytically then it is expected to get approximation of the $sin(t)$ function."
   ]
  },
  {
   "cell_type": "code",
   "execution_count": 1,
   "id": "b45a9de3",
   "metadata": {},
   "outputs": [
    {
     "name": "stderr",
     "output_type": "stream",
     "text": [
      "Matplotlib created a temporary config/cache directory at /tmp/matplotlib-io_wxr4q because the default path (/home/madzemovic/.config/matplotlib) is not a writable directory; it is highly recommended to set the MPLCONFIGDIR environment variable to a writable directory, in particular to speed up the import of Matplotlib and to better support multiprocessing.\n"
     ]
    }
   ],
   "source": [
    "# All imports (for full notebook)\n",
    "from abc import ABC, abstractmethod\n",
    "from typing import Callable, Union, Tuple, Any, Optional, List\n",
    "\n",
    "import torch\n",
    "import torch.nn as nn\n",
    "import torch.nn.functional as F\n",
    "import torchvision\n",
    "from torch.utils.data import Dataset, DataLoader\n",
    "\n",
    "from tqdm.notebook import tqdm\n",
    "import matplotlib.pyplot as plt\n",
    "import numpy as np\n",
    "\n",
    "import pandas as pd\n",
    "\n",
    "\n",
    "torch.manual_seed(0)\n",
    "np.random.seed(42)\n",
    "torch.set_printoptions(precision=2, sci_mode=False)\n",
    "\n",
    "DEVICE = torch.device('cuda' if torch.cuda.is_available() else 'cpu')"
   ]
  },
  {
   "cell_type": "code",
   "execution_count": 2,
   "id": "d962fb15",
   "metadata": {},
   "outputs": [],
   "source": [
    "# Definition of abstract ODESolver which defines solver interface\n",
    "class ODESolver(ABC):\n",
    "    @abstractmethod\n",
    "    def solve(\n",
    "        self, \n",
    "        z0: torch.Tensor, \n",
    "        t0: torch.Tensor, \n",
    "        t1: torch.Tensor, \n",
    "        f: Union[nn.Module, Callable], \n",
    "        return_all_states: bool = False\n",
    "    ) -> Tuple[torch.Tensor, torch.Tensor]:\n",
    "        \"\"\"\n",
    "        Solves ODE\n",
    "\n",
    "        Args:\n",
    "            z0: Start state ~ z(t0)\n",
    "            t0: Start time\n",
    "            t1: End time\n",
    "            f: State change function (slope)\n",
    "            return_all_states: Return all intermediate states\n",
    "\n",
    "        Returns:\n",
    "            End state ~ z(t1) and end time point ~ t1 if return_all_states == False\n",
    "            else return all states and time points\n",
    "        \"\"\"\n",
    "        pass\n",
    "    \n",
    "    def __call__(\n",
    "        self, \n",
    "        z0: torch.Tensor, \n",
    "        t0: torch.Tensor, \n",
    "        t1: torch.Tensor, \n",
    "        f: Union[nn.Module, Callable], \n",
    "        return_all_states: bool = False\n",
    "    ) -> Tuple[torch.Tensor, torch.Tensor]:\n",
    "        \"\"\"\n",
    "        solve() method wrapper\n",
    "        \"\"\"\n",
    "        return self.solve(z0, t0, t1, f, return_all_states=return_all_states)\n",
    "    \n",
    "\n",
    "class EulerMethod(ODESolver):\n",
    "    def __init__(self, max_step_size: float):\n",
    "        \"\"\"\n",
    "        Simplest ODESolver\n",
    "\n",
    "        Args:\n",
    "            max_step_size: Max step size (higher step size ~ lower precision)\n",
    "        \"\"\"\n",
    "        super().__init__()\n",
    "\n",
    "        self._max_step_size = max_step_size\n",
    "\n",
    "    def solve(\n",
    "        self, \n",
    "        z0: torch.Tensor, \n",
    "        t0: torch.Tensor, \n",
    "        t1: torch.Tensor, \n",
    "        f: Union[nn.Module, Callable],\n",
    "        return_all_states: bool = False\n",
    "    ) -> Tuple[torch.Tensor, torch.Tensor]:\n",
    "        # noinspection PyTypeChecker\n",
    "        n_steps = int(torch.ceil(torch.abs(t1 - t0) / self._max_step_size).max().item())\n",
    "        h = (t1 - t0) / n_steps  # step size\n",
    "        \n",
    "\n",
    "        # Initial state\n",
    "        t = t0\n",
    "        z = z0\n",
    "\n",
    "        zs = [z0]\n",
    "        ts = [t0]\n",
    "        for _ in range(n_steps):\n",
    "            z = z + f(z, t) * h\n",
    "            t = t + h\n",
    "            \n",
    "            if return_all_states:\n",
    "                zs.append(z)\n",
    "                ts.append(t)\n",
    "                \n",
    "        if return_all_states:\n",
    "            zs, ts = torch.stack(zs), torch.stack(ts)\n",
    "            return zs, ts\n",
    "\n",
    "        return z, t  # only last state"
   ]
  },
  {
   "cell_type": "code",
   "execution_count": 3,
   "id": "5f83988a",
   "metadata": {},
   "outputs": [
    {
     "data": {
      "image/png": "[encoded data removed]",
      "text/plain": [
       "<Figure size 640x480 with 1 Axes>"
      ]
     },
     "metadata": {},
     "output_type": "display_data"
    }
   ],
   "source": [
    "def cosine_dynamics(x: torch.Tensor, t: torch.Tensor) -> torch.Tensor:\n",
    "    \"\"\"\n",
    "    Cosine function\n",
    "    \n",
    "    Args:\n",
    "        x: Previous state (not relevant but still keeping it as argument for consistency)\n",
    "        t: Time\n",
    "        \n",
    "    Returns:\n",
    "        Cosine value of t\n",
    "    \"\"\"\n",
    "    return torch.cos(t)\n",
    "\n",
    "ts = torch.linspace(1, 10, 100)\n",
    "t0, t1 = torch.tensor(1.0), torch.tensor(10.0)\n",
    "z0 = torch.sin(t0)\n",
    "ode_true = torch.sin(ts)\n",
    "\n",
    "ode_solver = EulerMethod(0.2)\n",
    "zs_hat, ts_hat = ode_solver(z0, t0, t1, cosine_dynamics, return_all_states=True)\n",
    "\n",
    "plt.plot(ts, ode_true, color='red', label='True dynamics')\n",
    "plt.scatter(ts_hat, zs_hat, color='blue', s=10, label='Estimated dynamics states')\n",
    "plt.title('Sinusoid dynamics')\n",
    "plt.xlabel('Time')\n",
    "plt.ylabel('State')\n",
    "plt.legend()\n",
    "plt.show()"
   ]
  },
  {
   "cell_type": "markdown",
   "id": "2a29c8fe",
   "metadata": {},
   "source": [
    "It can be seen that the solver approximates sinusoid function given the change of state at each time point. In this example Euler method uses step `0.2` which is very high. If lower step is used like `0.01` then the method is more accurate and the estimation can visually perfectly match.\n",
    "\n",
    "The question is: Is it possible to learn state change function f? The answer comes with a method (paper) - **Neural Ordinary Differential Equations**"
   ]
  },
  {
   "cell_type": "markdown",
   "id": "8a0d4313",
   "metadata": {},
   "source": [
    "## Combining differential equations with neural networks\n",
    "\n",
    "If function $f$ is learnable function (like a neural network) then dynamics for observed system coult be learnt. In that case there are learnable parameters $\\theta$ as an input to (or as a part of) function f:\n",
    "\n",
    "<center>$\n",
    "\\begin{align}\n",
    "\\frac{dz}{dt} = f(z(t), t, \\theta)\n",
    "\\end{align}\n",
    "$\n",
    "\n",
    "During inference time this is not that much different than classical ordinary differential equation. Euler method (or some more efficient method) can be used to numerically solve $z(t)$. Abstract ODE solver is defined as: $ODESolve(z_0, f, t_0, t_1, \\theta)$\n",
    "\n",
    "![](images/node-basics.drawio.png)\n",
    "\n",
    "Given the input state value $z(t_0)$ solver (with parameters $\\theta$) can be used to get estimated value $\\hat{z}(t_1)$. Goal is to minimize the loss function $L = L(z, \\hat{z})$\n",
    "\n",
    "![](images/node-forward-pass.png)\n",
    "\n",
    "Problem: It might be hard and inefficient to backpropagate through the ODESolver algorithm. Alternative is to use ODESolver as a blackbox but we still need a way to backpropagate throught that blackbox. In next section it will be seen how backpropagation can be performed."
   ]
  },
  {
   "cell_type": "markdown",
   "id": "8043261b",
   "metadata": {},
   "source": [
    "### Pontryagin Adjoint Method\n",
    "\n",
    "Gradients can be computed using Pontryagin adjoint method. Formal proof of this method can be found in [Appendix B.1 of the paper](https://arxiv.org/pdf/1806.07366.pdf). Proof is easy to follow but is excluded from here since it would take a lot of space. With this method it is possible to determine gradient $a(t) = \\frac{dL}{dz(t)}$ of the loss on the hidden state $z(t)$ at each time point. Gradients are calculated backward in time: \n",
    "\n",
    "<center>$\n",
    "\\begin{align}\n",
    "\\frac{a(t)}{dt} = -a(t) \\cdot \\frac{df(z(t), t, \\theta)}{dz(t)} \\tag{5}\n",
    "\\end{align}\n",
    "$\n",
    "\n",
    "ODESolver can be used to calculate $a(t)$ in for all time points $[t_N, t_{N-1}, ..., t_1, t_0]$ backward in time:\n",
    "\n",
    "<center>$\n",
    "\\begin{align}\n",
    "a(t_0) = a(t_N) + \\int_{t_N}^{t_0} \\frac{da(t)}{dt}dt = a(t_N) - \\int_{t_N}^{t_0} a(t) \\cdot \\frac{df(z(t), t, \\theta)}{dz(t)}dt \\approx ODESolve(a(t_N), t_N, t_0, \\frac{df(z(t), t, \\theta)}{dz(t)}) \\tag{6}\n",
    "\\end{align}\n",
    "$\n",
    "\n",
    "Arguments for ODESolve are $a(t_N)$, $t_N$, $t_0$ and $\\frac{df(z(t), t, \\theta)}{dz(t)}$:\n",
    "- <left> $a(t_N)$ is initial state equal to $\\frac{dL}{dz(t_N)}$ and this gradient can be calculated directly from loss function.\n",
    "- $t_N$, $t_0$ are known time points that correspond to the forward pass time points.\n",
    "- $\\frac{df(z(t), t, \\theta)}{dz(t)}$ is calculated using automatic differentiation library (pytorch autograd). Note: It is also required to calculate $z(t)$ at each step (ODESolve backward in time).\n",
    "\n",
    "![](images/node-adjoint-method.png)\n",
    "\n",
    "In previous case it is assumed that loss only depends on last time point $t_N$. If function L depends also on intermediate time points $t_1$, $t_2$, ..., $t_{N-1}$, etc., then adjoint method can be repeated for each of intervals $[t_{N-1}, t_{N-2}]$, $[t_{N-2}, t_{N_3}]$ in backward order and sum up the obtained gradients. That is why there are \"those jumps\" for adjoint curve at each time point (look at the image). At point $t_N$ only $\\frac{dL}{dz(t_N)}$ is considered but at $t_{N-1}$ it is also required add $\\frac{dL}{dz(t_{N-1})}$ (like on the image)."
   ]
  },
  {
   "cell_type": "markdown",
   "id": "2771c175",
   "metadata": {},
   "source": [
    "### Augmented Adjoint Method\n",
    "\n",
    "Next goal is to generalize adjoint method to also gather gradients with respect to time $t$ and constant (they do not depent on time) model parameters $\\theta$. Their differential equations (which defines their function of state change) can be written as:\n",
    "\n",
    "<center>$\n",
    "\\begin{align}\n",
    "\\frac{dt(t)}{dt} = 1, \\frac{d\\theta(t)}{dt} = 0 \\tag{7}\n",
    "\\end{align}\n",
    "$\n",
    "\n",
    "Elements $z$ state, $\\theta$ parameters and $t$ time can be combined into a single augmented state $z_{aug}$:\n",
    "\n",
    "<center>$\n",
    "\\begin{align}\n",
    "\\frac{d}{dt}\n",
    "\\begin{bmatrix}\n",
    "    z \\\\\n",
    "    \\theta \\\\\n",
    "    t\n",
    "\\end{bmatrix}\n",
    "(t) = f_{aug}([z, \\theta, t]) :=\n",
    "\\begin{bmatrix}\n",
    "    \\frac{dz(t)}{dt} \\\\\n",
    "    \\frac{d\\theta(t)}{dt} \\\\\n",
    "    \\frac{dt(t)}{dt}\n",
    "\\end{bmatrix}\n",
    "= \n",
    "\\begin{bmatrix}\n",
    "    f(z(t), t, \\theta) \\\\\n",
    "    0 \\\\\n",
    "    1\n",
    "\\end{bmatrix} \\tag{8}\n",
    "\\end{align} \n",
    "$\n",
    "\n",
    "Then corresponding $a_{aug}$ is:\n",
    "\n",
    "<center>$\n",
    "\\begin{align}\n",
    "a_{aug}(t) := \n",
    "\\begin{bmatrix}\n",
    "    a \\\\\n",
    "    a_{\\theta} \\\\\n",
    "    a_t\n",
    "\\end{bmatrix}\n",
    "(t)\n",
    "= \n",
    "\\begin{bmatrix}\n",
    "    \\frac{dL}{dz(t)} \\\\\n",
    "    \\frac{dL}{d\\theta(t)} \\\\\n",
    "    \\frac{dL}{dt(t)}\n",
    "\\end{bmatrix} \\tag{9}\n",
    "\\end{align}\n",
    "$\n",
    "\n",
    "Based on adjoint method formula we have:\n",
    "\n",
    "<center>$\n",
    "\\begin{align}\n",
    "\\frac{da_{aug}(t)}{dt} = -a_{aug}(t) \\cdot \\frac{df_{aug}(z_{aug}(t), t, \\theta)}{dz_{aug}} \\tag{10}\n",
    "\\end{align}\n",
    "$\n",
    "    \n",
    "Element $\\frac{df_{aug}(z_{aug}(t), t, \\theta)}{dz_{aug}}$ is equal to Jacobian of $f$ which has form:\n",
    "   \n",
    "<center>$\n",
    "\\begin{align}\n",
    "\\begin{bmatrix}\n",
    "    \\frac{df}{dz} & \\frac{df}{d\\theta} & \\frac{df}{dt} \\\\\n",
    "    0 & 0 & 0 \\\\\n",
    "    0 & 0 & 0\n",
    "\\end{bmatrix} \\tag{11}\n",
    "\\end{align}\n",
    "$\n",
    "    \n",
    "Element $a_{aug}(t)$ is equal to $[a(t), a_{\\theta}(t), a_t(t)]$ and by multiplying it with previous element (matrix multiplication: 1x3 times 3x3 gives 1x3) we get: \n",
    "    \n",
    "<center>$\n",
    "\\begin{align}\n",
    "\\frac{da_{aug}(t)}{dt} = -[a \\cdot \\frac{df}{dz}, a \\cdot \\frac{df}{d\\theta}, a \\cdot \\frac{df}{dt}] \\tag{12}\n",
    "\\end{align}\n",
    "$\n",
    "    \n",
    "Last missing element for augmented state method is to calculate initial states $a_t(t_{N})$ and $a_{\\theta}(t_N)$ (we know $a(t_{N})$ from original adjoint method). Let $a_{\\theta}(t_N) = 0$:\n",
    "    \n",
    "<center>$\n",
    "\\begin{align}\n",
    "a_{\\theta}(t_0) = a_{\\theta}(t_N) - \\int_{t_N}^{t_0}{a(t) \\cdot \\frac{df(z(t), t)dt}{d\\theta}}\n",
    "= - \\int_{t_N}^{t_0}{a(t) \\cdot \\frac{df(z(t), t)dt}{d\\theta}} \\tag{13}\n",
    "\\end{align}\n",
    "$\n",
    "    \n",
    "Similar with time parameter: \n",
    "\n",
    "<center>$\n",
    "\\begin{align}\n",
    "a_t(t_0) = a_t(t_N) - \\int_{t_N}^{t_0}{a(t) \\cdot \\frac{df(z(t), t)dt}{dt}} \\tag{14}\n",
    "\\end{align}\n",
    "$\n",
    "    \n",
    "For initial (starting) state it is required to have $a_t(t_N)$:\n",
    "    \n",
    "<center>$\n",
    "\\begin{align}\n",
    "a_t(t_N) = \\frac{dL}{dt(t_N)} = \\frac{dL}{dz(t_N)}^T \\cdot \\frac{dz(t_N)}{dt(t_N)} \n",
    "= a(t_N)^T \\cdot f(z(t_N), t_N, \\theta) \\tag{15}\n",
    "\\end{align}\n",
    "$"
   ]
  },
  {
   "cell_type": "markdown",
   "id": "78389234",
   "metadata": {},
   "source": [
    "### Full Algorithm\n",
    "\n",
    "**References:**\n",
    "- $t_1$ - initial state time point\n",
    "- $t_0$ - end state time point (adjoin method goes backward in time)\n",
    "- $\\theta$ - model parameters\n",
    "- $z(t_1)$ - initial state\n",
    "- $\\frac{dL}{dz(t_1)}$ - loss gradient (implementation: calculated using pytorch autograd - automatic differentiation module)\n",
    "\n",
    "![](images/node-algorithm.png)\n",
    "\n",
    "**Implementation notes:**\n",
    "- step 1: $\\frac{dL}{dt(t_1)}$ - This gradient can be calcualted directly from (15) (implementation: simple matrix multiplication)\n",
    "- step 2: $s_0$ - Initial augmented state (implementation: simple vector or tensor concatenation)\n",
    "- step 3: aug_dynamics - Augmented adjoint method (implementation: based on ODEF module - use PyTorch automatic differentiation module to calculate Jacobian-vector product)\n",
    "- step 4: Apply ODESolve and unpack vector (or tensor)"
   ]
  },
  {
   "cell_type": "markdown",
   "id": "ebde1204",
   "metadata": {},
   "source": [
    "## Benefits of NODE (Neural Ordinary Differential Equations) models\n",
    "\n",
    "This sections contains set of explained NODE benefits.\n",
    "\n",
    "### Memory efficiency\n",
    "\n",
    "If ODESolver are used as a blackbox and direct backpropagation through them (algorithm) is avoided then there is no need to store intermediate quantities of the forward pass and models can be trained with cost as a function of depth (one of the main drawbacks of deep neural networks)\n",
    "\n",
    "### Adaptive computation\n",
    "\n",
    "If step size is decreased for Euler method (or any other solver) then the method is more accurate but requires more computational power. When step size is increased for Euler method (or any other solver) then the method is less accurate but requires less computation power. It is possible to use change and adapt accuracy and computation power requirements. Example: Use lower step size during training but higher step size during inference in order for the model to work in real time.\n",
    "\n",
    "![](images/node-nfe.png)\n",
    "\n",
    "In this case `NFE` stands for `Number of function evaluations` (solver function calls). Looking at above image from NODE paper there are following conclusions:\n",
    "- (a): When more evaluations are used during inference (forward pass) then numerical error is lower. This is computational cost and accuracy tradeoff.\n",
    "- (b): Total time spent in inference is strongly correlated with the number of function evaluations.\n",
    "- (c): Number of calls for function evaluation in backward propagation (adjoint ODE) is roughly half of the forward pass (interesting results).\n",
    "- (d): There are more function evaluations in later stages (this is not the case for Euler method).\n",
    "\n",
    "\n",
    "This can be one of the use cases for NODE models.\n",
    "\n",
    "Further reading: \n",
    "- [Vid-ODE: Continuous-Time Video Generation with Neural Ordinary Differential Equation](https://arxiv.org/pdf/2010.08188.pdf)\n",
    "\n",
    "### Scalable and invertible normalizing flows\n",
    "\n",
    "Work in progress...\n",
    "\n",
    "### Continuous time-series models\n",
    "\n",
    "One of the main assumptions of time series models like RNN (LSTM, GRU) is that data steam comes with constant period between two time points (distance between two time points is constant in case of no missing data). NODE model can naturally work with data stream with non constant period between two time points.\n",
    "\n",
    "This would be one of the main usecases for NODE models: \n",
    "- Incorporating data which arrives at arbitrary times.\n",
    "- Working with time series data which has many (consecutive) missing values.\n",
    "- Otherwise (in case of regularly sampled time series) it might be better to use standard RNN models.\n",
    "\n",
    "Further reading: \n",
    "- [Latent ODEs for Irregularly-Sampled Time Series](https://proceedings.neurips.cc/paper/2019/file/42a6845a557bef704ad8ac9cb4461d43-Paper.pdf)\n",
    "- [Neural Controlled Differential Equations for Irregular Time Series](https://proceedings.neurips.cc/paper/2020/file/4a5876b450b45371f6cfe5047ac8cd45-Paper.pdf)"
   ]
  },
  {
   "cell_type": "markdown",
   "id": "84236ccc",
   "metadata": {},
   "source": [
    "## Implementing NODE from scratch\n",
    "\n",
    "It is advised to read [A Gentle Introduction to PyTorch autograd](https://pytorch.org/tutorials/beginner/blitz/autograd_tutorial.html) before going through implementation. Based on **Full algorithm section** (recheck implementation notes and algorithm pseudocode).\n",
    "\n",
    "Reminder:\n",
    "<center>$\n",
    "\\begin{align}\n",
    "\\frac{a(t)}{dt} = -a(t) \\cdot \\frac{df(z(t), t, \\theta)}{dz(t)}\n",
    "\\end{align}\n",
    "$\n",
    "    \n",
    "In case $a(t)$ is a vector then it is more accurate to write:\n",
    "    \n",
    "<center>$\n",
    "\\begin{align}\n",
    "\\frac{a(t)}{dt} = -a(t)^T \\cdot \\frac{df(z(t), t, \\theta)}{dz(t)}\n",
    "\\end{align}\n",
    "$\n",
    "   \n",
    "Pytorch autograd function [torchgrad.autograd.grad](https://pytorch.org/docs/stable/generated/torch.autograd.grad.html#torch.autograd.grad) is used to calculate vector-Jacobian product where \"vector\" is equal to $a$."
   ]
  },
  {
   "cell_type": "code",
   "execution_count": 4,
   "id": "1338ab70",
   "metadata": {},
   "outputs": [],
   "source": [
    "DefaultODESolver = EulerMethod(0.05)  # Default ODESolver"
   ]
  },
  {
   "cell_type": "code",
   "execution_count": 5,
   "id": "94d893a1",
   "metadata": {},
   "outputs": [],
   "source": [
    "# This module represents state change function in ODE\n",
    "class ODEF(nn.Module):\n",
    "    \"\"\"\n",
    "    Parametrized dynamics function (dz/dt) superclass\n",
    "    (does not have forward pass defined)\n",
    "    \"\"\"\n",
    "    # noinspection PyMethodMayBeStatic\n",
    "    def forward_with_grad(self, z: torch.Tensor, t: torch.Tensor, grad_outputs: torch.Tensor) \\\n",
    "            -> Tuple[torch.Tensor, torch.Tensor, torch.Tensor, torch.Tensor]:\n",
    "        \"\"\"\n",
    "        Performs forward pass and calculates:\n",
    "            - da/dt = df/dz * a\n",
    "            - da_t/dt = df/dt * a\n",
    "            - a_theta/dt = df/dtheta * a\n",
    "\n",
    "        Args:\n",
    "            z: State\n",
    "            t: Time\n",
    "            grad_outputs: Grad outputs (a)\n",
    "\n",
    "        Returns:\n",
    "            z, a_dfdz, a_dfdt, a_dfdtheta\n",
    "        \"\"\"\n",
    "        batch_size = z.shape[0]  # required for postprocessing\n",
    "\n",
    "        z_end = self.forward(z, t)\n",
    "        a = grad_outputs  # dL/dz(t)\n",
    "\n",
    "        # Reference: `https://pytorch.org/tutorials/beginner/blitz/autograd_tutorial.html`\n",
    "        # - Autograd performs operation J.T @ v (numpy notation)\n",
    "        #   where J is Jacobian and v is output gradient (example: loss)\n",
    "        # - In this case: v == a, and J.T == df/dp where p is parameter (z, t or theta)\n",
    "        #   so we get df/dz * a, df/dt * a and df/dtheta * a\n",
    "        #   which is exactly what we need for a, a_t and a_theta\n",
    "        parameters = tuple(self.parameters())\n",
    "        a_dfdz, a_dfdt, *a_dfdtheta = torch.autograd.grad(\n",
    "            outputs=(z_end,), # forward pass outputs\n",
    "            inputs=(z, t) + parameters,  # z, t and theta\n",
    "            grad_outputs=(a,),  # gradient vector of the loss\n",
    "            allow_unused=True,\n",
    "            retain_graph=True\n",
    "        )\n",
    "\n",
    "        # grad function automatically sums gradients -> expanding them\n",
    "        # autograd returns None if variables are not used in forward pass\n",
    "        # -> replacing None values with zero gradients\n",
    "        if a_dfdz is None:\n",
    "            a_dfdz = torch.zeros_like(z).to(z)\n",
    "\n",
    "        if a_dfdtheta is not None:\n",
    "            a_dfdtheta = torch.cat([p_grad.flatten() for p_grad in a_dfdtheta]).unsqueeze(0)\n",
    "            a_dfdtheta = a_dfdtheta.expand(batch_size, -1) / batch_size\n",
    "        else:\n",
    "            a_dfdtheta = torch.zeros(batch_size, len(parameters)).to(z)\n",
    "\n",
    "        if a_dfdt is not None:\n",
    "            a_dfdt = a_dfdt.expand(batch_size, 1) / batch_size\n",
    "        else:\n",
    "            a_dfdt = torch.zeros(batch_size, 1).to(z)\n",
    "\n",
    "        return z_end, a_dfdz, a_dfdt, a_dfdtheta\n",
    "\n",
    "    @property\n",
    "    def flat_parameters(self):\n",
    "        \"\"\"\n",
    "        Returns: Returns flat parameters tensor\n",
    "        \"\"\"\n",
    "        return torch.cat([p.flatten() for p in self.parameters()])"
   ]
  },
  {
   "cell_type": "markdown",
   "id": "c5318e9d",
   "metadata": {},
   "source": [
    "### Minibatches in NODE\n",
    "\n",
    "It is possible to apply ODESolver in parallel for multiple states $z_{i}(t)$ if they share same intermediate time points in solver (this can be forced). In that case all states in single time point can be stacked and processed as a single \"batch\". Minibatch format: (time_length, batch_size, state_tensor_shape)."
   ]
  },
  {
   "cell_type": "code",
   "execution_count": 6,
   "id": "c2c8ddf1",
   "metadata": {},
   "outputs": [],
   "source": [
    "# Implementation of Adjoint method\n",
    "class ODEAdjoint(torch.autograd.Function):\n",
    "    @staticmethod\n",
    "    def create_aug_dynamics(batch_size, shape, func) -> Callable:\n",
    "        \"\"\"\n",
    "        Creates augmented dynamics function\n",
    "\n",
    "        Args:\n",
    "            batch_size: Batch size\n",
    "            shape: Shape of z tensor\n",
    "            func: State change function\n",
    "\n",
    "        Returns:\n",
    "            augmented dynamics functions\n",
    "        \"\"\"\n",
    "        n_dim = round(np.prod(shape))\n",
    "\n",
    "        def aug_dynamics(aug_z: torch.Tensor, t: torch.Tensor) -> torch.Tensor:\n",
    "            \"\"\"\n",
    "            Augmented state change function\n",
    "\n",
    "            Args:\n",
    "                aug_z: flat tensor (z, a, a_t, a_theta) with shape (batch_size, n_dim+ndim+1+n_params)\n",
    "                    where n_dim is z flat tensor dimension and n_params is theta (params) flat tensor dimensions\n",
    "                t: Time\n",
    "\n",
    "            Returns:\n",
    "                Augmented (z_end, -a_dfdz, -a_dfdt, -a_dfdtheta) as flat tensor\n",
    "            \"\"\"\n",
    "            # Input is flat (z, a, a_t, a_theta) - ignore a_t and a_theta\n",
    "            z, a = aug_z[:, :n_dim], aug_z[:, n_dim:2*n_dim]\n",
    "\n",
    "            z = z.view(batch_size, *shape)\n",
    "            a = a.view(batch_size, *shape)\n",
    "            with torch.set_grad_enabled(True):\n",
    "                z = z.requires_grad_()\n",
    "                t = t.requires_grad_()\n",
    "                z_end, a_dfdz, a_dfdt, a_dfdtheta = func.forward_with_grad(z, t, grad_outputs=a)\n",
    "\n",
    "            # Output has to be single tensor\n",
    "            # In adjoint a(t) formula we use negative value of integral\n",
    "            z_end = z_end.view(batch_size, n_dim) # flatten for concat\n",
    "            a_dfdz = a_dfdz.view(batch_size, n_dim)  # flatten for concat\n",
    "            return torch.cat([z_end, -a_dfdz, -a_dfdtheta, -a_dfdt], dim=-1)  # TODO: Reorder dfdt and dfdtheta\n",
    "\n",
    "        return aug_dynamics\n",
    "\n",
    "    @staticmethod\n",
    "    def forward(ctx: Any, z0: torch.Tensor, t: torch.Tensor, flat_theta: torch.Tensor, func: ODEF) -> torch.Tensor:\n",
    "        # z.shape == (time_len, batch_size, *vector_shape)\n",
    "        # z0.shape == (batch_size, *vector_shape)\n",
    "        # t.shape == (time_len, 1, 1)\n",
    "        assert len(t.shape) == 3, f'Expected shape is (time_len, 1, 1) but found {t.shape}'\n",
    "        n_steps = t.shape[0]\n",
    "\n",
    "        zs = [z0]\n",
    "        with torch.no_grad():\n",
    "            # ODESolver is used a blackbox (disable autograd)\n",
    "            for i in range(n_steps - 1):\n",
    "                z0, _ = DefaultODESolver.solve(z0, t[i], t[i+1], func)\n",
    "                zs.append(z0)\n",
    "\n",
    "        zs = torch.stack(zs)  # Stack all states into a single vector\n",
    "        ctx.func = func\n",
    "        ctx.save_for_backward(zs, t, flat_theta)\n",
    "        return zs\n",
    "\n",
    "    @staticmethod\n",
    "    def jvp(ctx: Any, dLdz: torch.Tensor) -> Tuple[torch.Tensor, torch.Tensor, torch.Tensor, None]:\n",
    "        \"\"\"\n",
    "        dLdz shape: time_len, batch_size, *z_shape\n",
    "        \"\"\"\n",
    "        func = ctx.func\n",
    "        z, t, flat_parameters = ctx.saved_tensors\n",
    "        time_len, batch_size, *z_shape = z.size()\n",
    "        n_dim = round(np.prod(z_shape))\n",
    "        n_params = flat_parameters.shape[0]\n",
    "\n",
    "        augmented_dynamics = ODEAdjoint.create_aug_dynamics(batch_size, z_shape, func)\n",
    "\n",
    "        dLdz = dLdz.view(time_len, batch_size, n_dim)  # flatten dLdz for convenience\n",
    "        with torch.no_grad():\n",
    "            # Variables to store adjoint states\n",
    "            a = torch.zeros(batch_size, n_dim).to(dLdz)\n",
    "            a_theta = torch.zeros(batch_size, n_params).to(dLdz)\n",
    "            a_t = torch.zeros(time_len, batch_size, 1).to(dLdz)  # adjoint t needs to be stored for all timestamps\n",
    "\n",
    "            for i_t in range(time_len-1, 0, -1):\n",
    "                # Iteration steps:\n",
    "                # 1. Form augmented state\n",
    "                # 2. Use ODESolve with augmented dynamics\n",
    "                # Calculate z backward in time (required for a(t) evaluation and augmented state)\n",
    "                z_i = z[i_t]\n",
    "                t_i = t[i_t]\n",
    "                dzdt_i = func(z_i, t_i).view(batch_size, n_dim)\n",
    "\n",
    "                # Math details: For augmented state we need (z, a, a_t, a_theta)\n",
    "                # a_t = dL/dt\n",
    "                # dL/dt = dL/dz(t) @ dz(t)/dt\n",
    "                #       = a(t) * func(z, i, theta)\n",
    "                # Note: we don't need theta in implementation since it is part of func (Module object)\n",
    "                # Implementation details: L is scalar, t is scalar, z is vector of dimension n\n",
    "                # hence dLdz shape is (1, n) and dzdt shape is (1, n) and dLdt shape is (1, 1) - vector scalar product\n",
    "                dLdz_i = dLdz[i_t]\n",
    "                # bmm is batch matrix multiplication (in parallel)\n",
    "                dLdt_i = torch.bmm(torch.transpose(dLdz_i.unsqueeze(-1), 1, 2), dzdt_i.unsqueeze(-1))[:, 0]\n",
    "\n",
    "                # Form augmented state z0_aug = (z, a, a_t, a_theta) = (z, dL/dz, dL/dt, dL/dtheta)\n",
    "                # We need to sum up gradients of loss function for all timestamps backward in time\n",
    "                # a_theta is set to 0\n",
    "                a = a + dLdz_i\n",
    "                a_t[i_t] = a_t[i_t] - dLdt_i\n",
    "                a_theta_i = torch.zeros(batch_size, n_params).to(z_i)  # We defined dL/dtheta as 0\n",
    "                z_i = z_i.view(batch_size, n_dim) # flatten for concat\n",
    "                z0_aug = torch.cat([z_i, a, a_t[i_t], a_theta_i], dim=-1)\n",
    "\n",
    "                # Solve augmented system backwards\n",
    "                dzdt_aug, _ = DefaultODESolver.solve(z0_aug, t_i, t[i_t-1], augmented_dynamics)\n",
    "\n",
    "                # Unpack solved backwards augmented system\n",
    "                a[:] = dzdt_aug[:, n_dim:2*n_dim]\n",
    "                a_theta[:] += dzdt_aug[:, 2*n_dim:2*n_dim + n_params]\n",
    "                a_t[i_t-1] = dzdt_aug[:, 2*n_dim + n_params:]\n",
    "\n",
    "            ## Adjust 0 time adjoint with direct gradients\n",
    "            # Compute direct gradients\n",
    "            dzdt_0 = func(z[0], t[0])\n",
    "            dLdz_0 = dLdz[0]\n",
    "            dLdt_0 = torch.bmm(torch.transpose(dLdz_0.unsqueeze(-1), 1, 2), dzdt_0.view(batch_size, -1).unsqueeze(-1))[:, 0]\n",
    "\n",
    "            # Adjust adjoint states\n",
    "            a += dLdz_0\n",
    "            a_t[0] = a_t[0] - dLdt_0\n",
    "        return a.view(batch_size, *z_shape), a_t, a_theta, None\n",
    "\n",
    "    @staticmethod\n",
    "    def backward(ctx: Any, dLdz: torch.Tensor) -> Tuple[torch.Tensor, torch.Tensor, torch.Tensor, None]:\n",
    "        # Alias for jvp\n",
    "        return ODEAdjoint.jvp(ctx, dLdz)"
   ]
  },
  {
   "cell_type": "code",
   "execution_count": 7,
   "id": "3a643c7b",
   "metadata": {},
   "outputs": [],
   "source": [
    "class NeuralODE(nn.Module):\n",
    "    \"\"\"\n",
    "    Wrapper for ADJoint function\n",
    "    \"\"\"\n",
    "    def __init__(self, func: ODEF):\n",
    "        super(NeuralODE, self).__init__()\n",
    "        self.func = func\n",
    "\n",
    "    def forward(self, z0: torch.Tensor, t: torch.Tensor, full_sequence: bool = False) -> torch.Tensor:\n",
    "        z = ODEAdjoint.apply(z0, t, self.func.flat_parameters, self.func)\n",
    "\n",
    "        if full_sequence:\n",
    "            return z\n",
    "        return z[-1]"
   ]
  },
  {
   "cell_type": "markdown",
   "id": "220586d9",
   "metadata": {},
   "source": [
    "## Example: Spiral Dynamics\n",
    "\n",
    "Process for training NODE does not differ from training normal neural networks."
   ]
  },
  {
   "cell_type": "code",
   "execution_count": 8,
   "id": "2b15a230",
   "metadata": {},
   "outputs": [
    {
     "data": {
      "image/png": "[encoded data removed]",
      "text/plain": [
       "<Figure size 640x480 with 1 Axes>"
      ]
     },
     "metadata": {},
     "output_type": "display_data"
    }
   ],
   "source": [
    "# Testing NODE with \"pretrained\" (predefined weights) model\n",
    "class Linear2dTimeInvariantODEF(ODEF):\n",
    "    def __init__(self, W: Optional[torch.Tensor] = None):\n",
    "        \"\"\"\n",
    "        Special case of 2d ODEF\n",
    "        \n",
    "        Linear - applies linear transformation\n",
    "        TimeInvariant - does not use `t` input value\n",
    "        \n",
    "        Args: \n",
    "            W: 2d matrix (parameters)\n",
    "        \"\"\"\n",
    "        super(Linear2dTimeInvariantODEF, self).__init__()\n",
    "        assert W is None or W.shape == (2, 2), f'Wrong shape for weights! Got {W.shape} but expected (2, 2)!'\n",
    "        \n",
    "        self._linear = nn.Linear(2, 2, bias=False)\n",
    "        if W is not None:\n",
    "            self._linear.weight.data = W\n",
    "        \n",
    "    def forward(self, z: torch.Tensor, t: torch.Tensor) -> torch.Tensor:\n",
    "        return self._linear(z)\n",
    "\n",
    "    \n",
    "def plot_2d_state_sequence(zs: np.ndarray, color: str = 'blue', title: str = 'Dynamics', label: str = '') -> None:\n",
    "    \"\"\"\n",
    "    Plot 2d sequence\n",
    "    \n",
    "    Args:\n",
    "        zs: State sequence\n",
    "        color: Sequence color\n",
    "        title: Plot title\n",
    "        label: Sequence label\n",
    "    \"\"\"\n",
    "    assert len(zs.shape) >= 3 and zs.shape[1] == 1\n",
    "    plt.plot(zs[:, 0, 0], zs[:, 0, 1], color=color, label=label)\n",
    "    plt.xlabel('z-x')\n",
    "    plt.ylabel('z-y')\n",
    "    plt.title(title)\n",
    "    \n",
    "    \n",
    "\n",
    "# Spiral dynamics example\n",
    "spiral_dynamics = Linear2dTimeInvariantODEF(torch.tensor([[-0.1, -1.0], [1.0, -0.1]]))  # dynamics definition\n",
    "node_spiral_dynamics = NeuralODE(spiral_dynamics)  # node wrapper\n",
    "ts = torch.linspace(0, 30, 200).view(-1, 1, 1)  # time points\n",
    "z0 = torch.tensor([[0.6, 0.3]])  # initial state\n",
    "\n",
    "zs = node_spiral_dynamics(z0, ts, full_sequence=True)\n",
    "zs = zs.detach().cpu().numpy()\n",
    "    \n",
    "plot_2d_state_sequence(zs, title='Spiral dynamics')\n",
    "plt.show()"
   ]
  },
  {
   "cell_type": "markdown",
   "id": "329972fc",
   "metadata": {},
   "source": [
    "### Training \n",
    "\n",
    "Goal is to initialize random weights and train model to learn spiral dynamics."
   ]
  },
  {
   "cell_type": "code",
   "execution_count": 9,
   "id": "5450b660",
   "metadata": {},
   "outputs": [],
   "source": [
    "def train(\n",
    "    model: NeuralODE, \n",
    "    zs_true: torch.Tensor, \n",
    "    ts: torch.Tensor,\n",
    "    n_steps: int = 1000\n",
    ") -> None:\n",
    "    \"\"\"\n",
    "    Train Spiral Dynamics model\n",
    "    \n",
    "    Args:\n",
    "        model: Model to train\n",
    "        zs_true: True state sequence values\n",
    "        ts: Time points\n",
    "        n_steps: Number of training steps\n",
    "    \"\"\"\n",
    "    optimizer = torch.optim.Adam(model.parameters(), lr=1e-2)\n",
    "    loss_func = nn.MSELoss()\n",
    "    n_time_points = zs.shape[0]\n",
    "    \n",
    "    history = []\n",
    "    loss_ema = 0.0\n",
    "    \n",
    "    with tqdm(range(1, n_steps+1)) as pbar:\n",
    "        for step_index in pbar:\n",
    "            # Sample batch\n",
    "            start_time_point_index = np.random.randint(0, n_time_points-2)\n",
    "            delta = np.random.randint(2, 32)\n",
    "            end_time_point_index = np.random.randint(start_time_point_index+1, \n",
    "                min(start_time_point_index + delta, n_time_points-1))\n",
    "\n",
    "            zs_true_sample = zs_true[start_time_point_index:end_time_point_index]\n",
    "            ts_sample = ts[start_time_point_index:end_time_point_index]\n",
    "            z0 = zs_true_sample[0]\n",
    "\n",
    "            # forward\n",
    "            zs_hat = model(z0, ts_sample, full_sequence=True)\n",
    "\n",
    "            # loss\n",
    "            loss = loss_func(zs_hat, zs_true_sample)\n",
    "            loss_scalar = loss.detach().cpu().item()\n",
    "            history.append(loss_scalar)\n",
    "            loss_ema = loss_ema * 0.9 + loss * 0.1\n",
    "\n",
    "            # backward\n",
    "            optimizer.zero_grad()\n",
    "            loss.backward(retain_graph=True)\n",
    "            optimizer.step()\n",
    "            \n",
    "            pbar.set_description(f'Mean Squared Error Loss: {loss_ema.detach().cpu().item():.4f}')\n",
    "        \n",
    "    return history"
   ]
  },
  {
   "cell_type": "code",
   "execution_count": 10,
   "id": "bf02bb04",
   "metadata": {},
   "outputs": [
    {
     "data": {
      "application/vnd.jupyter.widget-view+json": {
       "model_id": "c05a0e25c16a40cc8e4e9ead405c1166",
       "version_major": 2,
       "version_minor": 0
      },
      "text/plain": [
       "  0%|          | 0/2500 [00:00<?, ?it/s]"
      ]
     },
     "metadata": {},
     "output_type": "display_data"
    },
    {
     "data": {
      "image/png": "[encoded data removed]",
      "text/plain": [
       "<Figure size 640x480 with 1 Axes>"
      ]
     },
     "metadata": {},
     "output_type": "display_data"
    }
   ],
   "source": [
    "# Real dynamics (ground truth)\n",
    "spiral_dynamics = Linear2dTimeInvariantODEF(torch.tensor([[-0.1, -1.0], [1.0, -0.1]]))  # dynamics definition\n",
    "node_spiral_dynamics = NeuralODE(spiral_dynamics)  # node wrapper\n",
    "\n",
    "# Model with random weights to learn the dynamics\n",
    "node_model = NeuralODE(Linear2dTimeInvariantODEF())\n",
    "\n",
    "# Create dataset - train\n",
    "ts_train = torch.linspace(0, 30, 200).view(-1, 1, 1)  # time points\n",
    "z0_train = torch.tensor([[0.6, 0.3]])  # initial state\n",
    "zs_train = node_spiral_dynamics(z0_train, ts_train, full_sequence=True)\n",
    "zs_train = zs_train + torch.randn_like(zs_train) * 0.01  # add noise\n",
    "\n",
    "# Create dataset - val\n",
    "ts_val = torch.linspace(30, 35, 33).view(-1, 1, 1)  # time points\n",
    "z0_val = zs_train[-1]\n",
    "zs_val = node_spiral_dynamics(z0_val, ts_val, full_sequence=True) # no noise\n",
    "\n",
    "# Train model\n",
    "history = train(node_model, zs_train, ts_train, n_steps=2500)\n",
    "\n",
    "# Plot training history\n",
    "plt.plot(history, color='blue')\n",
    "plt.xlabel('Step')\n",
    "plt.ylabel('MSE')\n",
    "plt.title('Training history')\n",
    "plt.show()"
   ]
  },
  {
   "cell_type": "code",
   "execution_count": 11,
   "id": "a61d5d3e",
   "metadata": {},
   "outputs": [
    {
     "data": {
      "text/plain": [
       "Parameter containing:\n",
       "tensor([[-0.08, -1.01],\n",
       "        [ 0.98, -0.10]], requires_grad=True)"
      ]
     },
     "execution_count": 11,
     "metadata": {},
     "output_type": "execute_result"
    }
   ],
   "source": [
    "# Weights should be close to real dynamics\n",
    "node_model.func._linear.weight"
   ]
  },
  {
   "cell_type": "code",
   "execution_count": 12,
   "id": "eedc96a0",
   "metadata": {
    "scrolled": true
   },
   "outputs": [
    {
     "data": {
      "image/png": "[encoded data removed]",
      "text/plain": [
       "<Figure size 1000x700 with 1 Axes>"
      ]
     },
     "metadata": {},
     "output_type": "display_data"
    }
   ],
   "source": [
    "# Visualize model results (on training and validation datasets)\n",
    "zs_train_hat = node_model(z0_train, ts_train, full_sequence=True)\n",
    "zs_train_hat = zs_train_hat.detach().cpu().numpy()\n",
    "\n",
    "zs_val_hat = node_model(z0_val, ts_val, full_sequence=True)\n",
    "zs_val_hat = zs_val_hat.detach().cpu().numpy()\n",
    "\n",
    "zs_train = zs_train.detach().cpu().numpy()\n",
    "zs_val = zs_val.detach().cpu().numpy()\n",
    "\n",
    "plt.figure(figsize=(10, 7))\n",
    "plot_2d_state_sequence(zs_train, color='cyan', label='train - true')\n",
    "plot_2d_state_sequence(zs_train_hat, color='blue', label='train - prediction')\n",
    "plot_2d_state_sequence(zs_val, color='orange', label='val - true')\n",
    "plot_2d_state_sequence(zs_val_hat, title='Inference', color='red', label='val - prediction')\n",
    "plt.legend()\n",
    "plt.show()"
   ]
  },
  {
   "cell_type": "markdown",
   "id": "9f96f7fe",
   "metadata": {},
   "source": [
    "Even with signifficant noise in the training dataset the Neural NODE model managed to learn spiral dynamics."
   ]
  },
  {
   "cell_type": "markdown",
   "id": "2b7dde99",
   "metadata": {},
   "source": [
    "## Example: \"Infinite\" ResNet on MNIST\n",
    "\n",
    "Implementation of continuous ResNet on MNIST dataset.\n",
    "\n",
    "Residual networks (ResNet) main building block are residual block with transformations:\n",
    "\n",
    "<center>$\n",
    "\\begin{align}\n",
    "h_{t+1} = h_{t} + f(h_{t}, \\theta_{t}) \\tag{B1}\\label{B1}\n",
    "\\end{align}\n",
    "$\n",
    "\n",
    "Here $h_{t}$ is the t-th layer and $f$ is a function that has parameters $\\theta_{t}$ (layer parameters) and input form previous layer $h_{t}$. \n",
    "    \n",
    "Function $f$ for images is convolutional layer. Equation \\ref{B1} looks like a *Euler Method* when step size is 1:\n",
    "    \n",
    "<center>$\n",
    "\\begin{align}\n",
    "h(t+\\epsilon) = h(t) + f(h(t), \\theta_{t}) \\cdot \\epsilon \\tag{B2}\\label{B2}\n",
    "\\end{align}\n",
    "$\n",
    "    \n",
    "Which is equal to:\n",
    "    \n",
    "<center>$\n",
    "\\begin{align}\n",
    "\\frac{h(t+\\epsilon) - h(t)}{\\epsilon} = f(h(t), \\theta_{t}) \\tag{B3}\\label{B3}\n",
    "\\end{align}\n",
    "$\n",
    "   \n",
    "When limit $e -> 0$ is applied to \\ref{B3} then next equation is acquired:\n",
    "    \n",
    "<center>$\n",
    "\\begin{align}\n",
    "\\frac{dh(t)}{dt} = f(h(t), t, \\theta) \\tag{B4}\\label{B4}\n",
    "\\end{align}\n",
    "$\n",
    "    \n",
    "Conclusion: Continuous ResNet can be implemented using Neural ODE."
   ]
  },
  {
   "cell_type": "markdown",
   "id": "9b3e541e",
   "metadata": {},
   "source": [
    "### Implementation details\n",
    "\n",
    "ResNet consists of:\n",
    "- Initial downsample layer (convolutions without skip connections);\n",
    "- Sequence of convolutional layers with skip connections (will be replaced with ODE with conv2d operation);\n",
    "- Average pool;\n",
    "- MLP (fully connected layer for classification).\n",
    "\n",
    "Implementation notes:\n",
    "- Two time points are used: start time point 0.0 and end time point 1.0. ODESolver still uses intermediate time points."
   ]
  },
  {
   "cell_type": "code",
   "execution_count": 13,
   "id": "93825ba2",
   "metadata": {},
   "outputs": [],
   "source": [
    "IntTuple = Union[Tuple[int], int]\n",
    "\n",
    "\n",
    "# Basic building block - CNN with BatchNorma\n",
    "# BatchNorm paper - https://arxiv.org/pdf/1502.03167.pdf\n",
    "class CNNBlock(nn.Module):\n",
    "    def __init__(\n",
    "        self,\n",
    "        in_channels: int,\n",
    "        out_channels: int,\n",
    "        kernel_size: IntTuple,\n",
    "        stride: IntTuple = 1,\n",
    "        padding: Union[int, str] = 'same',\n",
    "        activate_relu: bool = True,\n",
    "        **kwargs\n",
    "    ):\n",
    "        \"\"\"\n",
    "        Convolutional 2D layer combined with 2d batch norm\n",
    "\n",
    "        Args:\n",
    "            in_channels: Number of input channels\n",
    "            out_channels: Number of output channels\n",
    "            kernel_size: Kernel size\n",
    "            stride: Stride\n",
    "            padding: Padding\n",
    "            activate_relu: Use ReLU as activation function\n",
    "        \"\"\"\n",
    "        super(CNNBlock, self).__init__()\n",
    "        self._conv = nn.Conv2d(in_channels, out_channels, kernel_size, stride, padding, bias=False, **kwargs)\n",
    "        self._batchnorm = nn.BatchNorm2d(out_channels)\n",
    "        self._lrelu = nn.LeakyReLU(0.1)\n",
    "        self._activate_relu = activate_relu\n",
    "\n",
    "    def forward(self, x: torch.Tensor) -> torch.Tensor:\n",
    "        x = self._batchnorm(self._conv(x))\n",
    "        if self._activate_relu:\n",
    "            x = self._lrelu(x)\n",
    "        return x\n",
    "    \n",
    "\n",
    "# ODE CNN is similar to original CNN but it is required to integrate time value with inputs\n",
    "# Easiest way to do this is to add time with repeated values as an additional input filter\n",
    "class ConvODEF(ODEF):\n",
    "    def __init__(self, state_filters: int, hidden_filters: int, kernel_size: int = 3):\n",
    "        \"\"\"\n",
    "        ODEF with 2d convolutional operations\n",
    "        \n",
    "        Args:\n",
    "            state_filters: Number of input filters\n",
    "            hidden_filters: Number of hidden filters\n",
    "            kernel_size: Kernel size (default: 3)\n",
    "        \"\"\"\n",
    "        super(ConvODEF, self).__init__()\n",
    "        self._conv1 = CNNBlock(state_filters + 1, hidden_filters, kernel_size)\n",
    "        self._conv2 = CNNBlock(hidden_filters + 1, state_filters, kernel_size)\n",
    "        \n",
    "    def forward(self, x: torch.Tensor, t: torch.Tensor) -> torch.Tensor:\n",
    "        batch_size, _, w, h = x.shape\n",
    "        t_expanded = t.expand(batch_size, 1, w, h).to(x)  # channel dimension ~ 1\n",
    "        xt = torch.cat([x, t_expanded], dim=1)\n",
    "        \n",
    "        h = self._conv1(xt)\n",
    "        ht = torch.cat([h, t_expanded], dim=1)\n",
    "        \n",
    "        return self._conv2(ht)\n",
    "    \n",
    "    \n",
    "class ContinuousResNet(nn.Module):\n",
    "    def __init__(self):\n",
    "        \"\"\"\n",
    "        Continuous ResNet implementation\n",
    "        \"\"\"\n",
    "        super(ContinuousResNet, self).__init__()\n",
    "        self._downsample = nn.Sequential(\n",
    "            CNNBlock(1, 64, kernel_size=3),\n",
    "            CNNBlock(64, 64, kernel_size=3, stride=2, padding=1),\n",
    "            CNNBlock(64, 64, kernel_size=3, stride=2, padding=1)\n",
    "        )\n",
    "        self._cnn_with_residuals = NeuralODE(ConvODEF(64, 64, kernel_size=3))\n",
    "        self._time = torch.tensor([0.0, 1.0]).view(2, 1, 1)\n",
    "        \n",
    "        self._avgpool = nn.AvgPool2d(7, stride=1)\n",
    "        self._flatten = nn.Flatten()\n",
    "        self._classifier = nn.Linear(64, 10)\n",
    "        \n",
    "    def forward(self, x: torch.Tensor) -> torch.Tensor:\n",
    "        x = self._downsample(x)\n",
    "        # x = self._cnn_with_residuals(x, self._time.to(x))\n",
    "        x = self._avgpool(x)\n",
    "        x = self._flatten(x)\n",
    "        return self._classifier(x)"
   ]
  },
  {
   "cell_type": "code",
   "execution_count": 14,
   "id": "cc80afcd",
   "metadata": {},
   "outputs": [
    {
     "data": {
      "application/vnd.jupyter.widget-view+json": {
       "model_id": "fb8bc32e0cde4889af0eff1039db5567",
       "version_major": 2,
       "version_minor": 0
      },
      "text/plain": [
       "  0%|          | 0/10 [00:00<?, ?it/s]"
      ]
     },
     "metadata": {},
     "output_type": "display_data"
    },
    {
     "data": {
      "application/vnd.jupyter.widget-view+json": {
       "model_id": "c65541e23c774bdcb235111e21621f1e",
       "version_major": 2,
       "version_minor": 0
      },
      "text/plain": [
       "training:   0%|          | 0/938 [00:00<?, ?batch/s]"
      ]
     },
     "metadata": {},
     "output_type": "display_data"
    },
    {
     "data": {
      "application/vnd.jupyter.widget-view+json": {
       "model_id": "e235a2144b3644f1b9704021e1f6eac6",
       "version_major": 2,
       "version_minor": 0
      },
      "text/plain": [
       "validation:   0%|          | 0/157 [00:00<?, ?batch/s]"
      ]
     },
     "metadata": {},
     "output_type": "display_data"
    },
    {
     "data": {
      "application/vnd.jupyter.widget-view+json": {
       "model_id": "b5fc22f11c7b4db2994979d963d06934",
       "version_major": 2,
       "version_minor": 0
      },
      "text/plain": [
       "training:   0%|          | 0/938 [00:00<?, ?batch/s]"
      ]
     },
     "metadata": {},
     "output_type": "display_data"
    },
    {
     "data": {
      "application/vnd.jupyter.widget-view+json": {
       "model_id": "c3758378b64443399a2daa1ffaf0a3a5",
       "version_major": 2,
       "version_minor": 0
      },
      "text/plain": [
       "validation:   0%|          | 0/157 [00:00<?, ?batch/s]"
      ]
     },
     "metadata": {},
     "output_type": "display_data"
    },
    {
     "data": {
      "application/vnd.jupyter.widget-view+json": {
       "model_id": "4ef0086b97b54ac5aac9fa5f71a77b2d",
       "version_major": 2,
       "version_minor": 0
      },
      "text/plain": [
       "training:   0%|          | 0/938 [00:00<?, ?batch/s]"
      ]
     },
     "metadata": {},
     "output_type": "display_data"
    },
    {
     "data": {
      "application/vnd.jupyter.widget-view+json": {
       "model_id": "39ac41157d5048a5be2ac97b58677ed2",
       "version_major": 2,
       "version_minor": 0
      },
      "text/plain": [
       "validation:   0%|          | 0/157 [00:00<?, ?batch/s]"
      ]
     },
     "metadata": {},
     "output_type": "display_data"
    },
    {
     "data": {
      "application/vnd.jupyter.widget-view+json": {
       "model_id": "bce3647922ff4141999dcf649e59fe61",
       "version_major": 2,
       "version_minor": 0
      },
      "text/plain": [
       "training:   0%|          | 0/938 [00:00<?, ?batch/s]"
      ]
     },
     "metadata": {},
     "output_type": "display_data"
    },
    {
     "data": {
      "application/vnd.jupyter.widget-view+json": {
       "model_id": "1438d089bb1e46ba91487237b3a8558f",
       "version_major": 2,
       "version_minor": 0
      },
      "text/plain": [
       "validation:   0%|          | 0/157 [00:00<?, ?batch/s]"
      ]
     },
     "metadata": {},
     "output_type": "display_data"
    },
    {
     "data": {
      "application/vnd.jupyter.widget-view+json": {
       "model_id": "a372789d23494600be1461d2ff2bce5b",
       "version_major": 2,
       "version_minor": 0
      },
      "text/plain": [
       "training:   0%|          | 0/938 [00:00<?, ?batch/s]"
      ]
     },
     "metadata": {},
     "output_type": "display_data"
    },
    {
     "data": {
      "application/vnd.jupyter.widget-view+json": {
       "model_id": "1ce804d0191444ca96460206f74543ca",
       "version_major": 2,
       "version_minor": 0
      },
      "text/plain": [
       "validation:   0%|          | 0/157 [00:00<?, ?batch/s]"
      ]
     },
     "metadata": {},
     "output_type": "display_data"
    },
    {
     "data": {
      "application/vnd.jupyter.widget-view+json": {
       "model_id": "c79d7c9057e84fa9a65149f947381015",
       "version_major": 2,
       "version_minor": 0
      },
      "text/plain": [
       "training:   0%|          | 0/938 [00:00<?, ?batch/s]"
      ]
     },
     "metadata": {},
     "output_type": "display_data"
    },
    {
     "data": {
      "application/vnd.jupyter.widget-view+json": {
       "model_id": "a35233c6d49c41fd93e7830a92dbf44b",
       "version_major": 2,
       "version_minor": 0
      },
      "text/plain": [
       "validation:   0%|          | 0/157 [00:00<?, ?batch/s]"
      ]
     },
     "metadata": {},
     "output_type": "display_data"
    },
    {
     "data": {
      "application/vnd.jupyter.widget-view+json": {
       "model_id": "c20b640a92bf4e9a95a8a9981b9a8f64",
       "version_major": 2,
       "version_minor": 0
      },
      "text/plain": [
       "training:   0%|          | 0/938 [00:00<?, ?batch/s]"
      ]
     },
     "metadata": {},
     "output_type": "display_data"
    },
    {
     "data": {
      "application/vnd.jupyter.widget-view+json": {
       "model_id": "27263711fa494afead40c3831da95a48",
       "version_major": 2,
       "version_minor": 0
      },
      "text/plain": [
       "validation:   0%|          | 0/157 [00:00<?, ?batch/s]"
      ]
     },
     "metadata": {},
     "output_type": "display_data"
    },
    {
     "data": {
      "application/vnd.jupyter.widget-view+json": {
       "model_id": "d384df8074784a7291cdcfc60b39c72e",
       "version_major": 2,
       "version_minor": 0
      },
      "text/plain": [
       "training:   0%|          | 0/938 [00:00<?, ?batch/s]"
      ]
     },
     "metadata": {},
     "output_type": "display_data"
    },
    {
     "data": {
      "application/vnd.jupyter.widget-view+json": {
       "model_id": "4ddb21710e484751a7845407a635e08b",
       "version_major": 2,
       "version_minor": 0
      },
      "text/plain": [
       "validation:   0%|          | 0/157 [00:00<?, ?batch/s]"
      ]
     },
     "metadata": {},
     "output_type": "display_data"
    },
    {
     "data": {
      "application/vnd.jupyter.widget-view+json": {
       "model_id": "c5d7734f1b4c484e8f510c003366c2e5",
       "version_major": 2,
       "version_minor": 0
      },
      "text/plain": [
       "training:   0%|          | 0/938 [00:00<?, ?batch/s]"
      ]
     },
     "metadata": {},
     "output_type": "display_data"
    },
    {
     "data": {
      "application/vnd.jupyter.widget-view+json": {
       "model_id": "b4a8817fae6a4bdc89635e74c359f771",
       "version_major": 2,
       "version_minor": 0
      },
      "text/plain": [
       "validation:   0%|          | 0/157 [00:00<?, ?batch/s]"
      ]
     },
     "metadata": {},
     "output_type": "display_data"
    },
    {
     "data": {
      "application/vnd.jupyter.widget-view+json": {
       "model_id": "96c1aa8fc1b0474fb50c49fda18496de",
       "version_major": 2,
       "version_minor": 0
      },
      "text/plain": [
       "training:   0%|          | 0/938 [00:00<?, ?batch/s]"
      ]
     },
     "metadata": {},
     "output_type": "display_data"
    },
    {
     "data": {
      "application/vnd.jupyter.widget-view+json": {
       "model_id": "21567c75281d4a8286a763e859e6e21a",
       "version_major": 2,
       "version_minor": 0
      },
      "text/plain": [
       "validation:   0%|          | 0/157 [00:00<?, ?batch/s]"
      ]
     },
     "metadata": {},
     "output_type": "display_data"
    }
   ],
   "source": [
    "# Script to train model\n",
    "def train_model(\n",
    "    model: nn.Module, \n",
    "    train_loader: torch.utils.data.DataLoader, \n",
    "    val_loader: torch.utils.data.DataLoader, \n",
    "    device: Union[torch.device, str],\n",
    "    n_epochs: int = 10\n",
    ") -> None:\n",
    "    \"\"\"\n",
    "    Train ContinuousResNet model\n",
    "    \n",
    "    Args:\n",
    "        model: Model to train\n",
    "        train_loader: Train data loader\n",
    "        val_loader: Val data loader\n",
    "        device: cpu/cuda\n",
    "        n_epochs: Number of epochs to train (default: 10)\n",
    "    \"\"\"\n",
    "    loss_func = nn.CrossEntropyLoss()\n",
    "    optimizer = torch.optim.Adam(model.parameters(), lr=1e-2)\n",
    "    \n",
    "    with tqdm(range(1, n_epochs+1)) as pbar:\n",
    "        for epoch in pbar:\n",
    "            train_loss_value_items = []\n",
    "            val_loss_value_items = []\n",
    "            train_accuracy = []\n",
    "            val_accuracy = []\n",
    "            \n",
    "            # Train\n",
    "            model.train()\n",
    "            for images, labels in tqdm(train_loader, desc='training', unit='batch'):\n",
    "                images, labels = images.to(device), labels.to(device)\n",
    "                batch_size = images.shape[0]\n",
    "                \n",
    "                optimizer.zero_grad()\n",
    "                outputs = model(images)\n",
    "                loss = loss_func(outputs, labels)\n",
    "                loss.backward()\n",
    "                optimizer.step()\n",
    "                \n",
    "                train_loss_value_items.append(loss.detach().cpu().item())\n",
    "                predicted_labels = torch.argmax(outputs, dim=-1)\n",
    "                batch_accuracy = (predicted_labels == labels).detach().cpu().sum().item() / batch_size\n",
    "                train_accuracy.append(batch_accuracy)\n",
    "                \n",
    "            # Evaluation\n",
    "            model.eval()\n",
    "            with torch.no_grad():\n",
    "                for images, labels in tqdm(val_loader, desc='validation', unit='batch'):\n",
    "                    images, labels = images.to(device), labels.to(device)\n",
    "                    batch_size = images.shape[0]\n",
    "                    \n",
    "                    outputs = model(images)\n",
    "                    loss = loss_func(outputs, labels)\n",
    "\n",
    "                    val_loss_value_items.append(loss.detach().cpu().item())\n",
    "                    predicted_labels = torch.argmax(outputs, dim=-1)\n",
    "                    batch_accuracy = (predicted_labels == labels).detach().cpu().sum().item() / batch_size\n",
    "                    val_accuracy.append(batch_accuracy)\n",
    "               \n",
    "            pbar.set_description('Train accuracy: '\n",
    "                                 f'{100*sum(train_accuracy)/len(train_accuracy):.2f}%'\n",
    "                                 ', Val accuracy: '\n",
    "                                 f'{100*sum(val_accuracy)/len(val_accuracy):.2f}%'\n",
    "                                 ', Train loss: '\n",
    "                                 f'{sum(train_loss_value_items)/len(train_loss_value_items):.4f}'\n",
    "                                 ', Val loss: '\n",
    "                                 f'{sum(val_loss_value_items)/len(val_loss_value_items):.4f}')\n",
    "            \n",
    "            \n",
    "BATCH_SIZE = 64\n",
    "\n",
    "preprocess_pipeline = torchvision.transforms.Compose([\n",
    "    torchvision.transforms.ToTensor(),\n",
    "    torchvision.transforms.Normalize((0.1307,), (0.3081,))\n",
    "])\n",
    "\n",
    "mnist_train_loader = DataLoader(\n",
    "    torchvision.datasets.MNIST(\n",
    "        root='assets',\n",
    "        train=True,\n",
    "        download=True,\n",
    "        transform=preprocess_pipeline\n",
    "    ),\n",
    "    batch_size=BATCH_SIZE,\n",
    "    num_workers=4,\n",
    "    shuffle=True\n",
    ")\n",
    "\n",
    "mnist_val_loader = DataLoader(\n",
    "    torchvision.datasets.MNIST(\n",
    "        root='assets',\n",
    "        train=False,\n",
    "        download=True,\n",
    "        transform=preprocess_pipeline\n",
    "    ),\n",
    "    batch_size=BATCH_SIZE,\n",
    "    num_workers=4,\n",
    "    shuffle=True\n",
    ")\n",
    "\n",
    "\n",
    "node_model = ContinuousResNet()\n",
    "node_model.train()\n",
    "node_model.to(DEVICE)\n",
    "            \n",
    "train_model(node_model, mnist_train_loader, mnist_val_loader, device=DEVICE)"
   ]
  },
  {
   "cell_type": "code",
   "execution_count": 15,
   "id": "6d587c4d-a8c8-4876-a138-196c792cbd01",
   "metadata": {},
   "outputs": [
    {
     "data": {
      "image/png": "[encoded data removed]",
      "text/plain": [
       "<Figure size 1400x1000 with 16 Axes>"
      ]
     },
     "metadata": {},
     "output_type": "display_data"
    }
   ],
   "source": [
    "# model output visualization on validation part od dataset.\n",
    "for image_samples, label_samples in mnist_val_loader:\n",
    "    break\n",
    "image_samples, label_samples = image_samples[:16].to(DEVICE), label_samples[:16].to(DEVICE)\n",
    "\n",
    "node_model.eval()\n",
    "predicted_label_samples = torch.argmax(node_model(image_samples), dim=-1).detach().cpu().numpy()\n",
    "image_samples, label_samples = image_samples.detach().cpu().numpy(), label_samples.detach().cpu().numpy()\n",
    "\n",
    "fig, axs = plt.subplots(figsize=(14, 10), nrows=4, ncols=4)\n",
    "for i in range(image_samples.shape[0]):\n",
    "    col = i % 4\n",
    "    row = i // 4\n",
    "    axs[row, col].imshow(image_samples[i][0])\n",
    "    axs[row, col].axis('off')\n",
    "    axs[row, col].set_title(f'prediction: {predicted_label_samples[i]}, label: {predicted_label_samples[i]}')\n",
    "    \n",
    "plt.show()"
   ]
  },
  {
   "cell_type": "markdown",
   "id": "378980a7-1e6f-48ab-9d66-1be330374176",
   "metadata": {},
   "source": [
    "## Example: Generative latent function time-series model\n",
    "\n",
    "Process for training NODE does not differ from training normal neural networks."
   ]
  },
  {
   "cell_type": "markdown",
   "id": "4d079cb2-2ea4-46e0-bc95-27f2898583c5",
   "metadata": {},
   "source": [
    "### Generate VAE time-series model motivation and explanation\n",
    "\n",
    "Notation:\n",
    "- $x$ - observable data (data space)\n",
    "- $z$ - latent state (latent space)\n",
    "- $h$ - hidden state (adding more model flexibility)\n",
    "- $p(x)$ - distribution\n",
    "\n",
    "NODE model is suitable to extrapolation at latent space. Given initial latent space state $z_{t_0} \\sim p(z_{t_0})$ it is possible to acquire values of $z_{t_1}, z_{t_2}, \\dots z_{t_N}$ using Neural ODE with parameters $\\theta_f$. Afterward the values $z_{t_i}$ in latent space can be mapped to $x_{t_i}$ in data space with a learnable function (neural network) $f_{\\theta_x}$ with . For $p(z)$ a standard normal distribution $\\mathcal{N}(0, 1)$ is chosen which is common choice for VAE model (regularization component):\n",
    "\n",
    "<center>$\n",
    "\\begin{align}\n",
    "z_{t_0} \\sim \\mathcal{N}(0, I)\n",
    "\\end{align}\n",
    "$\n",
    "    \n",
    "<center>$\n",
    "\\begin{align}\n",
    "z_{t_1}, z_{t_2}, \\dots z_{t_N} = ODESolve(z_{t_0}, f, [t_1, t_2, \\dots, t_N], \\theta_f)\n",
    "\\end{align}\n",
    "$\n",
    "    \n",
    "<center>$\n",
    "\\begin{align}\n",
    "each\\ x_{t_i} \\sim p(x|z_{t_i}, \\theta_x) \\equiv \\mathcal{N}(f_{\\theta_x}, cI)\n",
    "\\end{align}\n",
    "$"
   ]
  },
  {
   "cell_type": "markdown",
   "id": "2af473b6-af68-402f-8f69-f65ee45e9474",
   "metadata": {},
   "source": [
    "![](images/node-ts-vae.png)"
   ]
  },
  {
   "cell_type": "markdown",
   "id": "6b697516-52bb-42dd-ac5a-e4bf5fe85ddb",
   "metadata": {},
   "source": [
    "#### Training Algorithm\n",
    "\n",
    "Let $x_{t_0}, x_{t_1}, \\dots, x_{t_N}$ be the observable data points and $x_{t_{N+1}}, x_{t_{N+2}}, \\dots, x_{t_M}$ unobservable data points which may be referred as \"future data points\". Steps:\n",
    "\n",
    "1. Run RNN encoder with parameters $\\phi$ backward in time from $x_{t_N}$ to $x_{t_0}$ to infer $\\mu_{z_0}$ and $\\sigma_{z_0}$ normal distribution of variational posterior over $z_{t_0}$:\n",
    "\n",
    "<center>$\n",
    "\\begin{align}\n",
    "q(z_{t_0}|\\{x_{t_i}, t_i\\}, \\phi) = \\mathcal{N}(z_{t_0}|\\mu_{z_0}, \\sigma_{z_0})\n",
    "\\end{align}\n",
    "$"
   ]
  },
  {
   "cell_type": "markdown",
   "id": "1c3dfdd5-75ac-486f-a68a-4ba26196e03b",
   "metadata": {},
   "source": [
    "\n",
    "2. Sample $z_{t_0} \\sim q(z_{t_0}|\\{x_{t_i}, t_i\\})$ \n",
    "3. Obtain states in latent space $z_{t_0}, z_{t_1}, \\dots, z_{t_N}$ using $ODESolve(z_{t_0}, f, [t_1, t_2, \\dots, t_N], \\theta_f)$, where $f = \\frac{dz}{dt}$\n",
    "4. Map $z_{t_0}, z_{t_1}, \\dots, z_{t_N}$ to $\\hat{x}_{t_0}, \\hat{x}_{t_1}, \\dots, \\hat{x}_{t_N}$ using $f_{\\theta_x}$\n",
    "5. Calculate gradient of ELBO (Evidence Lower BOund) estimate:\n",
    "\n",
    "<center>$\n",
    "\\begin{align}\n",
    "ELBO = \\sum_{i=1}^N \\log{p(x_{t_i}|z_{t_i}, \\theta_x)} + KL(q(z_{t_0}|\\{x_{t_i}, t_i\\}, \\phi)|| \\mathcal{N}(0, I))\n",
    "\\end{align}\n",
    "$"
   ]
  },
  {
   "cell_type": "markdown",
   "id": "fa64e148-2aed-4a09-aa82-51dd6f6fae42",
   "metadata": {},
   "source": [
    "\n",
    "6. Perform backpropagation with gradient of ELBO loss with respect to $x_{t_0}, x_{t_1}, \\dots, x_{t_N}$\n",
    "\n",
    "Model-parameters reference:\n",
    "- RNN encoder: $\\phi$\n",
    "- Neural ODE latent space decoder: $\\theta_f$\n",
    "- Mapping (MLP) from latent space to data space: $\\theta_x$\n",
    "\n",
    "Answers to some key questions:\n",
    "- Why RNN run backward in time? RNN is ran through observable data point to obtain parameters $x_{t_N}$ to $x_{t_0}$. Since last input to RNN usually has more effect than first input it makes sense to run RNN backwards in time so last input is $x_{t_0}$.\n",
    "- How RNN encoder handles missing data? One standard approach to handle missing data when working with RNN is to add time point values (or time point differences) as input. RNN models can handle sequences with different length. \n",
    "\n",
    "#### Inference Algorithm\n",
    "\n",
    "Inference algorithm is same as training algorithm without steps 5 and 6 but with additional $t_{N+1}, t_{N+2}, \\dots, t_M$ time points for extrapolation."
   ]
  },
  {
   "cell_type": "markdown",
   "id": "f0fbbc85-5a47-41b7-9ff1-e3c457ec31ce",
   "metadata": {},
   "source": [
    "### Data Preparation\n",
    "\n",
    "For this experiment weather dataset from [tensorflow time series regression tutorial](https://www.tensorflow.org/tutorials/structured_data/time_series) is used. Dataset has information about multiple wather measure with 10 minute period. Only 1 hour measurments are sampled like in tensorflow regression tutorial in order to make experiments faster. It is expected that with 10 minutes samples a better accuracy can be achieved.\n",
    "\n",
    "This section includes:\n",
    "- Data collection\n",
    "- Data preprocessing\n",
    "- Data split (train and val)\n",
    "- Data normalization\n",
    "\n",
    "This subsection might not be too interesting but idea is to use \"more realistic\" dataset to test potentials of NODE VAE time-series model."
   ]
  },
  {
   "cell_type": "code",
   "execution_count": 16,
   "id": "481ae03c",
   "metadata": {},
   "outputs": [
    {
     "name": "stdout",
     "output_type": "stream",
     "text": [
      "--2022-12-25 16:57:59--  https://storage.googleapis.com/tensorflow/tf-keras-datasets/jena_climate_2009_2016.csv.zip\n",
      "Resolving storage.googleapis.com (storage.googleapis.com)... 172.217.16.144, 142.250.186.48, 172.217.18.16, ...\n",
      "Connecting to storage.googleapis.com (storage.googleapis.com)|172.217.16.144|:443... connected.\n",
      "HTTP request sent, awaiting response... 200 OK\n",
      "Length: 13568290 (13M) [application/zip]\n",
      "Saving to: ‘jena_climate_2009_2016.csv.zip.1’\n",
      "\n",
      "jena_climate_2009_2 100%[===================>]  12.94M  15.1MB/s    in 0.9s    \n",
      "\n",
      "2022-12-25 16:58:01 (15.1 MB/s) - ‘jena_climate_2009_2016.csv.zip.1’ saved [13568290/13568290]\n",
      "\n",
      "Archive:  jena_climate_2009_2016.csv.zip\n",
      "replace jena_climate_2009_2016.csv? [y]es, [n]o, [A]ll, [N]one, [r]ename: ^C\n"
     ]
    }
   ],
   "source": [
    "# Downloading weather dataset\n",
    "!cd assets && wget https://storage.googleapis.com/tensorflow/tf-keras-datasets/jena_climate_2009_2016.csv.zip && unzip jena_climate_2009_2016.csv.zip"
   ]
  },
  {
   "cell_type": "code",
   "execution_count": 17,
   "id": "f12d2fbe-26da-4dfb-94b4-73fa43082255",
   "metadata": {},
   "outputs": [
    {
     "name": "stdout",
     "output_type": "stream",
     "text": [
      "Dataset shape (number samples, number of attributes): (420551, 15)\n"
     ]
    },
    {
     "data": {
      "text/html": [
       "<div>\n",
       "<style scoped>\n",
       "    .dataframe tbody tr th:only-of-type {\n",
       "        vertical-align: middle;\n",
       "    }\n",
       "\n",
       "    .dataframe tbody tr th {\n",
       "        vertical-align: top;\n",
       "    }\n",
       "\n",
       "    .dataframe thead th {\n",
       "        text-align: right;\n",
       "    }\n",
       "</style>\n",
       "<table border=\"1\" class=\"dataframe\">\n",
       "  <thead>\n",
       "    <tr style=\"text-align: right;\">\n",
       "      <th></th>\n",
       "      <th>Date Time</th>\n",
       "      <th>p (mbar)</th>\n",
       "      <th>T (degC)</th>\n",
       "      <th>Tpot (K)</th>\n",
       "      <th>Tdew (degC)</th>\n",
       "      <th>rh (%)</th>\n",
       "      <th>VPmax (mbar)</th>\n",
       "      <th>VPact (mbar)</th>\n",
       "      <th>VPdef (mbar)</th>\n",
       "      <th>sh (g/kg)</th>\n",
       "      <th>H2OC (mmol/mol)</th>\n",
       "      <th>rho (g/m**3)</th>\n",
       "      <th>wv (m/s)</th>\n",
       "      <th>max. wv (m/s)</th>\n",
       "      <th>wd (deg)</th>\n",
       "    </tr>\n",
       "  </thead>\n",
       "  <tbody>\n",
       "    <tr>\n",
       "      <th>0</th>\n",
       "      <td>2009-01-01 00:10:00</td>\n",
       "      <td>996.52</td>\n",
       "      <td>-8.02</td>\n",
       "      <td>265.40</td>\n",
       "      <td>-8.90</td>\n",
       "      <td>93.3</td>\n",
       "      <td>3.33</td>\n",
       "      <td>3.11</td>\n",
       "      <td>0.22</td>\n",
       "      <td>1.94</td>\n",
       "      <td>3.12</td>\n",
       "      <td>1307.75</td>\n",
       "      <td>1.03</td>\n",
       "      <td>1.75</td>\n",
       "      <td>152.3</td>\n",
       "    </tr>\n",
       "    <tr>\n",
       "      <th>1</th>\n",
       "      <td>2009-01-01 00:20:00</td>\n",
       "      <td>996.57</td>\n",
       "      <td>-8.41</td>\n",
       "      <td>265.01</td>\n",
       "      <td>-9.28</td>\n",
       "      <td>93.4</td>\n",
       "      <td>3.23</td>\n",
       "      <td>3.02</td>\n",
       "      <td>0.21</td>\n",
       "      <td>1.89</td>\n",
       "      <td>3.03</td>\n",
       "      <td>1309.80</td>\n",
       "      <td>0.72</td>\n",
       "      <td>1.50</td>\n",
       "      <td>136.1</td>\n",
       "    </tr>\n",
       "    <tr>\n",
       "      <th>2</th>\n",
       "      <td>2009-01-01 00:30:00</td>\n",
       "      <td>996.53</td>\n",
       "      <td>-8.51</td>\n",
       "      <td>264.91</td>\n",
       "      <td>-9.31</td>\n",
       "      <td>93.9</td>\n",
       "      <td>3.21</td>\n",
       "      <td>3.01</td>\n",
       "      <td>0.20</td>\n",
       "      <td>1.88</td>\n",
       "      <td>3.02</td>\n",
       "      <td>1310.24</td>\n",
       "      <td>0.19</td>\n",
       "      <td>0.63</td>\n",
       "      <td>171.6</td>\n",
       "    </tr>\n",
       "    <tr>\n",
       "      <th>3</th>\n",
       "      <td>2009-01-01 00:40:00</td>\n",
       "      <td>996.51</td>\n",
       "      <td>-8.31</td>\n",
       "      <td>265.12</td>\n",
       "      <td>-9.07</td>\n",
       "      <td>94.2</td>\n",
       "      <td>3.26</td>\n",
       "      <td>3.07</td>\n",
       "      <td>0.19</td>\n",
       "      <td>1.92</td>\n",
       "      <td>3.08</td>\n",
       "      <td>1309.19</td>\n",
       "      <td>0.34</td>\n",
       "      <td>0.50</td>\n",
       "      <td>198.0</td>\n",
       "    </tr>\n",
       "    <tr>\n",
       "      <th>4</th>\n",
       "      <td>2009-01-01 00:50:00</td>\n",
       "      <td>996.51</td>\n",
       "      <td>-8.27</td>\n",
       "      <td>265.15</td>\n",
       "      <td>-9.04</td>\n",
       "      <td>94.1</td>\n",
       "      <td>3.27</td>\n",
       "      <td>3.08</td>\n",
       "      <td>0.19</td>\n",
       "      <td>1.92</td>\n",
       "      <td>3.09</td>\n",
       "      <td>1309.00</td>\n",
       "      <td>0.32</td>\n",
       "      <td>0.63</td>\n",
       "      <td>214.3</td>\n",
       "    </tr>\n",
       "  </tbody>\n",
       "</table>\n",
       "</div>"
      ],
      "text/plain": [
       "            Date Time  p (mbar)  T (degC)  Tpot (K)  Tdew (degC)  rh (%)  \\\n",
       "0 2009-01-01 00:10:00    996.52     -8.02    265.40        -8.90    93.3   \n",
       "1 2009-01-01 00:20:00    996.57     -8.41    265.01        -9.28    93.4   \n",
       "2 2009-01-01 00:30:00    996.53     -8.51    264.91        -9.31    93.9   \n",
       "3 2009-01-01 00:40:00    996.51     -8.31    265.12        -9.07    94.2   \n",
       "4 2009-01-01 00:50:00    996.51     -8.27    265.15        -9.04    94.1   \n",
       "\n",
       "   VPmax (mbar)  VPact (mbar)  VPdef (mbar)  sh (g/kg)  H2OC (mmol/mol)  \\\n",
       "0          3.33          3.11          0.22       1.94             3.12   \n",
       "1          3.23          3.02          0.21       1.89             3.03   \n",
       "2          3.21          3.01          0.20       1.88             3.02   \n",
       "3          3.26          3.07          0.19       1.92             3.08   \n",
       "4          3.27          3.08          0.19       1.92             3.09   \n",
       "\n",
       "   rho (g/m**3)  wv (m/s)  max. wv (m/s)  wd (deg)  \n",
       "0       1307.75      1.03           1.75     152.3  \n",
       "1       1309.80      0.72           1.50     136.1  \n",
       "2       1310.24      0.19           0.63     171.6  \n",
       "3       1309.19      0.34           0.50     198.0  \n",
       "4       1309.00      0.32           0.63     214.3  "
      ]
     },
     "execution_count": 17,
     "metadata": {},
     "output_type": "execute_result"
    }
   ],
   "source": [
    "# Loading dataset\n",
    "df = pd.read_csv('assets/jena_climate_2009_2016.csv')\n",
    "print('Dataset shape (number samples, number of attributes):', df.shape)\n",
    "df['Date Time'] = pd.to_datetime(df['Date Time'], format='%d.%m.%Y %H:%M:%S')  # Parse datetime\n",
    "df.head()"
   ]
  },
  {
   "cell_type": "code",
   "execution_count": 18,
   "id": "6cd76e9d-edb3-4a5c-9975-855c0872fbee",
   "metadata": {},
   "outputs": [
    {
     "name": "stdout",
     "output_type": "stream",
     "text": [
      "shape after subsampling: (70129, 14)\n"
     ]
    },
    {
     "data": {
      "text/html": [
       "<div>\n",
       "<style scoped>\n",
       "    .dataframe tbody tr th:only-of-type {\n",
       "        vertical-align: middle;\n",
       "    }\n",
       "\n",
       "    .dataframe tbody tr th {\n",
       "        vertical-align: top;\n",
       "    }\n",
       "\n",
       "    .dataframe thead th {\n",
       "        text-align: right;\n",
       "    }\n",
       "</style>\n",
       "<table border=\"1\" class=\"dataframe\">\n",
       "  <thead>\n",
       "    <tr style=\"text-align: right;\">\n",
       "      <th></th>\n",
       "      <th>p (mbar)</th>\n",
       "      <th>T (degC)</th>\n",
       "      <th>Tpot (K)</th>\n",
       "      <th>Tdew (degC)</th>\n",
       "      <th>rh (%)</th>\n",
       "      <th>VPmax (mbar)</th>\n",
       "      <th>VPact (mbar)</th>\n",
       "      <th>VPdef (mbar)</th>\n",
       "      <th>sh (g/kg)</th>\n",
       "      <th>H2OC (mmol/mol)</th>\n",
       "      <th>rho (g/m**3)</th>\n",
       "      <th>wv (m/s)</th>\n",
       "      <th>max. wv (m/s)</th>\n",
       "      <th>wd (deg)</th>\n",
       "    </tr>\n",
       "    <tr>\n",
       "      <th>Date Time</th>\n",
       "      <th></th>\n",
       "      <th></th>\n",
       "      <th></th>\n",
       "      <th></th>\n",
       "      <th></th>\n",
       "      <th></th>\n",
       "      <th></th>\n",
       "      <th></th>\n",
       "      <th></th>\n",
       "      <th></th>\n",
       "      <th></th>\n",
       "      <th></th>\n",
       "      <th></th>\n",
       "      <th></th>\n",
       "    </tr>\n",
       "  </thead>\n",
       "  <tbody>\n",
       "    <tr>\n",
       "      <th>2009-01-01 00:00:00</th>\n",
       "      <td>996.51</td>\n",
       "      <td>-8.27</td>\n",
       "      <td>265.15</td>\n",
       "      <td>-9.04</td>\n",
       "      <td>94.1</td>\n",
       "      <td>3.27</td>\n",
       "      <td>3.08</td>\n",
       "      <td>0.19</td>\n",
       "      <td>1.92</td>\n",
       "      <td>3.09</td>\n",
       "      <td>1309.00</td>\n",
       "      <td>0.32</td>\n",
       "      <td>0.63</td>\n",
       "      <td>214.3</td>\n",
       "    </tr>\n",
       "    <tr>\n",
       "      <th>2009-01-01 01:00:00</th>\n",
       "      <td>996.62</td>\n",
       "      <td>-8.76</td>\n",
       "      <td>264.66</td>\n",
       "      <td>-9.66</td>\n",
       "      <td>93.1</td>\n",
       "      <td>3.14</td>\n",
       "      <td>2.93</td>\n",
       "      <td>0.22</td>\n",
       "      <td>1.83</td>\n",
       "      <td>2.94</td>\n",
       "      <td>1311.64</td>\n",
       "      <td>0.45</td>\n",
       "      <td>0.88</td>\n",
       "      <td>183.2</td>\n",
       "    </tr>\n",
       "    <tr>\n",
       "      <th>2009-01-01 02:00:00</th>\n",
       "      <td>996.86</td>\n",
       "      <td>-8.70</td>\n",
       "      <td>264.70</td>\n",
       "      <td>-9.55</td>\n",
       "      <td>93.5</td>\n",
       "      <td>3.16</td>\n",
       "      <td>2.95</td>\n",
       "      <td>0.21</td>\n",
       "      <td>1.85</td>\n",
       "      <td>2.96</td>\n",
       "      <td>1311.64</td>\n",
       "      <td>0.32</td>\n",
       "      <td>0.63</td>\n",
       "      <td>219.2</td>\n",
       "    </tr>\n",
       "    <tr>\n",
       "      <th>2009-01-01 03:00:00</th>\n",
       "      <td>997.06</td>\n",
       "      <td>-8.99</td>\n",
       "      <td>264.39</td>\n",
       "      <td>-9.99</td>\n",
       "      <td>92.4</td>\n",
       "      <td>3.09</td>\n",
       "      <td>2.85</td>\n",
       "      <td>0.23</td>\n",
       "      <td>1.78</td>\n",
       "      <td>2.86</td>\n",
       "      <td>1313.39</td>\n",
       "      <td>0.12</td>\n",
       "      <td>0.63</td>\n",
       "      <td>231.7</td>\n",
       "    </tr>\n",
       "    <tr>\n",
       "      <th>2009-01-01 04:00:00</th>\n",
       "      <td>997.37</td>\n",
       "      <td>-9.47</td>\n",
       "      <td>263.89</td>\n",
       "      <td>-10.46</td>\n",
       "      <td>92.4</td>\n",
       "      <td>2.97</td>\n",
       "      <td>2.75</td>\n",
       "      <td>0.23</td>\n",
       "      <td>1.72</td>\n",
       "      <td>2.75</td>\n",
       "      <td>1316.25</td>\n",
       "      <td>0.37</td>\n",
       "      <td>0.75</td>\n",
       "      <td>125.8</td>\n",
       "    </tr>\n",
       "  </tbody>\n",
       "</table>\n",
       "</div>"
      ],
      "text/plain": [
       "                     p (mbar)  T (degC)  Tpot (K)  Tdew (degC)  rh (%)  \\\n",
       "Date Time                                                                \n",
       "2009-01-01 00:00:00    996.51     -8.27    265.15        -9.04    94.1   \n",
       "2009-01-01 01:00:00    996.62     -8.76    264.66        -9.66    93.1   \n",
       "2009-01-01 02:00:00    996.86     -8.70    264.70        -9.55    93.5   \n",
       "2009-01-01 03:00:00    997.06     -8.99    264.39        -9.99    92.4   \n",
       "2009-01-01 04:00:00    997.37     -9.47    263.89       -10.46    92.4   \n",
       "\n",
       "                     VPmax (mbar)  VPact (mbar)  VPdef (mbar)  sh (g/kg)  \\\n",
       "Date Time                                                                  \n",
       "2009-01-01 00:00:00          3.27          3.08          0.19       1.92   \n",
       "2009-01-01 01:00:00          3.14          2.93          0.22       1.83   \n",
       "2009-01-01 02:00:00          3.16          2.95          0.21       1.85   \n",
       "2009-01-01 03:00:00          3.09          2.85          0.23       1.78   \n",
       "2009-01-01 04:00:00          2.97          2.75          0.23       1.72   \n",
       "\n",
       "                     H2OC (mmol/mol)  rho (g/m**3)  wv (m/s)  max. wv (m/s)  \\\n",
       "Date Time                                                                     \n",
       "2009-01-01 00:00:00             3.09       1309.00      0.32           0.63   \n",
       "2009-01-01 01:00:00             2.94       1311.64      0.45           0.88   \n",
       "2009-01-01 02:00:00             2.96       1311.64      0.32           0.63   \n",
       "2009-01-01 03:00:00             2.86       1313.39      0.12           0.63   \n",
       "2009-01-01 04:00:00             2.75       1316.25      0.37           0.75   \n",
       "\n",
       "                     wd (deg)  \n",
       "Date Time                      \n",
       "2009-01-01 00:00:00     214.3  \n",
       "2009-01-01 01:00:00     183.2  \n",
       "2009-01-01 02:00:00     219.2  \n",
       "2009-01-01 03:00:00     231.7  \n",
       "2009-01-01 04:00:00     125.8  "
      ]
     },
     "execution_count": 18,
     "metadata": {},
     "output_type": "execute_result"
    }
   ],
   "source": [
    "# Data processing. Steps:\n",
    "# - Drop measurements 10 minute measurements without round hours\n",
    "# - Drop Nan values (keeping it simple)\n",
    "# - Replace Outliers with forward fille (previous value)\n",
    "\n",
    "# Subsample 1 hour measurements\n",
    "df = df.set_index('Date Time').resample('H').last().reset_index() \n",
    "\n",
    "# Drop Nan values\n",
    "df = df.dropna()\n",
    "\n",
    "# Replace outliers\n",
    "df = df[~((df['wv (m/s)'] == -9999) | (df['max. wv (m/s)'] == -9999))]\n",
    "df = df.set_index('Date Time').asfreq('H')\n",
    "df = df.ffill(axis = 0)\n",
    "\n",
    "print('shape after subsampling:', df.shape)\n",
    "assert not df.isna().any().any()\n",
    "column_names = list(df.columns)\n",
    "\n",
    "df.head()"
   ]
  },
  {
   "cell_type": "code",
   "execution_count": 19,
   "id": "40d35d69-e29e-4c07-8a46-7a2e7273b136",
   "metadata": {},
   "outputs": [
    {
     "name": "stderr",
     "output_type": "stream",
     "text": [
      "/tmp/ipykernel_1639757/209143365.py:5: UserWarning: To output multiple subplots, the figure containing the passed axes is being cleared.\n",
      "  plot_features.plot(subplots=True, ax=ax)\n"
     ]
    },
    {
     "data": {
      "image/png": "[encoded data removed]",
      "text/plain": [
       "<Figure size 1200x800 with 3 Axes>"
      ]
     },
     "metadata": {},
     "output_type": "display_data"
    }
   ],
   "source": [
    "# Data visualization\n",
    "_, ax = plt.subplots(figsize=(12, 8))\n",
    "plot_cols = ['Tpot (K)', 'rh (%)', 'VPdef (mbar)']\n",
    "plot_features = df[plot_cols].resample('M').mean()\n",
    "plot_features.plot(subplots=True, ax=ax)\n",
    "plt.tight_layout()\n",
    "plt.show()"
   ]
  },
  {
   "cell_type": "code",
   "execution_count": 20,
   "id": "56961784-8202-44d0-936f-9f3f7a81e838",
   "metadata": {},
   "outputs": [
    {
     "name": "stdout",
     "output_type": "stream",
     "text": [
      "Train shape: (60000, 14) Val shape: (10129, 14)\n"
     ]
    },
    {
     "data": {
      "text/html": [
       "<div>\n",
       "<style scoped>\n",
       "    .dataframe tbody tr th:only-of-type {\n",
       "        vertical-align: middle;\n",
       "    }\n",
       "\n",
       "    .dataframe tbody tr th {\n",
       "        vertical-align: top;\n",
       "    }\n",
       "\n",
       "    .dataframe thead th {\n",
       "        text-align: right;\n",
       "    }\n",
       "</style>\n",
       "<table border=\"1\" class=\"dataframe\">\n",
       "  <thead>\n",
       "    <tr style=\"text-align: right;\">\n",
       "      <th></th>\n",
       "      <th>p (mbar)</th>\n",
       "      <th>T (degC)</th>\n",
       "      <th>Tpot (K)</th>\n",
       "      <th>Tdew (degC)</th>\n",
       "      <th>rh (%)</th>\n",
       "      <th>VPmax (mbar)</th>\n",
       "      <th>VPact (mbar)</th>\n",
       "      <th>VPdef (mbar)</th>\n",
       "      <th>sh (g/kg)</th>\n",
       "      <th>H2OC (mmol/mol)</th>\n",
       "      <th>rho (g/m**3)</th>\n",
       "      <th>wv (m/s)</th>\n",
       "      <th>max. wv (m/s)</th>\n",
       "      <th>wd (deg)</th>\n",
       "    </tr>\n",
       "    <tr>\n",
       "      <th>Date Time</th>\n",
       "      <th></th>\n",
       "      <th></th>\n",
       "      <th></th>\n",
       "      <th></th>\n",
       "      <th></th>\n",
       "      <th></th>\n",
       "      <th></th>\n",
       "      <th></th>\n",
       "      <th></th>\n",
       "      <th></th>\n",
       "      <th></th>\n",
       "      <th></th>\n",
       "      <th></th>\n",
       "      <th></th>\n",
       "    </tr>\n",
       "  </thead>\n",
       "  <tbody>\n",
       "    <tr>\n",
       "      <th>2009-01-01 00:00:00</th>\n",
       "      <td>0.913454</td>\n",
       "      <td>-2.080009</td>\n",
       "      <td>-2.136698</td>\n",
       "      <td>-2.040455</td>\n",
       "      <td>1.093832</td>\n",
       "      <td>-1.330058</td>\n",
       "      <td>-1.528872</td>\n",
       "      <td>-0.788885</td>\n",
       "      <td>-1.531288</td>\n",
       "      <td>-1.533262</td>\n",
       "      <td>2.312258</td>\n",
       "      <td>-1.185016</td>\n",
       "      <td>-1.249401</td>\n",
       "      <td>0.466457</td>\n",
       "    </tr>\n",
       "    <tr>\n",
       "      <th>2009-01-01 01:00:00</th>\n",
       "      <td>0.926793</td>\n",
       "      <td>-2.137645</td>\n",
       "      <td>-2.193832</td>\n",
       "      <td>-2.131203</td>\n",
       "      <td>1.033612</td>\n",
       "      <td>-1.346850</td>\n",
       "      <td>-1.564487</td>\n",
       "      <td>-0.782750</td>\n",
       "      <td>-1.564945</td>\n",
       "      <td>-1.568440</td>\n",
       "      <td>2.377865</td>\n",
       "      <td>-1.100100</td>\n",
       "      <td>-1.141851</td>\n",
       "      <td>0.111285</td>\n",
       "    </tr>\n",
       "    <tr>\n",
       "      <th>2009-01-01 02:00:00</th>\n",
       "      <td>0.955896</td>\n",
       "      <td>-2.130587</td>\n",
       "      <td>-2.189168</td>\n",
       "      <td>-2.115103</td>\n",
       "      <td>1.057700</td>\n",
       "      <td>-1.344267</td>\n",
       "      <td>-1.559738</td>\n",
       "      <td>-0.784795</td>\n",
       "      <td>-1.557466</td>\n",
       "      <td>-1.563750</td>\n",
       "      <td>2.377865</td>\n",
       "      <td>-1.185016</td>\n",
       "      <td>-1.249401</td>\n",
       "      <td>0.522417</td>\n",
       "    </tr>\n",
       "    <tr>\n",
       "      <th>2009-01-01 03:00:00</th>\n",
       "      <td>0.980148</td>\n",
       "      <td>-2.164698</td>\n",
       "      <td>-2.225314</td>\n",
       "      <td>-2.179505</td>\n",
       "      <td>0.991458</td>\n",
       "      <td>-1.353309</td>\n",
       "      <td>-1.583481</td>\n",
       "      <td>-0.780705</td>\n",
       "      <td>-1.583644</td>\n",
       "      <td>-1.587202</td>\n",
       "      <td>2.421355</td>\n",
       "      <td>-1.315655</td>\n",
       "      <td>-1.249401</td>\n",
       "      <td>0.665171</td>\n",
       "    </tr>\n",
       "    <tr>\n",
       "      <th>2009-01-01 04:00:00</th>\n",
       "      <td>1.017740</td>\n",
       "      <td>-2.221158</td>\n",
       "      <td>-2.283614</td>\n",
       "      <td>-2.248298</td>\n",
       "      <td>0.991458</td>\n",
       "      <td>-1.368809</td>\n",
       "      <td>-1.607224</td>\n",
       "      <td>-0.780705</td>\n",
       "      <td>-1.606082</td>\n",
       "      <td>-1.613000</td>\n",
       "      <td>2.492430</td>\n",
       "      <td>-1.152356</td>\n",
       "      <td>-1.197777</td>\n",
       "      <td>-0.544242</td>\n",
       "    </tr>\n",
       "  </tbody>\n",
       "</table>\n",
       "</div>"
      ],
      "text/plain": [
       "                     p (mbar)  T (degC)  Tpot (K)  Tdew (degC)    rh (%)  \\\n",
       "Date Time                                                                  \n",
       "2009-01-01 00:00:00  0.913454 -2.080009 -2.136698    -2.040455  1.093832   \n",
       "2009-01-01 01:00:00  0.926793 -2.137645 -2.193832    -2.131203  1.033612   \n",
       "2009-01-01 02:00:00  0.955896 -2.130587 -2.189168    -2.115103  1.057700   \n",
       "2009-01-01 03:00:00  0.980148 -2.164698 -2.225314    -2.179505  0.991458   \n",
       "2009-01-01 04:00:00  1.017740 -2.221158 -2.283614    -2.248298  0.991458   \n",
       "\n",
       "                     VPmax (mbar)  VPact (mbar)  VPdef (mbar)  sh (g/kg)  \\\n",
       "Date Time                                                                  \n",
       "2009-01-01 00:00:00     -1.330058     -1.528872     -0.788885  -1.531288   \n",
       "2009-01-01 01:00:00     -1.346850     -1.564487     -0.782750  -1.564945   \n",
       "2009-01-01 02:00:00     -1.344267     -1.559738     -0.784795  -1.557466   \n",
       "2009-01-01 03:00:00     -1.353309     -1.583481     -0.780705  -1.583644   \n",
       "2009-01-01 04:00:00     -1.368809     -1.607224     -0.780705  -1.606082   \n",
       "\n",
       "                     H2OC (mmol/mol)  rho (g/m**3)  wv (m/s)  max. wv (m/s)  \\\n",
       "Date Time                                                                     \n",
       "2009-01-01 00:00:00        -1.533262      2.312258 -1.185016      -1.249401   \n",
       "2009-01-01 01:00:00        -1.568440      2.377865 -1.100100      -1.141851   \n",
       "2009-01-01 02:00:00        -1.563750      2.377865 -1.185016      -1.249401   \n",
       "2009-01-01 03:00:00        -1.587202      2.421355 -1.315655      -1.249401   \n",
       "2009-01-01 04:00:00        -1.613000      2.492430 -1.152356      -1.197777   \n",
       "\n",
       "                     wd (deg)  \n",
       "Date Time                      \n",
       "2009-01-01 00:00:00  0.466457  \n",
       "2009-01-01 01:00:00  0.111285  \n",
       "2009-01-01 02:00:00  0.522417  \n",
       "2009-01-01 03:00:00  0.665171  \n",
       "2009-01-01 04:00:00 -0.544242  "
      ]
     },
     "execution_count": 20,
     "metadata": {},
     "output_type": "execute_result"
    }
   ],
   "source": [
    "# Data normalization\n",
    "df_train, df_val = df.iloc[:60000], df.iloc[60000:]\n",
    "data_mean, data_std = df_train.mean(), df_train.std()  # avoiding data leakage\n",
    "df_train = (df_train - data_mean) / data_std\n",
    "df_val = (df_val - data_mean) / data_std\n",
    "print('Train shape:', df_train.shape, 'Val shape:', df_val.shape)\n",
    "df_train.head()"
   ]
  },
  {
   "cell_type": "code",
   "execution_count": 21,
   "id": "b42a1b59-c383-4774-bb84-281d652bf54f",
   "metadata": {},
   "outputs": [
    {
     "name": "stdout",
     "output_type": "stream",
     "text": [
      "GetItem: torch.Size([4, 1]) torch.Size([4, 1]) torch.Size([6, 1]) torch.Size([6, 1])\n",
      "Time (original): (4,) (2,) (6,)\n"
     ]
    }
   ],
   "source": [
    "SELECTED_COLUMNS = ['T (degC)']\n",
    "N_FEATURES = len(SELECTED_COLUMNS)\n",
    "\n",
    "class WeatherDataset(Dataset):\n",
    "    \"\"\"\n",
    "    PyTorch dataset wrapper for Weather dataframe\n",
    "    \"\"\"\n",
    "    def __init__(self, data: pd.DataFrame, history_steps: int, prediction_steps: int, columns: Optional[List[str]] = None):\n",
    "        \"\"\"\n",
    "        Args:\n",
    "            data: DataFrame\n",
    "            history_steps: Input sequence length\n",
    "            predictions_steps: Output sequence length\n",
    "        \"\"\"\n",
    "        super(WeatherDataset, self).__init__()\n",
    "        assert data.shape[1] == 14\n",
    "        if columns is None:\n",
    "            columns = list(df.columns)\n",
    "        \n",
    "        self._data = data[columns].values\n",
    "        self._t_orig = pd.to_datetime(data.index.values)\n",
    "        self._t = data.index.values.astype(np.int64) // 10 ** 9 # transforming time points to raw timestamps\n",
    "        self._t = self._t / 3600 # normalizing timestamps (distance between measurements is now 1.0 instead of 3600.0)\n",
    "        \n",
    "        self._history_steps = history_steps\n",
    "        self._prediction_steps = prediction_steps\n",
    "        \n",
    "        self._n_samples = self._t.shape[0] - (self._history_steps + self._prediction_steps + 1)\n",
    "    \n",
    "    def __len__(self) -> int:\n",
    "        return self._n_samples\n",
    "    \n",
    "    def hist_interval(self, index: int) -> Tuple[int, int]:\n",
    "        \"\"\"\n",
    "        Calculates interval for input sequence for given index\n",
    "        \n",
    "        Args:\n",
    "            index: Sequence index\n",
    "            \n",
    "        Returns:\n",
    "            Input Sequence rows index range\n",
    "        \"\"\"\n",
    "        return index, index+self._history_steps\n",
    "    \n",
    "    def future_interval(self, index: int) -> Tuple[int, int]:\n",
    "        \"\"\"\n",
    "        Calculates interval for output sequence for given index\n",
    "        \n",
    "        Args:\n",
    "            index: Sequence index\n",
    "            \n",
    "        Returns:\n",
    "            Output Sequence rows index range\n",
    "        \"\"\"\n",
    "        return index+self._history_steps, index+self._history_steps+self._prediction_steps\n",
    "    \n",
    "    def __getitem__(self, index: int) -> Tuple[torch.Tensor, torch.Tensor, torch.Tensor, torch.Tensor]:\n",
    "        hist_start, hist_end = self.hist_interval(index)\n",
    "        future_start, future_end = self.future_interval(index)\n",
    "        \n",
    "        x_obs = torch.tensor(self._data[hist_start:hist_end], dtype=torch.float32)\n",
    "        t_obs = torch.tensor(self._t[hist_start:hist_end], dtype=torch.float32).unsqueeze(-1)\n",
    "        x_all = torch.tensor(self._data[hist_start:future_end], dtype=torch.float32)\n",
    "        t_all = torch.tensor(self._t[hist_start:future_end], dtype=torch.float32).unsqueeze(-1)\n",
    "        \n",
    "        return x_obs, t_obs, x_all, t_all\n",
    "    \n",
    "    def time(self, index: int) -> tuple:\n",
    "        \"\"\"\n",
    "        Gets datetime values for input and output sequence for given index\n",
    "        \n",
    "        Args:\n",
    "            index: Sequence index\n",
    "            \n",
    "        Returns:\n",
    "            Input sequence datetime values, Output sequnce datetime values, Full sequence (input + output) datetime values\n",
    "        \"\"\"\n",
    "        hist_start, hist_end = self.hist_interval(index)\n",
    "        future_start, future_end = self.future_interval(index)\n",
    "        \n",
    "        t_obs = self._t_orig[hist_start:hist_end]\n",
    "        t_unobs = self._t_orig[future_start:future_end]\n",
    "        t_all = self._t_orig[hist_start:future_end]\n",
    "        return t_obs, t_unobs, t_all\n",
    "    \n",
    "    \n",
    "test_dataset = WeatherDataset(df_train, history_steps=4, prediction_steps=2, columns=SELECTED_COLUMNS)\n",
    "x_obs, t_obs, x_all, t_all = test_dataset[0]\n",
    "print('GetItem:', x_obs.shape, t_obs.shape, x_all.shape, t_all.shape)\n",
    "\n",
    "t_obs_raw, t_unobs_raw, t_all_raw = test_dataset.time(0)\n",
    "print('Time (original):', t_obs_raw.shape, t_unobs_raw.shape, t_all_raw.shape)"
   ]
  },
  {
   "cell_type": "markdown",
   "id": "fe67fd15-2683-4aca-91af-9a9e68c9810e",
   "metadata": {},
   "source": [
    "### Custom Dataloader collate function\n",
    "\n",
    "In order to use dataloader for sequences it is required to change `Dataloader.collate_fn()` which is a method that defines how list of items\n",
    "is combined (collated) into a single tensor (batch). Read [PyTorch data utils documentation](https://pytorch.org/docs/stable/data.html) for more info."
   ]
  },
  {
   "cell_type": "code",
   "execution_count": 22,
   "id": "b7bd8c2c-2229-4dd0-adc0-bd263ac24ef6",
   "metadata": {},
   "outputs": [
    {
     "name": "stdout",
     "output_type": "stream",
     "text": [
      "torch.Size([4, 10, 1]) torch.Size([4, 10, 1]) torch.Size([6, 10, 1]) torch.Size([6, 10, 1])\n"
     ]
    }
   ],
   "source": [
    "def ode_dataloader_collate_func(items: List[torch.Tensor]) -> torch.Tensor:\n",
    "    \"\"\"\n",
    "    ODE collate func: Standard way to batch sequences of dimension (T, *shape) \n",
    "    where T is time dimension and shape is feature dimension is to create batch \n",
    "    of size (B, T, *shape) but for NODE it makes more sense to do it as (T, B, *shape)\n",
    "    which requires custom collate_func\n",
    "    \n",
    "    Args:\n",
    "        items: Items gathered from WeatherDataset\n",
    "    \n",
    "    Returns:\n",
    "        collated tensors\n",
    "    \"\"\"\n",
    "    xs, x_ts, ys, y_ts = zip(*items)\n",
    "    x, t_x, y, t_y = torch.stack(xs, dim=1), torch.stack(x_ts, dim=1), torch.stack(ys, dim=1), torch.stack(y_ts, dim=1)\n",
    "    return x, t_x, y, t_y\n",
    "\n",
    "\n",
    "test_loader = DataLoader(test_dataset, batch_size=10, collate_fn=ode_dataloader_collate_func)\n",
    "\n",
    "\n",
    "for x, t_x, y, t_y in test_loader:\n",
    "    print(x.shape, t_x.shape, y.shape, t_y.shape)\n",
    "    break"
   ]
  },
  {
   "cell_type": "code",
   "execution_count": 23,
   "id": "7dc13d30-fe05-4fb1-b439-6bf009ccb249",
   "metadata": {},
   "outputs": [
    {
     "data": {
      "text/plain": [
       "(torch.Size([1, 2]), torch.Size([1, 2]))"
      ]
     },
     "execution_count": 23,
     "metadata": {},
     "output_type": "execute_result"
    }
   ],
   "source": [
    "class RNNEncoder(nn.Module):\n",
    "    def __init__(self, input_dim: int, hidden_dim: int, latent_dim: int):\n",
    "        super(RNNEncoder, self).__init__()\n",
    "        self._latent_dim = latent_dim\n",
    "        \n",
    "        self._rnn = nn.GRU(input_dim+1, hidden_dim)\n",
    "        self._lrelu = nn.LeakyReLU(0.1)\n",
    "        self._hidden2latent = nn.Linear(hidden_dim, 2*latent_dim)  # outputs log_var and mean for each input\n",
    "        \n",
    "    def forward(self, x_obs: torch.Tensor, t_obs: torch.Tensor) -> torch.Tensor:\n",
    "        # Using relative time point values instead of absolute time point values\n",
    "        t_diff = torch.zeros_like(t_obs)\n",
    "        t_diff[0] = 0\n",
    "        t_diff[1:] = t_obs[1:] - t_obs[:-1]\n",
    "        t_diff = t_diff.to(x_obs)\n",
    "        \n",
    "        # Add relative time points to input data\n",
    "        xt = torch.cat([x_obs, t_diff], dim=-1)\n",
    "        \n",
    "        # Reverse input time sequence (running RNN backward in time)\n",
    "        xt = torch.flip(xt, dims=[0])\n",
    "        \n",
    "        _, h0 = self._rnn(xt)\n",
    "        h0 = self._lrelu(h0[0])\n",
    "        z0 = self._hidden2latent(h0)\n",
    "        \n",
    "        z0_mean, z0_log_var = z0[:, :self._latent_dim], z0[:, self._latent_dim:]\n",
    "        return z0_mean, z0_log_var\n",
    "        \n",
    "encoder = RNNEncoder(2, 3, 2)\n",
    "x, t = torch.randn(4, 1, 2), torch.randn(4, 1, 1)\n",
    "mean, log_var = encoder(x, t)\n",
    "mean.shape, log_var.shape"
   ]
  },
  {
   "cell_type": "code",
   "execution_count": 24,
   "id": "70c664c6-5e8d-438f-89e7-43aefef012d1",
   "metadata": {},
   "outputs": [
    {
     "data": {
      "text/plain": [
       "(torch.Size([1, 2]), torch.Size([1, 2]))"
      ]
     },
     "execution_count": 24,
     "metadata": {},
     "output_type": "execute_result"
    }
   ],
   "source": [
    "class MLPEncoder(nn.Module):\n",
    "    def __init__(self, traj_length: int, input_dim: int, hidden_dim: int, latent_dim: int):\n",
    "        super(MLPEncoder, self).__init__()\n",
    "        self._latent_dim = latent_dim\n",
    "        \n",
    "        self._flatten = nn.Flatten()\n",
    "        self._encoder = nn.Sequential(\n",
    "            nn.Linear(traj_length*(input_dim+1), hidden_dim),\n",
    "            nn.LayerNorm(hidden_dim),\n",
    "            nn.Tanh(),\n",
    "            nn.Linear(hidden_dim, hidden_dim),\n",
    "            nn.LayerNorm(hidden_dim),\n",
    "            nn.Tanh()\n",
    "        )\n",
    "        self._hidden2latent = nn.Linear(hidden_dim, 2*latent_dim)  # outputs log_var and mean for each input\n",
    "        \n",
    "    def forward(self, x_obs: torch.Tensor, t_obs: torch.Tensor) -> torch.Tensor:\n",
    "        # Using relative time point values instead of absolute time point values\n",
    "        t_diff = torch.zeros_like(t_obs)\n",
    "        t_diff[0] = 0\n",
    "        t_diff[1:] = t_obs[1:] - t_obs[:-1]\n",
    "        t_diff = t_diff.to(x_obs)\n",
    "        \n",
    "        # Add relative time points to input data\n",
    "        xt = torch.cat([x_obs, t_diff], dim=-1)\n",
    "        \n",
    "        # Reverse input time sequence (running RNN backward in time)\n",
    "        xt = torch.flip(xt, dims=[0])\n",
    "        \n",
    "        xt = torch.permute(xt, [1, 0, 2])\n",
    "        xt = self._flatten(xt)\n",
    "        h0 = self._encoder(xt)\n",
    "        z0 = self._hidden2latent(h0)\n",
    "        \n",
    "        z0_mean, z0_log_var = z0[:, :self._latent_dim], z0[:, self._latent_dim:]\n",
    "        return z0_mean, z0_log_var\n",
    "        \n",
    "encoder = MLPEncoder(4, 2, 3, 2)\n",
    "x, t = torch.randn(4, 1, 2), torch.randn(4, 1, 1)\n",
    "mean, log_var = encoder(x, t)\n",
    "mean.shape, log_var.shape"
   ]
  },
  {
   "cell_type": "code",
   "execution_count": 25,
   "id": "bcf631bb-20d8-4b14-96ef-2a269476aa60",
   "metadata": {},
   "outputs": [
    {
     "data": {
      "text/plain": [
       "torch.Size([3, 1, 3])"
      ]
     },
     "execution_count": 25,
     "metadata": {},
     "output_type": "execute_result"
    }
   ],
   "source": [
    "class MLPODEF(ODEF):\n",
    "    def __init__(self, dim: int, hidden_dim: int, n_layers: int = 2):\n",
    "        super(ODEF, self).__init__()\n",
    "        assert n_layers >= 1, f'Minimum number of layers is 1 but found {n_layers}'\n",
    "        layers_args = [[hidden_dim, hidden_dim] for _ in range(n_layers)]\n",
    "        layers_args[0][0] = dim+1 # setting input dimension (including time dimension)\n",
    "        layers_args[-1][1] = dim # setting output dimension\n",
    "        \n",
    "        self._model = nn.Sequential(*[self._create_mlp_layer(*args) for args in layers_args])\n",
    "        \n",
    "    @staticmethod\n",
    "    def _create_mlp_layer(input_dim: int, output_dim: int) -> nn.Module:\n",
    "        return nn.Sequential(\n",
    "            nn.Linear(input_dim, output_dim),\n",
    "            nn.LayerNorm(output_dim),\n",
    "            nn.LeakyReLU(0.1)\n",
    "        )\n",
    "    \n",
    "    def forward(self, x: torch.Tensor, t: torch.Tensor) -> torch.Tensor:\n",
    "        xt = torch.cat([x, t], dim=-1)\n",
    "        return self._model(xt)\n",
    "\n",
    "class NODEDecoder(nn.Module):\n",
    "    def __init__(self, latent_dim: int, hidden_dim: int, output_dim: int):\n",
    "        super(NODEDecoder, self).__init__()\n",
    "        \n",
    "        self._ode = NeuralODE(MLPODEF(latent_dim, hidden_dim, n_layers=2))\n",
    "        self._latent2hidden = nn.Linear(latent_dim, hidden_dim)\n",
    "        self._lrelu = nn.LeakyReLU(0.1)\n",
    "        self._hidden2output = nn.Linear(hidden_dim, output_dim)\n",
    "        \n",
    "    def forward(self, z0: torch.Tensor, ts: torch.Tensor):\n",
    "        zs = self._ode(z0, ts, full_sequence=True)\n",
    "        hs = self._lrelu(self._latent2hidden(zs))\n",
    "        xs = self._lrelu(self._hidden2output(hs))\n",
    "        return xs\n",
    "        \n",
    "decoder = NODEDecoder(2, 3, 3)\n",
    "z0, ts = torch.randn(1, 2), torch.randn(3, 1, 1)\n",
    "xs = decoder(z0, ts)\n",
    "xs.shape"
   ]
  },
  {
   "cell_type": "code",
   "execution_count": 26,
   "id": "7d84f594-4faa-493e-a32d-809923f65f91",
   "metadata": {},
   "outputs": [
    {
     "data": {
      "text/plain": [
       "(torch.Size([6, 1, 2]), torch.Size([1, 2]), torch.Size([1, 2]))"
      ]
     },
     "execution_count": 26,
     "metadata": {},
     "output_type": "execute_result"
    }
   ],
   "source": [
    "class ODEVAE(nn.Module):\n",
    "    def __init__(self, observable_dim: int, hidden_dim: int, latent_dim: int):\n",
    "        super(ODEVAE, self).__init__()\n",
    "        \n",
    "        self._encoder = RNNEncoder(observable_dim, hidden_dim, latent_dim)\n",
    "        self._decoder = NODEDecoder(latent_dim, hidden_dim, observable_dim)\n",
    "        \n",
    "    def forward(self, x: torch.Tensor, t_obs: torch.Tensor, t_all: Optional[torch.Tensor] = None, generate: bool = False) -> Tuple[torch.Tensor, torch.Tensor, torch.Tensor]:\n",
    "        t_all = t_all if t_all is not None else t_obs\n",
    "        assert t_all.shape[0] >= t_obs.shape[0], f'All time points must contain at lease observable time points. Shapes (all, obs): {t_all.shape[0]}, {t_observable.shape[0]}'\n",
    "        \n",
    "        z0_mean, z0_log_var = self._encoder(x, t_obs)\n",
    "        z0 = z0_mean if not generate else z0_mean + torch.randn_like(z0_mean) * torch.exp(0.5 * z0_log_var)\n",
    "        x_hat = self._decoder(z0, t_all)\n",
    "        return x_hat, z0_mean, z0_log_var\n",
    "    \n",
    "vae = ODEVAE(2, 3, 2)\n",
    "x, t_observable, t_all = torch.randn(4, 1, 2), torch.randn(4, 1, 1), torch.randn(6, 1, 1)\n",
    "x_hat, z0_mean, z0_log_var = vae(x, t_observable, t_all)\n",
    "x_hat.shape, z0_mean.shape, z0_log_var.shape"
   ]
  },
  {
   "cell_type": "code",
   "execution_count": 27,
   "id": "92372159-0abc-4aa9-b5ec-1bfcc31841d5",
   "metadata": {},
   "outputs": [
    {
     "data": {
      "text/plain": [
       "(torch.Size([6, 1, 2]), torch.Size([1, 2]), torch.Size([1, 2]))"
      ]
     },
     "execution_count": 27,
     "metadata": {},
     "output_type": "execute_result"
    }
   ],
   "source": [
    "class ODEVAE2(nn.Module):\n",
    "    def __init__(self, observable_dim: int, hidden_dim: int, latent_dim: int):\n",
    "        super(ODEVAE2, self).__init__()\n",
    "        \n",
    "        self._encoder = MLPEncoder(24, observable_dim, hidden_dim, latent_dim)\n",
    "        self._decoder = NODEDecoder(latent_dim, hidden_dim, observable_dim)\n",
    "        \n",
    "    def forward(self, x: torch.Tensor, t_obs: torch.Tensor, t_all: Optional[torch.Tensor] = None, generate: bool = False) -> Tuple[torch.Tensor, torch.Tensor, torch.Tensor]:\n",
    "        t_all = t_all if t_all is not None else t_obs\n",
    "        assert t_all.shape[0] >= t_obs.shape[0], f'All time points must contain at lease observable time points. Shapes (all, obs): {t_all.shape[0]}, {t_observable.shape[0]}'\n",
    "        \n",
    "        z0_mean, z0_log_var = self._encoder(x, t_obs)\n",
    "        z0 = z0_mean if not generate else z0_mean + torch.randn_like(z0_mean) * torch.exp(0.5 * z0_log_var)\n",
    "        x_hat = self._decoder(z0, t_all)\n",
    "        return x_hat, z0_mean, z0_log_var\n",
    "    \n",
    "vae = ODEVAE(2, 3, 2)\n",
    "x, t_observable, t_all = torch.randn(4, 1, 2), torch.randn(4, 1, 1), torch.randn(6, 1, 1)\n",
    "x_hat, z0_mean, z0_log_var = vae(x, t_observable, t_all)\n",
    "x_hat.shape, z0_mean.shape, z0_log_var.shape"
   ]
  },
  {
   "cell_type": "code",
   "execution_count": 28,
   "id": "893e0178-c71e-40c4-a1de-b21f65317b93",
   "metadata": {},
   "outputs": [
    {
     "name": "stdout",
     "output_type": "stream",
     "text": [
      "Good loss: (tensor(0.63), tensor(-0.01), tensor(0.62))\n",
      "Perfect loss: (tensor(0.), tensor(0.), tensor(0.))\n"
     ]
    }
   ],
   "source": [
    "class ELBO(nn.Module):\n",
    "    def __init__(self, noise_std: float):\n",
    "        super(ELBO, self).__init__()\n",
    "        self._noise_std = noise_std\n",
    "        \n",
    "    def forward(self, x_hat: torch.Tensor, x_true: torch.Tensor, z0_mean: torch.Tensor, z0_log_var: torch.Tensor) -> torch.Tensor:\n",
    "        # print('C:', y_hat, y_true, z0_mean, z0_log_var)\n",
    "        kl_div_loss = torch.sum(1 + z0_log_var - torch.square(z0_mean) - torch.exp(z0_log_var), dim=-1) / 2\n",
    "        likelihood_loss = torch.mean(torch.sum(torch.pow(x_hat - x_true, 2) / (2*self._noise_std), dim=-1), dim=0) # summation over last dimension and mean over time dimension\n",
    "        batch_loss = likelihood_loss - kl_div_loss\n",
    "        return torch.mean(batch_loss), torch.mean(kl_div_loss), torch.mean(likelihood_loss)\n",
    "    \n",
    "\n",
    "elbo = ELBO(0.01)\n",
    "\n",
    "y_hat = torch.tensor([[[1.0, 1.0]]], dtype=torch.float32)\n",
    "y_true = torch.tensor([[[1.05, 1.1]]], dtype=torch.float32)\n",
    "z0_mean = torch.tensor([-0.1, 0.05], dtype=torch.float32)\n",
    "z0_log_var = torch.tensor([0.0, 0.05], dtype=torch.float32)\n",
    "print('Good loss:', elbo(y_hat, y_true, z0_mean, z0_log_var))\n",
    "\n",
    "y_hat = torch.tensor([[[1.0, 1.0]]], dtype=torch.float32)\n",
    "y_true = torch.tensor([[[1.0, 1.0]]], dtype=torch.float32)\n",
    "z0_mean = torch.tensor([0.0, 0.0], dtype=torch.float32)\n",
    "z0_log_var = torch.tensor([0.0, 0.0], dtype=torch.float32)\n",
    "print('Perfect loss:', elbo(y_hat, y_true, z0_mean, z0_log_var))"
   ]
  },
  {
   "cell_type": "code",
   "execution_count": null,
   "id": "db36197b-670f-405d-8200-d8ef84249c22",
   "metadata": {
    "tags": []
   },
   "outputs": [
    {
     "data": {
      "application/vnd.jupyter.widget-view+json": {
       "model_id": "56302428356e47f9947e0173a3f7f02c",
       "version_major": 2,
       "version_minor": 0
      },
      "text/plain": [
       "  0%|          | 0/20 [00:00<?, ?it/s]"
      ]
     },
     "metadata": {},
     "output_type": "display_data"
    },
    {
     "data": {
      "application/vnd.jupyter.widget-view+json": {
       "model_id": "6c91d511a23f441baa8644b518cb2933",
       "version_major": 2,
       "version_minor": 0
      },
      "text/plain": [
       "training:   0%|          | 0/1874 [00:00<?, ?batch/s]"
      ]
     },
     "metadata": {},
     "output_type": "display_data"
    },
    {
     "data": {
      "application/vnd.jupyter.widget-view+json": {
       "model_id": "e56411e7586e4827ad2da60425ab637e",
       "version_major": 2,
       "version_minor": 0
      },
      "text/plain": [
       "validation:   0%|          | 0/315 [00:00<?, ?batch/s]"
      ]
     },
     "metadata": {},
     "output_type": "display_data"
    },
    {
     "data": {
      "application/vnd.jupyter.widget-view+json": {
       "model_id": "d13909b863b9471192b844cad2027f1e",
       "version_major": 2,
       "version_minor": 0
      },
      "text/plain": [
       "training:   0%|          | 0/1874 [00:00<?, ?batch/s]"
      ]
     },
     "metadata": {},
     "output_type": "display_data"
    },
    {
     "data": {
      "application/vnd.jupyter.widget-view+json": {
       "model_id": "c5cc933b04134f278cda0e75d285fb16",
       "version_major": 2,
       "version_minor": 0
      },
      "text/plain": [
       "validation:   0%|          | 0/315 [00:00<?, ?batch/s]"
      ]
     },
     "metadata": {},
     "output_type": "display_data"
    },
    {
     "data": {
      "application/vnd.jupyter.widget-view+json": {
       "model_id": "64f8f26b2eb041a8a133e85ef7cc7425",
       "version_major": 2,
       "version_minor": 0
      },
      "text/plain": [
       "training:   0%|          | 0/1874 [00:00<?, ?batch/s]"
      ]
     },
     "metadata": {},
     "output_type": "display_data"
    },
    {
     "data": {
      "application/vnd.jupyter.widget-view+json": {
       "model_id": "46d575e908304533b25d66efce9a51d1",
       "version_major": 2,
       "version_minor": 0
      },
      "text/plain": [
       "validation:   0%|          | 0/315 [00:00<?, ?batch/s]"
      ]
     },
     "metadata": {},
     "output_type": "display_data"
    },
    {
     "data": {
      "application/vnd.jupyter.widget-view+json": {
       "model_id": "069215c1ebc44dfc8d8b40e54643c567",
       "version_major": 2,
       "version_minor": 0
      },
      "text/plain": [
       "training:   0%|          | 0/1874 [00:00<?, ?batch/s]"
      ]
     },
     "metadata": {},
     "output_type": "display_data"
    },
    {
     "data": {
      "application/vnd.jupyter.widget-view+json": {
       "model_id": "173cdce58ba84536b1a030e42b0398a7",
       "version_major": 2,
       "version_minor": 0
      },
      "text/plain": [
       "validation:   0%|          | 0/315 [00:00<?, ?batch/s]"
      ]
     },
     "metadata": {},
     "output_type": "display_data"
    },
    {
     "data": {
      "application/vnd.jupyter.widget-view+json": {
       "model_id": "b126d308d5fa4516a9b2acc2b32d71b9",
       "version_major": 2,
       "version_minor": 0
      },
      "text/plain": [
       "training:   0%|          | 0/1874 [00:00<?, ?batch/s]"
      ]
     },
     "metadata": {},
     "output_type": "display_data"
    },
    {
     "data": {
      "application/vnd.jupyter.widget-view+json": {
       "model_id": "8ed4e9c7f8424358bf1c2ef42ca3d663",
       "version_major": 2,
       "version_minor": 0
      },
      "text/plain": [
       "validation:   0%|          | 0/315 [00:00<?, ?batch/s]"
      ]
     },
     "metadata": {},
     "output_type": "display_data"
    },
    {
     "data": {
      "application/vnd.jupyter.widget-view+json": {
       "model_id": "dafe06e9dad24498964233091f52bfb2",
       "version_major": 2,
       "version_minor": 0
      },
      "text/plain": [
       "training:   0%|          | 0/1874 [00:00<?, ?batch/s]"
      ]
     },
     "metadata": {},
     "output_type": "display_data"
    },
    {
     "data": {
      "application/vnd.jupyter.widget-view+json": {
       "model_id": "8d7a22149d544951a90c9acdaee91dea",
       "version_major": 2,
       "version_minor": 0
      },
      "text/plain": [
       "validation:   0%|          | 0/315 [00:00<?, ?batch/s]"
      ]
     },
     "metadata": {},
     "output_type": "display_data"
    },
    {
     "data": {
      "application/vnd.jupyter.widget-view+json": {
       "model_id": "a30e186a2b2b4fa6a15e8b1e71457771",
       "version_major": 2,
       "version_minor": 0
      },
      "text/plain": [
       "training:   0%|          | 0/1874 [00:00<?, ?batch/s]"
      ]
     },
     "metadata": {},
     "output_type": "display_data"
    },
    {
     "data": {
      "application/vnd.jupyter.widget-view+json": {
       "model_id": "07d267e033344272b7089a28a92367c6",
       "version_major": 2,
       "version_minor": 0
      },
      "text/plain": [
       "validation:   0%|          | 0/315 [00:00<?, ?batch/s]"
      ]
     },
     "metadata": {},
     "output_type": "display_data"
    },
    {
     "data": {
      "application/vnd.jupyter.widget-view+json": {
       "model_id": "194eabb593a14d92a23047b7b342c250",
       "version_major": 2,
       "version_minor": 0
      },
      "text/plain": [
       "training:   0%|          | 0/1874 [00:00<?, ?batch/s]"
      ]
     },
     "metadata": {},
     "output_type": "display_data"
    }
   ],
   "source": [
    "def train_model(\n",
    "    model: nn.Module, \n",
    "    train_loader: torch.utils.data.DataLoader, \n",
    "    val_loader: torch.utils.data.DataLoader, \n",
    "    device: Union[torch.device, str],\n",
    "    n_epochs: int = 10\n",
    ") -> dict:\n",
    "    \"\"\"\n",
    "    Train ODEVAE model\n",
    "    \n",
    "    Args:\n",
    "        model: ODEVAE\n",
    "        train_loader: Train data\n",
    "        val_loader: Val data\n",
    "        device: cpu/cuda\n",
    "        n_epochs: Number of epochs to train\n",
    "        \n",
    "    Returns:\n",
    "        Loss history\n",
    "    \"\"\"\n",
    "    loss_func = ELBO(0.1)\n",
    "    optimizer = torch.optim.Adam(model.parameters(), lr=1e-2)\n",
    "    \n",
    "    with tqdm(range(1, n_epochs+1)) as pbar:\n",
    "        for epoch in pbar:\n",
    "            history = {\n",
    "                'train': {\n",
    "                    'loss': [],\n",
    "                    'likelihood_loss': [],\n",
    "                    'kldiv_loss': []\n",
    "                },\n",
    "                'val': {\n",
    "                    'loss': [],\n",
    "                    'likelihood_loss': [],\n",
    "                    'kldiv_loss': []\n",
    "                }  \n",
    "            }\n",
    "            \n",
    "            # Train\n",
    "            model.train()\n",
    "            for x_obs, t_obs, x_all, t_all in tqdm(train_loader, desc='training', unit='batch'):\n",
    "                # x - history, t - time, y - future\n",
    "                x_obs, t_obs, x_all, t_all = x_obs.to(device), t_obs.to(device), x_all.to(device), t_all.to(device)\n",
    "                batch_size = x.shape[0]\n",
    "                \n",
    "                optimizer.zero_grad()\n",
    "                x_hat, z0_mean, z0_log_var = model(x_obs, t_obs, t_all)\n",
    "                loss, kl_div_loss, likelihood_loss = loss_func(x_hat, x_all, z0_mean, z0_log_var)  # TODO, save all losses\n",
    "                loss.backward()\n",
    "                optimizer.step()\n",
    "                \n",
    "                history['train']['loss'].append(loss.detach().cpu().item())\n",
    "                history['train']['likelihood_loss'].append(likelihood_loss.detach().cpu().item())\n",
    "                history['train']['kldiv_loss'].append(kl_div_loss.detach().cpu().item())\n",
    "                \n",
    "            # Evaluation\n",
    "            model.eval()\n",
    "            with torch.no_grad():\n",
    "                for x_obs, t_obs, x_all, t_all in tqdm(val_loader, desc='validation', unit='batch'):\n",
    "                    x_obs, t_obs, x_all, t_all = x_obs.to(device), t_obs.to(device), x_all.to(device), t_all.to(device)\n",
    "                    batch_size = x.shape[0]\n",
    "                    \n",
    "                    x_hat, z0_mean, z0_log_var = model(x_obs, t_obs, t_all)\n",
    "                    loss, kl_div_loss, likelihood_loss = loss_func(x_hat, x_all, z0_mean, z0_log_var)  # TODO, save all losses\n",
    "\n",
    "                    history['val']['loss'].append(loss.detach().cpu().item())\n",
    "                    history['val']['likelihood_loss'].append(likelihood_loss.detach().cpu().item())\n",
    "                    history['val']['kldiv_loss'].append(kl_div_loss.detach().cpu().item())\n",
    "               \n",
    "            \n",
    "            description = ''\n",
    "            for subset_name, losses in history.items():\n",
    "                for loss_name, loss_values in losses.items():\n",
    "                    loss_value = sum(loss_values) / len(loss_values)\n",
    "                    description += f'{subset_name} {loss_name}: {loss_value:.4f}, '\n",
    "            description = description[:-2]  # remove \", \" at end\n",
    "            pbar.set_description(description)\n",
    "            \n",
    "\n",
    "BATCH_SIZE = 32\n",
    "NUM_WORKERS = 4\n",
    "H_STEP = 24  # hours\n",
    "P_STEP = 24  # hours\n",
    "\n",
    "train_dataset = WeatherDataset(df_train, history_steps=H_STEP, prediction_steps=P_STEP, columns=SELECTED_COLUMNS)\n",
    "train_data_loader = DataLoader(train_dataset, batch_size=BATCH_SIZE, num_workers=NUM_WORKERS, shuffle=True, collate_fn=ode_dataloader_collate_func)\n",
    "val_dataset = WeatherDataset(df_val, history_steps=H_STEP, prediction_steps=P_STEP, columns=SELECTED_COLUMNS)\n",
    "val_data_loader = DataLoader(val_dataset, batch_size=BATCH_SIZE, num_workers=NUM_WORKERS, shuffle=True, collate_fn=ode_dataloader_collate_func)\n",
    "\n",
    "ode_vae = ODEVAE2(N_FEATURES, 128, 64).to(DEVICE)\n",
    "train_model(ode_vae, train_data_loader, val_data_loader, device=DEVICE, n_epochs=20)"
   ]
  },
  {
   "cell_type": "code",
   "execution_count": 44,
   "id": "41c825cd-0985-4813-9f7c-9cf3d1b992b9",
   "metadata": {},
   "outputs": [
    {
     "data": {
      "image/png": "[encoded data removed]",
      "text/plain": [
       "<Figure size 1400x300 with 1 Axes>"
      ]
     },
     "metadata": {},
     "output_type": "display_data"
    }
   ],
   "source": [
    "def plot_ts_predictions(\n",
    "    x_obs: np.ndarray, \n",
    "    t_obs_orig: np.ndarray, \n",
    "    x_unobs: np.ndarray, \n",
    "    t_unobs_orig: np.ndarray, \n",
    "    cols: Optional[List[int]] = None, \n",
    "    x_all_hat: Optional[np.ndarray] = None, \n",
    "    col_names: Optional[List[str]] = None\n",
    ") -> plt.Figure:\n",
    "    \"\"\"\n",
    "    Plots time series with optional predictions\n",
    "    \n",
    "    Args:\n",
    "        x_obs: Observable data (history)\n",
    "        t_obs_orig: Observable data corresponding datetime points\n",
    "        x_unobs: Unobservable data (future)\n",
    "        t_unobs_orig: Unobservable data corresponding datetime points\n",
    "        cols: Column indices to plot\n",
    "        x_all_hat: Predictions\n",
    "        col_names: Column names for plot\n",
    "    \n",
    "    Returns:\n",
    "        Plot figure\n",
    "    \"\"\"\n",
    "    if cols is None:\n",
    "        cols = list(range(x_obs.shape[-1]))\n",
    "    \n",
    "    n_cols = len(cols)\n",
    "    fig = plt.figure(figsize=(14, 3*n_cols))\n",
    "    for plot_index, col_index in enumerate(cols):\n",
    "        plt.subplot(n_cols, 1, plot_index+1)\n",
    "        plt.xlabel('time')\n",
    "        plt.ylabel(str(col_index) if col_names is None else col_names[col_index])\n",
    "        plt.title(str(col_index) if col_names is None else col_names[col_index])\n",
    "        \n",
    "        plt.plot(t_obs_orig, x_obs[:, 0, col_index], label='Inputs', c='blue', marker='.', zorder=0)\n",
    "        plt.plot(t_unobs_orig, x_unobs[:, 0, col_index], label='Labels', marker='.', c='#2ca02c', zorder=2)\n",
    "        plt.scatter(t_unobs_orig, x_unobs[:, 0, col_index], marker='.', edgecolors='k', c='#2ca02c', s=64, zorder=2)\n",
    "        if x_all_hat is not None: \n",
    "            t_all = np.hstack([t_obs_orig, t_unobs_orig])\n",
    "            plt.scatter(t_all, x_all_hat[:, 0, col_index], label='Predictions', marker='X', edgecolors='k', c='#ff7f0e', s=64, zorder=3)\n",
    "        plt.legend()\n",
    "        \n",
    "    plt.tight_layout()\n",
    "    return fig\n",
    "\n",
    "\n",
    "\n",
    "sample_index = 1354\n",
    "x_obs, t_obs, x_all, t_all = val_dataset[sample_index]\n",
    "x_obs, t_obs, x_all, t_all = [val.to(DEVICE).unsqueeze(1) for val in [x_obs, t_obs, x_all, t_all]]\n",
    "ode_vae.eval()\n",
    "x_hat, _, _ = ode_vae(x_obs, t_obs, t_all)\n",
    "x_obs, x_all, x_hat = [val.detach().cpu().numpy() for val in [x_obs, x_all, x_hat]]\n",
    "t_obs_orig, t_unobs_orig, t_all_orig = val_dataset.time(sample_index)\n",
    "x_unobs, x_hat_obs, x_hat_unobs = x_all[-P_STEP:], x_hat[:H_STEP], x_hat[-P_STEP:]\n",
    "\n",
    "plot_ts_predictions(x_obs, t_obs_orig, x_unobs, t_unobs_orig, x_all_hat=x_hat, col_names=SELECTED_COLUMNS)\n",
    "plt.show()"
   ]
  },
  {
   "cell_type": "code",
   "execution_count": null,
   "id": "3a13fdd4-5036-42c0-b140-8766e1c24724",
   "metadata": {},
   "outputs": [],
   "source": []
  }
 ],
 "metadata": {
  "kernelspec": {
   "display_name": "Python 3 (ipykernel)",
   "language": "python",
   "name": "python3"
  },
  "language_info": {
   "codemirror_mode": {
    "name": "ipython",
    "version": 3
   },
   "file_extension": ".py",
   "mimetype": "text/x-python",
   "name": "python",
   "nbconvert_exporter": "python",
   "pygments_lexer": "ipython3",
   "version": "3.8.10"
  }
 },
 "nbformat": 4,
 "nbformat_minor": 5
}
